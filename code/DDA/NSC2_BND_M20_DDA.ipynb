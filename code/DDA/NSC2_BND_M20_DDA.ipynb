{
 "cells": [
  {
   "cell_type": "code",
   "execution_count": 5,
   "id": "d087768d-9c12-4635-bb4f-df8c1341ebd2",
   "metadata": {
    "tags": []
   },
   "outputs": [],
   "source": [
    "import pymongo as mg\n",
    "import pandas as pd"
   ]
  },
  {
   "cell_type": "code",
   "execution_count": 6,
   "id": "1758e12f-5238-4147-9b88-7ba98cec70c3",
   "metadata": {
    "tags": []
   },
   "outputs": [],
   "source": [
    "client = mg.MongoClient(host='mongodb://localhost:27017')"
   ]
  },
  {
   "cell_type": "code",
   "execution_count": 7,
   "id": "64444609-e2a8-42c6-8ca5-45db6a321f9c",
   "metadata": {
    "tags": []
   },
   "outputs": [
    {
     "data": {
      "text/plain": [
       "'3.12.0'"
      ]
     },
     "execution_count": 7,
     "metadata": {},
     "output_type": "execute_result"
    }
   ],
   "source": [
    "mg.__version__"
   ]
  },
  {
   "cell_type": "code",
   "execution_count": 8,
   "id": "acab1585-4d5f-4131-9f38-ac324b137fd5",
   "metadata": {
    "tags": []
   },
   "outputs": [
    {
     "data": {
      "text/plain": [
       "MongoClient(host=['localhost:27017'], document_class=dict, tz_aware=False, connect=True)"
      ]
     },
     "execution_count": 8,
     "metadata": {},
     "output_type": "execute_result"
    }
   ],
   "source": [
    "client"
   ]
  },
  {
   "cell_type": "code",
   "execution_count": 9,
   "id": "b4917cad-d868-43fb-a16f-15dd90b69c1e",
   "metadata": {
    "tags": []
   },
   "outputs": [],
   "source": [
    "database = client['db_NHIS']"
   ]
  },
  {
   "cell_type": "code",
   "execution_count": 10,
   "id": "9a0c1cea-07d8-4caa-9082-b0f78e71cba8",
   "metadata": {
    "tags": []
   },
   "outputs": [],
   "source": [
    "collection = database['NSC2_BND_M20']"
   ]
  },
  {
   "cell_type": "code",
   "execution_count": 11,
   "id": "25372c03-a05a-4271-aac1-35565da0de15",
   "metadata": {
    "tags": []
   },
   "outputs": [],
   "source": [
    "cursor = collection.find({'SICK_SYM1':\"I10\"})"
   ]
  },
  {
   "cell_type": "code",
   "execution_count": 12,
   "id": "3ed87f0c-cacd-4ba3-87f6-55e9d66554f0",
   "metadata": {
    "tags": []
   },
   "outputs": [],
   "source": [
    "list_BND_M20 = list(cursor)"
   ]
  },
  {
   "cell_type": "code",
   "execution_count": 13,
   "id": "631cc70d-e449-43ea-8565-8365b922f78b",
   "metadata": {
    "collapsed": true,
    "jupyter": {
     "outputs_hidden": true
    },
    "tags": []
   },
   "outputs": [
    {
     "data": {
      "text/plain": [
       "[]"
      ]
     },
     "execution_count": 13,
     "metadata": {},
     "output_type": "execute_result"
    }
   ],
   "source": [
    "list_BND_M20"
   ]
  },
  {
   "cell_type": "code",
   "execution_count": 14,
   "id": "c5acf687-a252-4b47-aff8-421917ae3e4c",
   "metadata": {
    "tags": []
   },
   "outputs": [],
   "source": [
    "df_BND_M20 = pd.DataFrame(list_BND_M20)"
   ]
  },
  {
   "cell_type": "code",
   "execution_count": 15,
   "id": "0cc22d39-2f6b-4dcf-ac14-9195da93da12",
   "metadata": {
    "tags": []
   },
   "outputs": [
    {
     "data": {
      "text/html": [
       "<div>\n",
       "<style scoped>\n",
       "    .dataframe tbody tr th:only-of-type {\n",
       "        vertical-align: middle;\n",
       "    }\n",
       "\n",
       "    .dataframe tbody tr th {\n",
       "        vertical-align: top;\n",
       "    }\n",
       "\n",
       "    .dataframe thead th {\n",
       "        text-align: right;\n",
       "    }\n",
       "</style>\n",
       "<table border=\"1\" class=\"dataframe\">\n",
       "  <thead>\n",
       "    <tr style=\"text-align: right;\">\n",
       "      <th></th>\n",
       "    </tr>\n",
       "  </thead>\n",
       "  <tbody>\n",
       "  </tbody>\n",
       "</table>\n",
       "</div>"
      ],
      "text/plain": [
       "Empty DataFrame\n",
       "Columns: []\n",
       "Index: []"
      ]
     },
     "execution_count": 15,
     "metadata": {},
     "output_type": "execute_result"
    }
   ],
   "source": [
    "df_BND_M20"
   ]
  },
  {
   "cell_type": "code",
   "execution_count": 16,
   "id": "886c06b0-f77a-4d1d-a3c7-c1c46f5ea7dc",
   "metadata": {
    "tags": []
   },
   "outputs": [],
   "source": [
    "# df_BND_M20.to_csv('../../dataset/BND_M20.csv')"
   ]
  },
  {
   "cell_type": "code",
   "execution_count": 17,
   "id": "fe190d6c-6847-4763-8892-271274494738",
   "metadata": {
    "tags": []
   },
   "outputs": [
    {
     "data": {
      "text/html": [
       "<div>\n",
       "<style scoped>\n",
       "    .dataframe tbody tr th:only-of-type {\n",
       "        vertical-align: middle;\n",
       "    }\n",
       "\n",
       "    .dataframe tbody tr th {\n",
       "        vertical-align: top;\n",
       "    }\n",
       "\n",
       "    .dataframe thead th {\n",
       "        text-align: right;\n",
       "    }\n",
       "</style>\n",
       "<table border=\"1\" class=\"dataframe\">\n",
       "  <thead>\n",
       "    <tr style=\"text-align: right;\">\n",
       "      <th></th>\n",
       "      <th>Unnamed: 0</th>\n",
       "      <th>_id</th>\n",
       "      <th>RN_INDI</th>\n",
       "      <th>BTH_YYYY</th>\n",
       "      <th>DTH_YYYYMM</th>\n",
       "      <th>COD1</th>\n",
       "      <th>EDC_ADD_RT</th>\n",
       "      <th>ED_RC_TOT_AMT</th>\n",
       "      <th>RN_KEY</th>\n",
       "      <th>RN_INST</th>\n",
       "      <th>...</th>\n",
       "      <th>OFIJ_TYPE</th>\n",
       "      <th>OPRTN_YN</th>\n",
       "      <th>MDCARE_DD_CNT</th>\n",
       "      <th>VSHSP_DD_CNT</th>\n",
       "      <th>TOT_PRSC_DD_CNT</th>\n",
       "      <th>MCARE_RSLT_TYPE</th>\n",
       "      <th>EDC_SBA</th>\n",
       "      <th>EDC_INSUR_BRDN_AMT</th>\n",
       "      <th>STD_YYYY</th>\n",
       "      <th>COD2</th>\n",
       "    </tr>\n",
       "  </thead>\n",
       "  <tbody>\n",
       "    <tr>\n",
       "      <th>4619</th>\n",
       "      <td>4619</td>\n",
       "      <td>64e6c8ca19427f4de44761b4</td>\n",
       "      <td>759439</td>\n",
       "      <td>2004</td>\n",
       "      <td>NaN</td>\n",
       "      <td>NaN</td>\n",
       "      <td>0.25</td>\n",
       "      <td>11080</td>\n",
       "      <td>2009020170558</td>\n",
       "      <td>521</td>\n",
       "      <td>...</td>\n",
       "      <td>0</td>\n",
       "      <td>0</td>\n",
       "      <td>1</td>\n",
       "      <td>1</td>\n",
       "      <td>60</td>\n",
       "      <td>1.0</td>\n",
       "      <td>5540</td>\n",
       "      <td>5540</td>\n",
       "      <td>2009</td>\n",
       "      <td>NaN</td>\n",
       "    </tr>\n",
       "    <tr>\n",
       "      <th>4620</th>\n",
       "      <td>4620</td>\n",
       "      <td>64e6c8ca19427f4de44761ba</td>\n",
       "      <td>759439</td>\n",
       "      <td>2004</td>\n",
       "      <td>NaN</td>\n",
       "      <td>NaN</td>\n",
       "      <td>0.25</td>\n",
       "      <td>11240</td>\n",
       "      <td>2010081680111</td>\n",
       "      <td>521</td>\n",
       "      <td>...</td>\n",
       "      <td>0</td>\n",
       "      <td>0</td>\n",
       "      <td>1</td>\n",
       "      <td>1</td>\n",
       "      <td>90</td>\n",
       "      <td>1.0</td>\n",
       "      <td>5600</td>\n",
       "      <td>5640</td>\n",
       "      <td>2010</td>\n",
       "      <td>NaN</td>\n",
       "    </tr>\n",
       "    <tr>\n",
       "      <th>4621</th>\n",
       "      <td>4621</td>\n",
       "      <td>64e6c8ca19427f4de44761bb</td>\n",
       "      <td>759439</td>\n",
       "      <td>2004</td>\n",
       "      <td>NaN</td>\n",
       "      <td>NaN</td>\n",
       "      <td>0.25</td>\n",
       "      <td>11240</td>\n",
       "      <td>2010050734163</td>\n",
       "      <td>521</td>\n",
       "      <td>...</td>\n",
       "      <td>0</td>\n",
       "      <td>0</td>\n",
       "      <td>1</td>\n",
       "      <td>1</td>\n",
       "      <td>90</td>\n",
       "      <td>1.0</td>\n",
       "      <td>5600</td>\n",
       "      <td>5640</td>\n",
       "      <td>2010</td>\n",
       "      <td>NaN</td>\n",
       "    </tr>\n",
       "    <tr>\n",
       "      <th>4622</th>\n",
       "      <td>4622</td>\n",
       "      <td>64e6c8ca19427f4de44763be</td>\n",
       "      <td>314882</td>\n",
       "      <td>2005</td>\n",
       "      <td>NaN</td>\n",
       "      <td>NaN</td>\n",
       "      <td>0.15</td>\n",
       "      <td>10740</td>\n",
       "      <td>2005110384827</td>\n",
       "      <td>110842</td>\n",
       "      <td>...</td>\n",
       "      <td>0</td>\n",
       "      <td>0</td>\n",
       "      <td>1</td>\n",
       "      <td>1</td>\n",
       "      <td>30</td>\n",
       "      <td>1.0</td>\n",
       "      <td>3000</td>\n",
       "      <td>7740</td>\n",
       "      <td>2005</td>\n",
       "      <td>NaN</td>\n",
       "    </tr>\n",
       "    <tr>\n",
       "      <th>4623</th>\n",
       "      <td>4623</td>\n",
       "      <td>64e6c8ca19427f4de44763bf</td>\n",
       "      <td>314882</td>\n",
       "      <td>2005</td>\n",
       "      <td>NaN</td>\n",
       "      <td>NaN</td>\n",
       "      <td>0.15</td>\n",
       "      <td>10740</td>\n",
       "      <td>2005051438340</td>\n",
       "      <td>110842</td>\n",
       "      <td>...</td>\n",
       "      <td>0</td>\n",
       "      <td>0</td>\n",
       "      <td>1</td>\n",
       "      <td>1</td>\n",
       "      <td>30</td>\n",
       "      <td>1.0</td>\n",
       "      <td>3000</td>\n",
       "      <td>7740</td>\n",
       "      <td>2005</td>\n",
       "      <td>NaN</td>\n",
       "    </tr>\n",
       "    <tr>\n",
       "      <th>4624</th>\n",
       "      <td>4624</td>\n",
       "      <td>64e6c8ca19427f4de44763c0</td>\n",
       "      <td>314882</td>\n",
       "      <td>2005</td>\n",
       "      <td>NaN</td>\n",
       "      <td>NaN</td>\n",
       "      <td>0.15</td>\n",
       "      <td>9050</td>\n",
       "      <td>2005120635229</td>\n",
       "      <td>110842</td>\n",
       "      <td>...</td>\n",
       "      <td>0</td>\n",
       "      <td>0</td>\n",
       "      <td>1</td>\n",
       "      <td>1</td>\n",
       "      <td>30</td>\n",
       "      <td>1.0</td>\n",
       "      <td>3000</td>\n",
       "      <td>6050</td>\n",
       "      <td>2005</td>\n",
       "      <td>NaN</td>\n",
       "    </tr>\n",
       "    <tr>\n",
       "      <th>4625</th>\n",
       "      <td>4625</td>\n",
       "      <td>64e6c8ca19427f4de44763c1</td>\n",
       "      <td>314882</td>\n",
       "      <td>2005</td>\n",
       "      <td>NaN</td>\n",
       "      <td>NaN</td>\n",
       "      <td>0.15</td>\n",
       "      <td>9050</td>\n",
       "      <td>2005060585142</td>\n",
       "      <td>110842</td>\n",
       "      <td>...</td>\n",
       "      <td>0</td>\n",
       "      <td>0</td>\n",
       "      <td>1</td>\n",
       "      <td>1</td>\n",
       "      <td>30</td>\n",
       "      <td>1.0</td>\n",
       "      <td>3000</td>\n",
       "      <td>6050</td>\n",
       "      <td>2005</td>\n",
       "      <td>NaN</td>\n",
       "    </tr>\n",
       "    <tr>\n",
       "      <th>4626</th>\n",
       "      <td>4626</td>\n",
       "      <td>64e6c8ca19427f4de44763c2</td>\n",
       "      <td>314882</td>\n",
       "      <td>2005</td>\n",
       "      <td>NaN</td>\n",
       "      <td>NaN</td>\n",
       "      <td>0.15</td>\n",
       "      <td>9050</td>\n",
       "      <td>2005070407648</td>\n",
       "      <td>110842</td>\n",
       "      <td>...</td>\n",
       "      <td>0</td>\n",
       "      <td>0</td>\n",
       "      <td>1</td>\n",
       "      <td>1</td>\n",
       "      <td>30</td>\n",
       "      <td>1.0</td>\n",
       "      <td>3000</td>\n",
       "      <td>6050</td>\n",
       "      <td>2005</td>\n",
       "      <td>NaN</td>\n",
       "    </tr>\n",
       "    <tr>\n",
       "      <th>4627</th>\n",
       "      <td>4627</td>\n",
       "      <td>64e6c8ca19427f4de44763cb</td>\n",
       "      <td>314882</td>\n",
       "      <td>2005</td>\n",
       "      <td>NaN</td>\n",
       "      <td>NaN</td>\n",
       "      <td>0.15</td>\n",
       "      <td>9380</td>\n",
       "      <td>2006010136092</td>\n",
       "      <td>110842</td>\n",
       "      <td>...</td>\n",
       "      <td>0</td>\n",
       "      <td>0</td>\n",
       "      <td>1</td>\n",
       "      <td>1</td>\n",
       "      <td>30</td>\n",
       "      <td>1.0</td>\n",
       "      <td>3000</td>\n",
       "      <td>6380</td>\n",
       "      <td>2006</td>\n",
       "      <td>NaN</td>\n",
       "    </tr>\n",
       "    <tr>\n",
       "      <th>4628</th>\n",
       "      <td>4628</td>\n",
       "      <td>64e6c8ca19427f4de447642a</td>\n",
       "      <td>314882</td>\n",
       "      <td>2005</td>\n",
       "      <td>NaN</td>\n",
       "      <td>NaN</td>\n",
       "      <td>0.15</td>\n",
       "      <td>12280</td>\n",
       "      <td>2010110318764</td>\n",
       "      <td>127359</td>\n",
       "      <td>...</td>\n",
       "      <td>0</td>\n",
       "      <td>0</td>\n",
       "      <td>1</td>\n",
       "      <td>1</td>\n",
       "      <td>30</td>\n",
       "      <td>1.0</td>\n",
       "      <td>1500</td>\n",
       "      <td>10780</td>\n",
       "      <td>2010</td>\n",
       "      <td>NaN</td>\n",
       "    </tr>\n",
       "  </tbody>\n",
       "</table>\n",
       "<p>10 rows × 24 columns</p>\n",
       "</div>"
      ],
      "text/plain": [
       "      Unnamed: 0                       _id  RN_INDI BTH_YYYY  DTH_YYYYMM COD1  \\\n",
       "4619        4619  64e6c8ca19427f4de44761b4   759439     2004         NaN  NaN   \n",
       "4620        4620  64e6c8ca19427f4de44761ba   759439     2004         NaN  NaN   \n",
       "4621        4621  64e6c8ca19427f4de44761bb   759439     2004         NaN  NaN   \n",
       "4622        4622  64e6c8ca19427f4de44763be   314882     2005         NaN  NaN   \n",
       "4623        4623  64e6c8ca19427f4de44763bf   314882     2005         NaN  NaN   \n",
       "4624        4624  64e6c8ca19427f4de44763c0   314882     2005         NaN  NaN   \n",
       "4625        4625  64e6c8ca19427f4de44763c1   314882     2005         NaN  NaN   \n",
       "4626        4626  64e6c8ca19427f4de44763c2   314882     2005         NaN  NaN   \n",
       "4627        4627  64e6c8ca19427f4de44763cb   314882     2005         NaN  NaN   \n",
       "4628        4628  64e6c8ca19427f4de447642a   314882     2005         NaN  NaN   \n",
       "\n",
       "      EDC_ADD_RT  ED_RC_TOT_AMT         RN_KEY  RN_INST  ...  OFIJ_TYPE  \\\n",
       "4619        0.25          11080  2009020170558      521  ...          0   \n",
       "4620        0.25          11240  2010081680111      521  ...          0   \n",
       "4621        0.25          11240  2010050734163      521  ...          0   \n",
       "4622        0.15          10740  2005110384827   110842  ...          0   \n",
       "4623        0.15          10740  2005051438340   110842  ...          0   \n",
       "4624        0.15           9050  2005120635229   110842  ...          0   \n",
       "4625        0.15           9050  2005060585142   110842  ...          0   \n",
       "4626        0.15           9050  2005070407648   110842  ...          0   \n",
       "4627        0.15           9380  2006010136092   110842  ...          0   \n",
       "4628        0.15          12280  2010110318764   127359  ...          0   \n",
       "\n",
       "      OPRTN_YN  MDCARE_DD_CNT VSHSP_DD_CNT TOT_PRSC_DD_CNT  MCARE_RSLT_TYPE  \\\n",
       "4619         0              1            1              60              1.0   \n",
       "4620         0              1            1              90              1.0   \n",
       "4621         0              1            1              90              1.0   \n",
       "4622         0              1            1              30              1.0   \n",
       "4623         0              1            1              30              1.0   \n",
       "4624         0              1            1              30              1.0   \n",
       "4625         0              1            1              30              1.0   \n",
       "4626         0              1            1              30              1.0   \n",
       "4627         0              1            1              30              1.0   \n",
       "4628         0              1            1              30              1.0   \n",
       "\n",
       "      EDC_SBA  EDC_INSUR_BRDN_AMT  STD_YYYY  COD2  \n",
       "4619     5540                5540      2009   NaN  \n",
       "4620     5600                5640      2010   NaN  \n",
       "4621     5600                5640      2010   NaN  \n",
       "4622     3000                7740      2005   NaN  \n",
       "4623     3000                7740      2005   NaN  \n",
       "4624     3000                6050      2005   NaN  \n",
       "4625     3000                6050      2005   NaN  \n",
       "4626     3000                6050      2005   NaN  \n",
       "4627     3000                6380      2006   NaN  \n",
       "4628     1500               10780      2010   NaN  \n",
       "\n",
       "[10 rows x 24 columns]"
      ]
     },
     "execution_count": 17,
     "metadata": {},
     "output_type": "execute_result"
    }
   ],
   "source": [
    "df_BND_M20 = pd.read_csv('../../dataset/BND_M20.csv')\n",
    "df_BND_M20[-10:]"
   ]
  },
  {
   "cell_type": "code",
   "execution_count": 18,
   "id": "64ddbe4b-884b-4455-b0ac-7bf26f8f7d46",
   "metadata": {
    "tags": []
   },
   "outputs": [
    {
     "name": "stdout",
     "output_type": "stream",
     "text": [
      "<class 'pandas.core.frame.DataFrame'>\n",
      "RangeIndex: 4629 entries, 0 to 4628\n",
      "Data columns (total 24 columns):\n",
      " #   Column              Non-Null Count  Dtype  \n",
      "---  ------              --------------  -----  \n",
      " 0   Unnamed: 0          4629 non-null   int64  \n",
      " 1   _id                 4629 non-null   object \n",
      " 2   RN_INDI             4629 non-null   int64  \n",
      " 3   BTH_YYYY            4629 non-null   object \n",
      " 4   DTH_YYYYMM          373 non-null    float64\n",
      " 5   COD1                314 non-null    object \n",
      " 6   EDC_ADD_RT          4629 non-null   float64\n",
      " 7   ED_RC_TOT_AMT       4629 non-null   int64  \n",
      " 8   RN_KEY              4629 non-null   int64  \n",
      " 9   RN_INST             4629 non-null   int64  \n",
      " 10  MDCARE_STRT_DT      4629 non-null   int64  \n",
      " 11  FORM_CD             4629 non-null   int64  \n",
      " 12  MCARE_SUBJ_CD       4629 non-null   int64  \n",
      " 13  SICK_SYM1           4629 non-null   object \n",
      " 14  OFIJ_TYPE           4522 non-null   object \n",
      " 15  OPRTN_YN            4629 non-null   int64  \n",
      " 16  MDCARE_DD_CNT       4629 non-null   int64  \n",
      " 17  VSHSP_DD_CNT        4629 non-null   int64  \n",
      " 18  TOT_PRSC_DD_CNT     4629 non-null   int64  \n",
      " 19  MCARE_RSLT_TYPE     4205 non-null   float64\n",
      " 20  EDC_SBA             4629 non-null   int64  \n",
      " 21  EDC_INSUR_BRDN_AMT  4629 non-null   int64  \n",
      " 22  STD_YYYY            4629 non-null   int64  \n",
      " 23  COD2                21 non-null     object \n",
      "dtypes: float64(3), int64(15), object(6)\n",
      "memory usage: 868.1+ KB\n"
     ]
    }
   ],
   "source": [
    "df_BND_M20.info()"
   ]
  },
  {
   "cell_type": "code",
   "execution_count": 19,
   "id": "a93166c8-bd2b-433f-9b99-dfc32eb3aaca",
   "metadata": {
    "tags": []
   },
   "outputs": [
    {
     "data": {
      "text/plain": [
       "1     3875\n",
       "0      415\n",
       "23     160\n",
       "5       86\n",
       "2       29\n",
       "6       19\n",
       "19      19\n",
       "21      15\n",
       "3        5\n",
       "4        3\n",
       "24       3\n",
       "Name: MCARE_SUBJ_CD, dtype: int64"
      ]
     },
     "execution_count": 19,
     "metadata": {},
     "output_type": "execute_result"
    }
   ],
   "source": [
    "df_BND_M20['MCARE_SUBJ_CD'].value_counts()"
   ]
  },
  {
   "cell_type": "code",
   "execution_count": 20,
   "id": "62ae937b-d738-4b14-87d0-e9d797fb9908",
   "metadata": {
    "tags": []
   },
   "outputs": [],
   "source": [
    "df_BND_M20_analysis = df_BND_M20[['MCARE_RSLT_TYPE', 'OPRTN_YN', 'VSHSP_DD_CNT', 'TOT_PRSC_DD_CNT', 'EDC_SBA', 'BTH_YYYY']]"
   ]
  },
  {
   "cell_type": "code",
   "execution_count": 21,
   "id": "d0af20ad-f72a-433b-9ccc-d55b0e0d55da",
   "metadata": {
    "tags": []
   },
   "outputs": [
    {
     "name": "stdout",
     "output_type": "stream",
     "text": [
      "<class 'pandas.core.frame.DataFrame'>\n",
      "RangeIndex: 4629 entries, 0 to 4628\n",
      "Data columns (total 6 columns):\n",
      " #   Column           Non-Null Count  Dtype  \n",
      "---  ------           --------------  -----  \n",
      " 0   MCARE_RSLT_TYPE  4205 non-null   float64\n",
      " 1   OPRTN_YN         4629 non-null   int64  \n",
      " 2   VSHSP_DD_CNT     4629 non-null   int64  \n",
      " 3   TOT_PRSC_DD_CNT  4629 non-null   int64  \n",
      " 4   EDC_SBA          4629 non-null   int64  \n",
      " 5   BTH_YYYY         4629 non-null   object \n",
      "dtypes: float64(1), int64(4), object(1)\n",
      "memory usage: 217.1+ KB\n"
     ]
    }
   ],
   "source": [
    "df_BND_M20_analysis.info()"
   ]
  },
  {
   "cell_type": "code",
   "execution_count": 22,
   "id": "fe3d7ff0-9f98-4232-947d-85f5d9c28c30",
   "metadata": {
    "tags": []
   },
   "outputs": [
    {
     "data": {
      "text/plain": [
       "MCARE_RSLT_TYPE    424\n",
       "OPRTN_YN             0\n",
       "VSHSP_DD_CNT         0\n",
       "TOT_PRSC_DD_CNT      0\n",
       "EDC_SBA              0\n",
       "BTH_YYYY             0\n",
       "dtype: int64"
      ]
     },
     "execution_count": 22,
     "metadata": {},
     "output_type": "execute_result"
    }
   ],
   "source": [
    "df_BND_M20_analysis.isnull().sum()"
   ]
  },
  {
   "cell_type": "code",
   "execution_count": 23,
   "id": "709c06b8-74d8-4b19-858c-be4ae1c506f0",
   "metadata": {
    "tags": []
   },
   "outputs": [],
   "source": [
    "df_BND_M20_analysis = df_BND_M20_analysis.dropna().copy()"
   ]
  },
  {
   "cell_type": "code",
   "execution_count": 24,
   "id": "410c4b89-763d-4225-8766-9ecc22815f1e",
   "metadata": {
    "tags": []
   },
   "outputs": [],
   "source": [
    "df_BND_M20_analysis.to_csv('../../dataset/BND_M20_analysis.csv')"
   ]
  }
 ],
 "metadata": {
  "kernelspec": {
   "display_name": "Python 3 (ipykernel)",
   "language": "python",
   "name": "python3"
  },
  "language_info": {
   "codemirror_mode": {
    "name": "ipython",
    "version": 3
   },
   "file_extension": ".py",
   "mimetype": "text/x-python",
   "name": "python",
   "nbconvert_exporter": "python",
   "pygments_lexer": "ipython3",
   "version": "3.11.3"
  }
 },
 "nbformat": 4,
 "nbformat_minor": 5
}
