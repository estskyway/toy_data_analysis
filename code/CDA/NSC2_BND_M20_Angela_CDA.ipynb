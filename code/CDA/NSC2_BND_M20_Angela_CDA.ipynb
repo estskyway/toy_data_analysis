{
 "cells": [
  {
   "cell_type": "code",
   "execution_count": 3,
   "id": "4d4ee01c-7852-4e5e-9a5a-78345764ec50",
   "metadata": {
    "tags": []
   },
   "outputs": [],
   "source": [
    "import pandas as pd\n",
    "import seaborn as sns\n",
    "import matplotlib.pyplot as plt\n",
    "import matplotlib as mpl\n",
    "mpl.rc('font',family='Malgun Gothic')\n",
    "mpl.rcParams['axes.unicode_minus'] = False\n",
    "import scipy.stats as stats"
   ]
  },
  {
   "cell_type": "code",
   "execution_count": 4,
   "id": "2c24463a-433e-40b2-a61b-4060d04a6eff",
   "metadata": {
    "tags": []
   },
   "outputs": [
    {
     "data": {
      "text/html": [
       "<div>\n",
       "<style scoped>\n",
       "    .dataframe tbody tr th:only-of-type {\n",
       "        vertical-align: middle;\n",
       "    }\n",
       "\n",
       "    .dataframe tbody tr th {\n",
       "        vertical-align: top;\n",
       "    }\n",
       "\n",
       "    .dataframe thead th {\n",
       "        text-align: right;\n",
       "    }\n",
       "</style>\n",
       "<table border=\"1\" class=\"dataframe\">\n",
       "  <thead>\n",
       "    <tr style=\"text-align: right;\">\n",
       "      <th></th>\n",
       "      <th>Unnamed: 0</th>\n",
       "      <th>MCARE_RSLT_TYPE</th>\n",
       "      <th>OPRTN_YN</th>\n",
       "      <th>VSHSP_DD_CNT</th>\n",
       "      <th>TOT_PRSC_DD_CNT</th>\n",
       "      <th>EDC_SBA</th>\n",
       "      <th>BTH_YYYY</th>\n",
       "    </tr>\n",
       "  </thead>\n",
       "  <tbody>\n",
       "    <tr>\n",
       "      <th>0</th>\n",
       "      <td>0</td>\n",
       "      <td>5.0</td>\n",
       "      <td>0</td>\n",
       "      <td>1</td>\n",
       "      <td>30</td>\n",
       "      <td>3000</td>\n",
       "      <td>1921LE</td>\n",
       "    </tr>\n",
       "    <tr>\n",
       "      <th>1</th>\n",
       "      <td>1</td>\n",
       "      <td>5.0</td>\n",
       "      <td>0</td>\n",
       "      <td>2</td>\n",
       "      <td>60</td>\n",
       "      <td>6000</td>\n",
       "      <td>1921LE</td>\n",
       "    </tr>\n",
       "  </tbody>\n",
       "</table>\n",
       "</div>"
      ],
      "text/plain": [
       "   Unnamed: 0  MCARE_RSLT_TYPE  OPRTN_YN  VSHSP_DD_CNT  TOT_PRSC_DD_CNT  \\\n",
       "0           0              5.0         0             1               30   \n",
       "1           1              5.0         0             2               60   \n",
       "\n",
       "   EDC_SBA BTH_YYYY  \n",
       "0     3000   1921LE  \n",
       "1     6000   1921LE  "
      ]
     },
     "execution_count": 4,
     "metadata": {},
     "output_type": "execute_result"
    }
   ],
   "source": [
    "df_BND_M20_analysis = pd.read_csv('../../dataset/BND_M20_analysis.csv')\n",
    "df_BND_M20_analysis.head(2)"
   ]
  },
  {
   "cell_type": "code",
   "execution_count": 7,
   "id": "ce76230b-b64b-4f6d-82b6-9541a86eb5ba",
   "metadata": {},
   "outputs": [
    {
     "name": "stdout",
     "output_type": "stream",
     "text": [
      "<class 'pandas.core.frame.DataFrame'>\n",
      "Int64Index: 4194 entries, 11 to 4204\n",
      "Data columns (total 4 columns):\n",
      " #   Column           Non-Null Count  Dtype \n",
      "---  ------           --------------  ----- \n",
      " 0   MCARE_RSLT_TYPE  4194 non-null   object\n",
      " 1   OPRTN_YN         4194 non-null   object\n",
      " 2   VSHSP_DD_CNT     4194 non-null   int64 \n",
      " 3   BTH_YYYY         4194 non-null   int32 \n",
      "dtypes: int32(1), int64(1), object(2)\n",
      "memory usage: 147.4+ KB\n"
     ]
    }
   ],
   "source": [
    "df_BND_M20_analysis_01 = df_BND_M20_analysis[['MCARE_RSLT_TYPE', 'OPRTN_YN', 'VSHSP_DD_CNT', 'BTH_YYYY']]\n",
    "df_BND_M20_analysis_01 =df_BND_M20_analysis_01[df_BND_M20_analysis_01['BTH_YYYY'] != '1921LE']\n",
    "df_BND_M20_analysis_01[['MCARE_RSLT_TYPE', 'OPRTN_YN']] = df_BND_M20_analysis_01[['MCARE_RSLT_TYPE', 'OPRTN_YN']].astype(object)\n",
    "df_BND_M20_analysis_01['BTH_YYYY'] = df_BND_M20_analysis_01['BTH_YYYY'].astype(int)\n",
    "df_BND_M20_analysis_01.info()"
   ]
  },
  {
   "cell_type": "markdown",
   "id": "d6e82d36-bc40-43df-942c-7be7a808b556",
   "metadata": {},
   "source": [
    "# 범주형-범주형: barplot 진료결과구분 MCARE_RSLT_TYPE - 수술여부 OPRTN_YN - ch2 test 독립성 증명 \n",
    "- 선정 변수: MCARE_RSLT_TYPE, OPRTN_YN \n",
    "- 분석 내용: 수술여부에 따라서 진료결과구분이 달라지는가? \n",
    "    - 귀무가설: 수술여부에 따라서 진료결과구분이 달라지지 않는다. \n",
    "    - 대립가설: 수술여부에 따라서 진료결과구분이 달라진다.   \n",
    "- 분석 결론 (기준 : p-value 0.05)\n",
    "    - 통계 결론: 귀무가설(pvalue=0.636)\n",
    "    - 사실 결론: 통증기간에 따라서 입원기간 변화가 없다. "
   ]
  },
  {
   "cell_type": "code",
   "execution_count": 8,
   "id": "6941f57e-c126-45f4-a387-1ce8866e5010",
   "metadata": {
    "tags": []
   },
   "outputs": [],
   "source": [
    "df_BND_M20_category = df_BND_M20_analysis_01[['MCARE_RSLT_TYPE', 'OPRTN_YN']]"
   ]
  },
  {
   "cell_type": "code",
   "execution_count": 10,
   "id": "5c3bf904-d6a2-4e9e-a54e-41ff4e07caac",
   "metadata": {
    "tags": []
   },
   "outputs": [
    {
     "data": {
      "text/html": [
       "<div>\n",
       "<style scoped>\n",
       "    .dataframe tbody tr th:only-of-type {\n",
       "        vertical-align: middle;\n",
       "    }\n",
       "\n",
       "    .dataframe tbody tr th {\n",
       "        vertical-align: top;\n",
       "    }\n",
       "\n",
       "    .dataframe thead th {\n",
       "        text-align: right;\n",
       "    }\n",
       "</style>\n",
       "<table border=\"1\" class=\"dataframe\">\n",
       "  <thead>\n",
       "    <tr style=\"text-align: right;\">\n",
       "      <th>MCARE_RSLT_TYPE</th>\n",
       "      <th>1.0</th>\n",
       "      <th>2.0</th>\n",
       "      <th>5.0</th>\n",
       "      <th>9.0</th>\n",
       "    </tr>\n",
       "    <tr>\n",
       "      <th>OPRTN_YN</th>\n",
       "      <th></th>\n",
       "      <th></th>\n",
       "      <th></th>\n",
       "      <th></th>\n",
       "    </tr>\n",
       "  </thead>\n",
       "  <tbody>\n",
       "    <tr>\n",
       "      <th>0</th>\n",
       "      <td>3289.0</td>\n",
       "      <td>1.0</td>\n",
       "      <td>865.0</td>\n",
       "      <td>36.0</td>\n",
       "    </tr>\n",
       "    <tr>\n",
       "      <th>9</th>\n",
       "      <td>2.0</td>\n",
       "      <td>NaN</td>\n",
       "      <td>1.0</td>\n",
       "      <td>NaN</td>\n",
       "    </tr>\n",
       "  </tbody>\n",
       "</table>\n",
       "</div>"
      ],
      "text/plain": [
       "MCARE_RSLT_TYPE     1.0  2.0    5.0   9.0\n",
       "OPRTN_YN                                 \n",
       "0                3289.0  1.0  865.0  36.0\n",
       "9                   2.0  NaN    1.0   NaN"
      ]
     },
     "execution_count": 10,
     "metadata": {},
     "output_type": "execute_result"
    }
   ],
   "source": [
    "df_BND_M20_category_pivot = pd.pivot_table(data=df_BND_M20_category, index='OPRTN_YN', columns='MCARE_RSLT_TYPE', aggfunc=len)\n",
    "df_BND_M20_category_pivot"
   ]
  },
  {
   "cell_type": "code",
   "execution_count": 11,
   "id": "67f219a1-cf57-4842-9cf0-acdb4502fef0",
   "metadata": {
    "tags": []
   },
   "outputs": [
    {
     "data": {
      "text/plain": [
       "Chi2ContingencyResult(statistic=nan, pvalue=nan, dof=3, expected_freq=array([[nan, nan, nan, nan],\n",
       "       [nan, nan, nan, nan]]))"
      ]
     },
     "execution_count": 11,
     "metadata": {},
     "output_type": "execute_result"
    }
   ],
   "source": [
    "stats.chi2_contingency(observed=df_BND_M20_category_pivot, correction=True)"
   ]
  },
  {
   "cell_type": "code",
   "execution_count": null,
   "id": "dbda0cbf-6488-4d17-8dcb-513b8e3c7e94",
   "metadata": {},
   "outputs": [],
   "source": [
    "# 범주형-연속형: barplot 진료결과구분 MCARE_RSLT_TYPE - 수술여부 OPRTN_YN - ch2 test 독립성 증명 \n",
    "- 선정 변수: MCARE_RSLT_TYPE, OPRTN_YN \n",
    "- 분석 내용: 수술여부에 따라서 진료결과구분이 달라지는가? \n",
    "    - 귀무가설: 수술여부에 따라서 진료결과구분이 달라지지 않는다. \n",
    "    - 대립가설: 수술여부에 따라서 진료결과구분이 달라진다.   \n",
    "- 분석 결론 (기준 : p-value 0.05)\n",
    "    - 통계 결론: 귀무가설(pvalue=0.636)\n",
    "    - 사실 결론: 통증기간에 따라서 입원기간 변화가 없다. "
   ]
  }
 ],
 "metadata": {
  "kernelspec": {
   "display_name": "Python 3 (ipykernel)",
   "language": "python",
   "name": "python3"
  },
  "language_info": {
   "codemirror_mode": {
    "name": "ipython",
    "version": 3
   },
   "file_extension": ".py",
   "mimetype": "text/x-python",
   "name": "python",
   "nbconvert_exporter": "python",
   "pygments_lexer": "ipython3",
   "version": "3.11.3"
  }
 },
 "nbformat": 4,
 "nbformat_minor": 5
}
