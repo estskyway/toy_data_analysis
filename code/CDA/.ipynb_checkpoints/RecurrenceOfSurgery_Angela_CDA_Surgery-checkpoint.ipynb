{
 "cells": [
  {
   "cell_type": "code",
   "execution_count": 12,
   "id": "33886ac6-5206-4e60-b8a8-0faeca12a4c5",
   "metadata": {
    "tags": []
   },
   "outputs": [],
   "source": [
    "import pandas as pd\n",
    "import seaborn as sns\n",
    "import matplotlib.pyplot as plt\n",
    "import matplotlib as mpl\n",
    "mpl.rc('font',family='Malgun Gothic')\n",
    "mpl.rcParams['axes.unicode_minus'] = False\n",
    "import scipy.stats as stats"
   ]
  },
  {
   "cell_type": "code",
   "execution_count": 13,
   "id": "6059f3e7-a560-41dc-bb42-150aa99106e8",
   "metadata": {
    "tags": []
   },
   "outputs": [
    {
     "data": {
      "text/html": [
       "<div>\n",
       "<style scoped>\n",
       "    .dataframe tbody tr th:only-of-type {\n",
       "        vertical-align: middle;\n",
       "    }\n",
       "\n",
       "    .dataframe tbody tr th {\n",
       "        vertical-align: top;\n",
       "    }\n",
       "\n",
       "    .dataframe thead th {\n",
       "        text-align: right;\n",
       "    }\n",
       "</style>\n",
       "<table border=\"1\" class=\"dataframe\">\n",
       "  <thead>\n",
       "    <tr style=\"text-align: right;\">\n",
       "      <th></th>\n",
       "      <th>Unnamed: 0</th>\n",
       "      <th>입원기간</th>\n",
       "      <th>환자통증정도</th>\n",
       "      <th>통증기간(월)</th>\n",
       "      <th>Instability</th>\n",
       "      <th>수술기법</th>\n",
       "      <th>수술시간</th>\n",
       "      <th>수술실패여부</th>\n",
       "      <th>디스크단면적</th>\n",
       "      <th>MF + ES</th>\n",
       "      <th>고혈압여부</th>\n",
       "      <th>과거수술횟수</th>\n",
       "      <th>당뇨여부</th>\n",
       "      <th>우울증여부</th>\n",
       "      <th>체중</th>\n",
       "      <th>신장</th>\n",
       "      <th>성별</th>\n",
       "      <th>연령</th>\n",
       "      <th>헤모글로빈수치</th>\n",
       "      <th>Large Lymphocyte</th>\n",
       "    </tr>\n",
       "  </thead>\n",
       "  <tbody>\n",
       "    <tr>\n",
       "      <th>0</th>\n",
       "      <td>0</td>\n",
       "      <td>2</td>\n",
       "      <td>10</td>\n",
       "      <td>1.0</td>\n",
       "      <td>0</td>\n",
       "      <td>TELD</td>\n",
       "      <td>68.0</td>\n",
       "      <td>0</td>\n",
       "      <td>2048.5</td>\n",
       "      <td>1824.6</td>\n",
       "      <td>0</td>\n",
       "      <td>0</td>\n",
       "      <td>0</td>\n",
       "      <td>0</td>\n",
       "      <td>60.3</td>\n",
       "      <td>163</td>\n",
       "      <td>2</td>\n",
       "      <td>66</td>\n",
       "      <td>13.66</td>\n",
       "      <td>22.8</td>\n",
       "    </tr>\n",
       "    <tr>\n",
       "      <th>1</th>\n",
       "      <td>1</td>\n",
       "      <td>1</td>\n",
       "      <td>10</td>\n",
       "      <td>1.0</td>\n",
       "      <td>0</td>\n",
       "      <td>TELD</td>\n",
       "      <td>31.0</td>\n",
       "      <td>0</td>\n",
       "      <td>1753.1</td>\n",
       "      <td>1737.5</td>\n",
       "      <td>0</td>\n",
       "      <td>0</td>\n",
       "      <td>0</td>\n",
       "      <td>0</td>\n",
       "      <td>71.7</td>\n",
       "      <td>171</td>\n",
       "      <td>1</td>\n",
       "      <td>47</td>\n",
       "      <td>13.73</td>\n",
       "      <td>44.9</td>\n",
       "    </tr>\n",
       "  </tbody>\n",
       "</table>\n",
       "</div>"
      ],
      "text/plain": [
       "   Unnamed: 0  입원기간  환자통증정도  통증기간(월)  Instability  수술기법  수술시간  수술실패여부  디스크단면적  \\\n",
       "0           0     2      10      1.0            0  TELD  68.0       0  2048.5   \n",
       "1           1     1      10      1.0            0  TELD  31.0       0  1753.1   \n",
       "\n",
       "   MF + ES  고혈압여부  과거수술횟수  당뇨여부  우울증여부    체중   신장  성별  연령  헤모글로빈수치  \\\n",
       "0   1824.6      0       0     0      0  60.3  163   2  66    13.66   \n",
       "1   1737.5      0       0     0      0  71.7  171   1  47    13.73   \n",
       "\n",
       "   Large Lymphocyte  \n",
       "0              22.8  \n",
       "1              44.9  "
      ]
     },
     "execution_count": 13,
     "metadata": {},
     "output_type": "execute_result"
    }
   ],
   "source": [
    "df_ROS_Analysis = pd.read_csv('../../dataset/RecurrenceOfSurgeryAnalysis.csv')\n",
    "df_ROS_Analysis.head(2)"
   ]
  },
  {
   "cell_type": "code",
   "execution_count": 14,
   "id": "6d128fc0-7138-49a9-8acc-1dc556165cd1",
   "metadata": {
    "tags": []
   },
   "outputs": [
    {
     "data": {
      "text/html": [
       "<div>\n",
       "<style scoped>\n",
       "    .dataframe tbody tr th:only-of-type {\n",
       "        vertical-align: middle;\n",
       "    }\n",
       "\n",
       "    .dataframe tbody tr th {\n",
       "        vertical-align: top;\n",
       "    }\n",
       "\n",
       "    .dataframe thead th {\n",
       "        text-align: right;\n",
       "    }\n",
       "</style>\n",
       "<table border=\"1\" class=\"dataframe\">\n",
       "  <thead>\n",
       "    <tr style=\"text-align: right;\">\n",
       "      <th></th>\n",
       "      <th>입원기간</th>\n",
       "      <th>환자통증정도</th>\n",
       "      <th>통증기간(월)</th>\n",
       "      <th>Instability</th>\n",
       "      <th>수술기법</th>\n",
       "      <th>수술시간</th>\n",
       "      <th>수술실패여부</th>\n",
       "      <th>디스크단면적</th>\n",
       "    </tr>\n",
       "  </thead>\n",
       "  <tbody>\n",
       "    <tr>\n",
       "      <th>0</th>\n",
       "      <td>2</td>\n",
       "      <td>10</td>\n",
       "      <td>1.0</td>\n",
       "      <td>0</td>\n",
       "      <td>TELD</td>\n",
       "      <td>68.0</td>\n",
       "      <td>0</td>\n",
       "      <td>2048.50</td>\n",
       "    </tr>\n",
       "    <tr>\n",
       "      <th>1</th>\n",
       "      <td>1</td>\n",
       "      <td>10</td>\n",
       "      <td>1.0</td>\n",
       "      <td>0</td>\n",
       "      <td>TELD</td>\n",
       "      <td>31.0</td>\n",
       "      <td>0</td>\n",
       "      <td>1753.10</td>\n",
       "    </tr>\n",
       "    <tr>\n",
       "      <th>2</th>\n",
       "      <td>1</td>\n",
       "      <td>7</td>\n",
       "      <td>1.0</td>\n",
       "      <td>0</td>\n",
       "      <td>TELD</td>\n",
       "      <td>78.0</td>\n",
       "      <td>0</td>\n",
       "      <td>1749.00</td>\n",
       "    </tr>\n",
       "    <tr>\n",
       "      <th>3</th>\n",
       "      <td>1</td>\n",
       "      <td>7</td>\n",
       "      <td>2.0</td>\n",
       "      <td>0</td>\n",
       "      <td>TELD</td>\n",
       "      <td>73.0</td>\n",
       "      <td>0</td>\n",
       "      <td>1796.20</td>\n",
       "    </tr>\n",
       "    <tr>\n",
       "      <th>4</th>\n",
       "      <td>2</td>\n",
       "      <td>7</td>\n",
       "      <td>1.0</td>\n",
       "      <td>0</td>\n",
       "      <td>TELD</td>\n",
       "      <td>29.0</td>\n",
       "      <td>0</td>\n",
       "      <td>2021.48</td>\n",
       "    </tr>\n",
       "    <tr>\n",
       "      <th>...</th>\n",
       "      <td>...</td>\n",
       "      <td>...</td>\n",
       "      <td>...</td>\n",
       "      <td>...</td>\n",
       "      <td>...</td>\n",
       "      <td>...</td>\n",
       "      <td>...</td>\n",
       "      <td>...</td>\n",
       "    </tr>\n",
       "    <tr>\n",
       "      <th>1748</th>\n",
       "      <td>12</td>\n",
       "      <td>7</td>\n",
       "      <td>24.0</td>\n",
       "      <td>0</td>\n",
       "      <td>TELD</td>\n",
       "      <td>35.0</td>\n",
       "      <td>0</td>\n",
       "      <td>1813.00</td>\n",
       "    </tr>\n",
       "    <tr>\n",
       "      <th>1749</th>\n",
       "      <td>2</td>\n",
       "      <td>8</td>\n",
       "      <td>36.0</td>\n",
       "      <td>0</td>\n",
       "      <td>TELD</td>\n",
       "      <td>60.0</td>\n",
       "      <td>0</td>\n",
       "      <td>2167.60</td>\n",
       "    </tr>\n",
       "    <tr>\n",
       "      <th>1750</th>\n",
       "      <td>3</td>\n",
       "      <td>6</td>\n",
       "      <td>6.0</td>\n",
       "      <td>1</td>\n",
       "      <td>TELD</td>\n",
       "      <td>70.0</td>\n",
       "      <td>0</td>\n",
       "      <td>2250.80</td>\n",
       "    </tr>\n",
       "    <tr>\n",
       "      <th>1751</th>\n",
       "      <td>3</td>\n",
       "      <td>8</td>\n",
       "      <td>4.0</td>\n",
       "      <td>0</td>\n",
       "      <td>TELD</td>\n",
       "      <td>45.0</td>\n",
       "      <td>0</td>\n",
       "      <td>2258.80</td>\n",
       "    </tr>\n",
       "    <tr>\n",
       "      <th>1752</th>\n",
       "      <td>3</td>\n",
       "      <td>7</td>\n",
       "      <td>1.0</td>\n",
       "      <td>0</td>\n",
       "      <td>IELD</td>\n",
       "      <td>50.0</td>\n",
       "      <td>0</td>\n",
       "      <td>2624.40</td>\n",
       "    </tr>\n",
       "  </tbody>\n",
       "</table>\n",
       "<p>1753 rows × 8 columns</p>\n",
       "</div>"
      ],
      "text/plain": [
       "      입원기간  환자통증정도  통증기간(월)  Instability  수술기법  수술시간  수술실패여부   디스크단면적\n",
       "0        2      10      1.0            0  TELD  68.0       0  2048.50\n",
       "1        1      10      1.0            0  TELD  31.0       0  1753.10\n",
       "2        1       7      1.0            0  TELD  78.0       0  1749.00\n",
       "3        1       7      2.0            0  TELD  73.0       0  1796.20\n",
       "4        2       7      1.0            0  TELD  29.0       0  2021.48\n",
       "...    ...     ...      ...          ...   ...   ...     ...      ...\n",
       "1748    12       7     24.0            0  TELD  35.0       0  1813.00\n",
       "1749     2       8     36.0            0  TELD  60.0       0  2167.60\n",
       "1750     3       6      6.0            1  TELD  70.0       0  2250.80\n",
       "1751     3       8      4.0            0  TELD  45.0       0  2258.80\n",
       "1752     3       7      1.0            0  IELD  50.0       0  2624.40\n",
       "\n",
       "[1753 rows x 8 columns]"
      ]
     },
     "execution_count": 14,
     "metadata": {},
     "output_type": "execute_result"
    }
   ],
   "source": [
    "df_ROS_Analysis_Surgery = df_ROS_Analysis[['입원기간', '환자통증정도', '통증기간(월)', 'Instability', '수술기법', '수술시간', '수술실패여부', '디스크단면적']]\n",
    "df_ROS_Analysis_Surgery"
   ]
  },
  {
   "cell_type": "markdown",
   "id": "32e106ab-bbad-4b45-8261-66234f77c8c9",
   "metadata": {},
   "source": [
    "# Y: 연속형: 정규성 여부 판단 \n",
    "- 검증 갯수에 따른 방법 선택 \n",
    "    - 5천개 이하: shapiro normality test \n",
    "    - 5천개 이상: Anderson normality test \n",
    "- Y가 연속형일때(mix)일때는 Y단일변수가 정규분포인지에 따라 테스트 방식이 달라지기 때문에 이것 먼저 선행되어야함\n",
    "- 확률 확인 후 p-value 확인 \n",
    "\n",
    "# 선정 변수 : 입원기간  \n",
    "- 분석 내용: 입원기간이 정규 분포를 따르는가? \n",
    "    - 귀무가설: 입원기간이 정규 분포이다. \n",
    "    - 대립가설: 입원기간이 정규 분포가 아니다. \n",
    "- 분석 결론 (기준 : p-value 0.05)\n",
    "    - 통계 결론: pvalue=0.0이므로 대립가설이 참. \n",
    "    - 사실 결론: 입원기간이 정규 분포가 아니다. "
   ]
  },
  {
   "cell_type": "code",
   "execution_count": 15,
   "id": "49d546cb-da99-4050-84a1-fea742622579",
   "metadata": {
    "tags": []
   },
   "outputs": [
    {
     "data": {
      "text/plain": [
       "0        2\n",
       "1        1\n",
       "2        1\n",
       "3        1\n",
       "4        2\n",
       "        ..\n",
       "1748    12\n",
       "1749     2\n",
       "1750     3\n",
       "1751     3\n",
       "1752     3\n",
       "Name: 입원기간, Length: 1753, dtype: int64"
      ]
     },
     "execution_count": 15,
     "metadata": {},
     "output_type": "execute_result"
    }
   ],
   "source": [
    "df_ROS_Analysis_Surgery['입원기간']"
   ]
  },
  {
   "cell_type": "code",
   "execution_count": 16,
   "id": "78e41738-e04f-4b07-9861-9e63d15f9e40",
   "metadata": {
    "tags": []
   },
   "outputs": [
    {
     "data": {
      "image/png": "[encoded data removed]",
      "text/plain": [
       "<Figure size 640x480 with 1 Axes>"
      ]
     },
     "metadata": {},
     "output_type": "display_data"
    }
   ],
   "source": [
    "sns.histplot(data=df_ROS_Analysis_Surgery, x='입원기간', kde=True)\n",
    "plt.show()"
   ]
  },
  {
   "cell_type": "code",
   "execution_count": 17,
   "id": "33145201-1b32-458f-9950-508d6b76772e",
   "metadata": {
    "tags": []
   },
   "outputs": [
    {
     "data": {
      "text/plain": [
       "ShapiroResult(statistic=0.2773653268814087, pvalue=0.0)"
      ]
     },
     "execution_count": 17,
     "metadata": {},
     "output_type": "execute_result"
    }
   ],
   "source": [
    "stats.shapiro(df_ROS_Analysis_Surgery['입원기간'])"
   ]
  },
  {
   "cell_type": "markdown",
   "id": "9e6ff292-c5a3-4a60-933b-e994d1e76be0",
   "metadata": {},
   "source": [
    "# 분석스토리 \n",
    "\n",
    "- 목표변수: '입원기간' \n",
    "- 설명변수: '환자통증정도', '통증기간(월)', 'Instability', '수술기법', '수술시간', '수술실패여부', '디스크단면적'\n",
    "\n",
    "\n",
    "수술기법 및 환자통증정도에 따라 입원기간 분포에 차이가 있는 것으로 보인다. \n",
    "수술기법 및 환자통증정도는 입원기간(목표변수)에 대한 설명변수로써 적합하며 이를 통한 인사이트 도출이 가능해 보인다. \n",
    "IELD가 TELD보다 입원기간이 길며, 이를 통해 IELD 수술기법을 적용했을 때 회복기간이 오래 걸림을 유추해볼 수 있다. \n",
    "환자통증정도는 8일때 입원기간이 가장 길며, 그에 비해 9,10일때의 입원기간은 상대적으로 짧은 것을 볼 수 있다. \n",
    "약 46퍼센트의 환자들이 통증정도로 7을 택했다는 점, 상대적으로 다른 수치의 통증정도를 택한 환자의 데이터수가 현저히 낮다는 점을 고려해봤을때, 해당 데이터를 통해 환자통증정도와 입원기간의 연관성을 알아보기에는 한계성이 보인다. \n",
    "\n",
    "그 외, 통증기간, Instability, 수술시간, 수술실패여부, 디스크단면적과 입원기간과는 관계성이 없으며, 따라서 입원기간(목표변수)의 설명변수로써 적합하지 못하다. \n"
   ]
  },
  {
   "cell_type": "markdown",
   "id": "75eb9d8b-a2db-499e-99a5-d6927659c237",
   "metadata": {},
   "source": [
    "# 연속형-연속형 / 입원기간-통증기간(월)\n",
    "- 분석 내용: 통증기간에 따라서 입원기간 변화가 있는가? \n",
    "    - 귀무가설: 통증기간에 따라서 입원기간 변화가 없다. \n",
    "    - 대립가설: 통증기간에 따라서 입원기간 변화가 있다.  \n",
    "- 분석 결론 (기준 : p-value 0.05)\n",
    "    - 통계 결론: 귀무가설(pvalue=0.636)\n",
    "    - 사실 결론: 통증기간에 따라서 입원기간 변화가 없다. "
   ]
  },
  {
   "cell_type": "code",
   "execution_count": 22,
   "id": "dd12741c-18fc-4275-aa13-a672f32582ce",
   "metadata": {
    "tags": []
   },
   "outputs": [
    {
     "data": {
      "text/html": [
       "<div>\n",
       "<style scoped>\n",
       "    .dataframe tbody tr th:only-of-type {\n",
       "        vertical-align: middle;\n",
       "    }\n",
       "\n",
       "    .dataframe tbody tr th {\n",
       "        vertical-align: top;\n",
       "    }\n",
       "\n",
       "    .dataframe thead th {\n",
       "        text-align: right;\n",
       "    }\n",
       "</style>\n",
       "<table border=\"1\" class=\"dataframe\">\n",
       "  <thead>\n",
       "    <tr style=\"text-align: right;\">\n",
       "      <th></th>\n",
       "      <th>입원기간</th>\n",
       "      <th>통증기간(월)</th>\n",
       "    </tr>\n",
       "  </thead>\n",
       "  <tbody>\n",
       "    <tr>\n",
       "      <th>입원기간</th>\n",
       "      <td>1.000000</td>\n",
       "      <td>-0.001668</td>\n",
       "    </tr>\n",
       "    <tr>\n",
       "      <th>통증기간(월)</th>\n",
       "      <td>-0.001668</td>\n",
       "      <td>1.000000</td>\n",
       "    </tr>\n",
       "  </tbody>\n",
       "</table>\n",
       "</div>"
      ],
      "text/plain": [
       "             입원기간   통증기간(월)\n",
       "입원기간     1.000000 -0.001668\n",
       "통증기간(월) -0.001668  1.000000"
      ]
     },
     "execution_count": 22,
     "metadata": {},
     "output_type": "execute_result"
    }
   ],
   "source": [
    "df_ROS_Analysis_Surgery[['입원기간','통증기간(월)']].corr()"
   ]
  },
  {
   "cell_type": "code",
   "execution_count": 23,
   "id": "721debe2-d468-4ece-84ea-d6ab8469442d",
   "metadata": {
    "tags": []
   },
   "outputs": [
    {
     "data": {
      "text/plain": [
       "SignificanceResult(statistic=-0.011285979534448789, pvalue=0.6367776975331652)"
      ]
     },
     "execution_count": 23,
     "metadata": {},
     "output_type": "execute_result"
    }
   ],
   "source": [
    "stats.spearmanr(df_ROS_Analysis_Surgery['입원기간'],df_ROS_Analysis_Surgery['통증기간(월)'])"
   ]
  },
  {
   "cell_type": "markdown",
   "id": "2472db85-3f1e-4405-b2e8-bd29a37c957d",
   "metadata": {},
   "source": [
    "# 연속형-연속형: 입원기간-수술시간\n",
    "- 분석 내용: 수술시간에 따라서 입원기간 변화가 있는가? \n",
    "    - 귀무가설: 수술시간에 따라서 입원기간 변화가 없다. \n",
    "    - 대립가설: 수술시간에 따라서 입원기간 변화가 있다.  \n",
    "- 분석 결론 (기준 : p-value 0.05)\n",
    "    - 통계 결론: 귀무가설(pvalue=0.636)\n",
    "    - 사실 결론: 통증기간에 따라서 입원기간 변화가 없다. "
   ]
  },
  {
   "cell_type": "code",
   "execution_count": 24,
   "id": "f9f4fdfb-994e-4ac1-920a-7d8f391faa87",
   "metadata": {
    "tags": []
   },
   "outputs": [
    {
     "data": {
      "text/html": [
       "<div>\n",
       "<style scoped>\n",
       "    .dataframe tbody tr th:only-of-type {\n",
       "        vertical-align: middle;\n",
       "    }\n",
       "\n",
       "    .dataframe tbody tr th {\n",
       "        vertical-align: top;\n",
       "    }\n",
       "\n",
       "    .dataframe thead th {\n",
       "        text-align: right;\n",
       "    }\n",
       "</style>\n",
       "<table border=\"1\" class=\"dataframe\">\n",
       "  <thead>\n",
       "    <tr style=\"text-align: right;\">\n",
       "      <th></th>\n",
       "      <th>입원기간</th>\n",
       "      <th>수술시간</th>\n",
       "    </tr>\n",
       "  </thead>\n",
       "  <tbody>\n",
       "    <tr>\n",
       "      <th>입원기간</th>\n",
       "      <td>1.000000</td>\n",
       "      <td>-0.021077</td>\n",
       "    </tr>\n",
       "    <tr>\n",
       "      <th>수술시간</th>\n",
       "      <td>-0.021077</td>\n",
       "      <td>1.000000</td>\n",
       "    </tr>\n",
       "  </tbody>\n",
       "</table>\n",
       "</div>"
      ],
      "text/plain": [
       "          입원기간      수술시간\n",
       "입원기간  1.000000 -0.021077\n",
       "수술시간 -0.021077  1.000000"
      ]
     },
     "execution_count": 24,
     "metadata": {},
     "output_type": "execute_result"
    }
   ],
   "source": [
    "df_ROS_Analysis_Surgery[['입원기간','수술시간']].corr()"
   ]
  },
  {
   "cell_type": "code",
   "execution_count": 25,
   "id": "ae203f17-fc2d-4895-a4b8-5dc297dda74b",
   "metadata": {
    "tags": []
   },
   "outputs": [
    {
     "data": {
      "text/plain": [
       "SignificanceResult(statistic=0.02241757245088099, pvalue=0.34822067102687515)"
      ]
     },
     "execution_count": 25,
     "metadata": {},
     "output_type": "execute_result"
    }
   ],
   "source": [
    "stats.spearmanr(df_ROS_Analysis_Surgery['입원기간'],df_ROS_Analysis_Surgery['수술시간'])"
   ]
  },
  {
   "cell_type": "markdown",
   "id": "7b5a1a43-e879-432d-8dc9-883febd3d8c6",
   "metadata": {},
   "source": [
    "# 연속형-연속형: 입원기간-디스크단면적\n",
    "- 분석 내용: 디스크단면적에 따라서 입원기간 변화가 있는가? \n",
    "    - 귀무가설: 디스크단면적에 따라서 입원기간 변화가 없다. \n",
    "    - 대립가설: 디스크단면적에 따라서 입원기간 변화가 있다.  \n",
    "- 분석 결론 (기준 : p-value 0.05)\n",
    "    - 통계 결론: 귀무가설(pvalue=0.131)\n",
    "    - 사실 결론: 디스크단면적에 따라서 입원기간 변화가 없다. "
   ]
  },
  {
   "cell_type": "code",
   "execution_count": 28,
   "id": "872b50ff-8cfc-401a-9f4f-12171eb16c01",
   "metadata": {
    "tags": []
   },
   "outputs": [
    {
     "data": {
      "text/html": [
       "<div>\n",
       "<style scoped>\n",
       "    .dataframe tbody tr th:only-of-type {\n",
       "        vertical-align: middle;\n",
       "    }\n",
       "\n",
       "    .dataframe tbody tr th {\n",
       "        vertical-align: top;\n",
       "    }\n",
       "\n",
       "    .dataframe thead th {\n",
       "        text-align: right;\n",
       "    }\n",
       "</style>\n",
       "<table border=\"1\" class=\"dataframe\">\n",
       "  <thead>\n",
       "    <tr style=\"text-align: right;\">\n",
       "      <th></th>\n",
       "      <th>입원기간</th>\n",
       "      <th>디스크단면적</th>\n",
       "    </tr>\n",
       "  </thead>\n",
       "  <tbody>\n",
       "    <tr>\n",
       "      <th>입원기간</th>\n",
       "      <td>1.000000</td>\n",
       "      <td>0.010129</td>\n",
       "    </tr>\n",
       "    <tr>\n",
       "      <th>디스크단면적</th>\n",
       "      <td>0.010129</td>\n",
       "      <td>1.000000</td>\n",
       "    </tr>\n",
       "  </tbody>\n",
       "</table>\n",
       "</div>"
      ],
      "text/plain": [
       "            입원기간    디스크단면적\n",
       "입원기간    1.000000  0.010129\n",
       "디스크단면적  0.010129  1.000000"
      ]
     },
     "execution_count": 28,
     "metadata": {},
     "output_type": "execute_result"
    }
   ],
   "source": [
    "df_ROS_Analysis_Surgery[['입원기간','디스크단면적']].corr()"
   ]
  },
  {
   "cell_type": "code",
   "execution_count": 29,
   "id": "446dcc5f-0c36-4bc0-861c-18b486331522",
   "metadata": {
    "tags": []
   },
   "outputs": [
    {
     "data": {
      "text/plain": [
       "SignificanceResult(statistic=0.03604036046955269, pvalue=0.13145682139440915)"
      ]
     },
     "execution_count": 29,
     "metadata": {},
     "output_type": "execute_result"
    }
   ],
   "source": [
    "stats.spearmanr(df_ROS_Analysis_Surgery['입원기간'],df_ROS_Analysis_Surgery['디스크단면적'])"
   ]
  },
  {
   "cell_type": "markdown",
   "id": "44e09bd4-e021-45b1-8b94-cb39957d9e63",
   "metadata": {},
   "source": [
    "# 연속형-범주형: 입원기간(비정규분포)-Instability (2집단 비교:Wilcoxon Test)\n",
    "- 분석 내용: 척추안정성 여부에 따른 입원기간 분포에 차이가 있는가? \n",
    "    - 귀무가설: 분포에 차이가 없다. \n",
    "    - 대립가설: 분포에 차이가 있다. \n",
    "- 분석 결론 (기준 : p-value 0.05)\n",
    "    - 통계 결론: 귀무가설 (value=0.22)\n",
    "    - 사실 결론: 분포에 차이가 없다."
   ]
  },
  {
   "cell_type": "code",
   "execution_count": 47,
   "id": "b2f4a5d1-f703-46a9-9dbf-0c4b82271dfb",
   "metadata": {
    "tags": []
   },
   "outputs": [
    {
     "data": {
      "text/plain": [
       "0    1680\n",
       "1      73\n",
       "Name: Instability, dtype: int64"
      ]
     },
     "execution_count": 47,
     "metadata": {},
     "output_type": "execute_result"
    }
   ],
   "source": [
    "df_ROS_Analysis_Surgery['Instability'].value_counts()"
   ]
  },
  {
   "cell_type": "code",
   "execution_count": 48,
   "id": "3800c99c-a9c9-4c00-b2b0-2a4a9147dfd0",
   "metadata": {
    "tags": []
   },
   "outputs": [
    {
     "data": {
      "text/html": [
       "<div>\n",
       "<style scoped>\n",
       "    .dataframe tbody tr th:only-of-type {\n",
       "        vertical-align: middle;\n",
       "    }\n",
       "\n",
       "    .dataframe tbody tr th {\n",
       "        vertical-align: top;\n",
       "    }\n",
       "\n",
       "    .dataframe thead th {\n",
       "        text-align: right;\n",
       "    }\n",
       "</style>\n",
       "<table border=\"1\" class=\"dataframe\">\n",
       "  <thead>\n",
       "    <tr style=\"text-align: right;\">\n",
       "      <th></th>\n",
       "      <th>Instability</th>\n",
       "      <th>입원기간</th>\n",
       "    </tr>\n",
       "  </thead>\n",
       "  <tbody>\n",
       "    <tr>\n",
       "      <th>0</th>\n",
       "      <td>0</td>\n",
       "      <td>2</td>\n",
       "    </tr>\n",
       "    <tr>\n",
       "      <th>1</th>\n",
       "      <td>0</td>\n",
       "      <td>1</td>\n",
       "    </tr>\n",
       "  </tbody>\n",
       "</table>\n",
       "</div>"
      ],
      "text/plain": [
       "   Instability  입원기간\n",
       "0            0     2\n",
       "1            0     1"
      ]
     },
     "execution_count": 48,
     "metadata": {},
     "output_type": "execute_result"
    }
   ],
   "source": [
    "df_Instability = df_ROS_Analysis_Surgery[['Instability', '입원기간']]\n",
    "df_stable = df_Instability[df_Instability['Instability'] == 0]\n",
    "df_stable[:2]"
   ]
  },
  {
   "cell_type": "code",
   "execution_count": 49,
   "id": "4a6c2451-62e7-4bfb-8e2f-9a8766368cea",
   "metadata": {
    "tags": []
   },
   "outputs": [
    {
     "data": {
      "text/html": [
       "<div>\n",
       "<style scoped>\n",
       "    .dataframe tbody tr th:only-of-type {\n",
       "        vertical-align: middle;\n",
       "    }\n",
       "\n",
       "    .dataframe tbody tr th {\n",
       "        vertical-align: top;\n",
       "    }\n",
       "\n",
       "    .dataframe thead th {\n",
       "        text-align: right;\n",
       "    }\n",
       "</style>\n",
       "<table border=\"1\" class=\"dataframe\">\n",
       "  <thead>\n",
       "    <tr style=\"text-align: right;\">\n",
       "      <th></th>\n",
       "      <th>Instability</th>\n",
       "      <th>입원기간</th>\n",
       "    </tr>\n",
       "  </thead>\n",
       "  <tbody>\n",
       "    <tr>\n",
       "      <th>10</th>\n",
       "      <td>1</td>\n",
       "      <td>1</td>\n",
       "    </tr>\n",
       "    <tr>\n",
       "      <th>12</th>\n",
       "      <td>1</td>\n",
       "      <td>3</td>\n",
       "    </tr>\n",
       "  </tbody>\n",
       "</table>\n",
       "</div>"
      ],
      "text/plain": [
       "    Instability  입원기간\n",
       "10            1     1\n",
       "12            1     3"
      ]
     },
     "execution_count": 49,
     "metadata": {},
     "output_type": "execute_result"
    }
   ],
   "source": [
    "df_unstable = df_Instability[df_Instability['Instability'] == 1]\n",
    "df_unstable[:2]"
   ]
  },
  {
   "cell_type": "code",
   "execution_count": 50,
   "id": "901b1777-c05b-49a7-b585-36027056d4e5",
   "metadata": {
    "tags": []
   },
   "outputs": [
    {
     "data": {
      "text/plain": [
       "RanksumsResult(statistic=-1.2219240452243678, pvalue=0.22173635150794913)"
      ]
     },
     "execution_count": 50,
     "metadata": {},
     "output_type": "execute_result"
    }
   ],
   "source": [
    "stats.ranksums(df_stable['입원기간'],df_unstable['입원기간'])"
   ]
  },
  {
   "cell_type": "markdown",
   "id": "4150b171-ea1f-432c-9b34-7f00d8ee2eb4",
   "metadata": {},
   "source": [
    "# 연속형-범주형: 입원기간(비정규분포)-수술실패여부 (2집단 비교:Wilcoxon Test)\n",
    "- 분석 내용: 수술실패여부에 따른 입원기간 분포에 차이가 있는가? \n",
    "    - 귀무가설: 분포에 차이가 없다. \n",
    "    - 대립가설: 분포에 차이가 있다. \n",
    "- 분석 결론 (기준 : p-value 0.05)\n",
    "    - 통계 결론: 귀무가설(pvalue=0.36)\n",
    "    - 사실 결론: 분포에 차이가 없다"
   ]
  },
  {
   "cell_type": "code",
   "execution_count": 51,
   "id": "10be6962-380a-4746-aba0-5152184cd416",
   "metadata": {
    "tags": []
   },
   "outputs": [
    {
     "data": {
      "text/plain": [
       "0    1645\n",
       "1     108\n",
       "Name: 수술실패여부, dtype: int64"
      ]
     },
     "execution_count": 51,
     "metadata": {},
     "output_type": "execute_result"
    }
   ],
   "source": [
    "df_ROS_Analysis_Surgery['수술실패여부'].value_counts()"
   ]
  },
  {
   "cell_type": "code",
   "execution_count": 53,
   "id": "7746ae3d-5300-4682-ac55-a6ae75fba29f",
   "metadata": {
    "tags": []
   },
   "outputs": [
    {
     "data": {
      "text/html": [
       "<div>\n",
       "<style scoped>\n",
       "    .dataframe tbody tr th:only-of-type {\n",
       "        vertical-align: middle;\n",
       "    }\n",
       "\n",
       "    .dataframe tbody tr th {\n",
       "        vertical-align: top;\n",
       "    }\n",
       "\n",
       "    .dataframe thead th {\n",
       "        text-align: right;\n",
       "    }\n",
       "</style>\n",
       "<table border=\"1\" class=\"dataframe\">\n",
       "  <thead>\n",
       "    <tr style=\"text-align: right;\">\n",
       "      <th></th>\n",
       "      <th>수술실패여부</th>\n",
       "      <th>입원기간</th>\n",
       "    </tr>\n",
       "  </thead>\n",
       "  <tbody>\n",
       "    <tr>\n",
       "      <th>0</th>\n",
       "      <td>0</td>\n",
       "      <td>2</td>\n",
       "    </tr>\n",
       "    <tr>\n",
       "      <th>1</th>\n",
       "      <td>0</td>\n",
       "      <td>1</td>\n",
       "    </tr>\n",
       "  </tbody>\n",
       "</table>\n",
       "</div>"
      ],
      "text/plain": [
       "   수술실패여부  입원기간\n",
       "0       0     2\n",
       "1       0     1"
      ]
     },
     "execution_count": 53,
     "metadata": {},
     "output_type": "execute_result"
    }
   ],
   "source": [
    "df_result= df_ROS_Analysis_Surgery[['수술실패여부', '입원기간']]\n",
    "df_success = df_result[df_result['수술실패여부'] == 0]\n",
    "df_success[:2]"
   ]
  },
  {
   "cell_type": "code",
   "execution_count": 54,
   "id": "5e522272-a4a9-44c9-8354-30c1172e5949",
   "metadata": {
    "tags": []
   },
   "outputs": [
    {
     "data": {
      "text/html": [
       "<div>\n",
       "<style scoped>\n",
       "    .dataframe tbody tr th:only-of-type {\n",
       "        vertical-align: middle;\n",
       "    }\n",
       "\n",
       "    .dataframe tbody tr th {\n",
       "        vertical-align: top;\n",
       "    }\n",
       "\n",
       "    .dataframe thead th {\n",
       "        text-align: right;\n",
       "    }\n",
       "</style>\n",
       "<table border=\"1\" class=\"dataframe\">\n",
       "  <thead>\n",
       "    <tr style=\"text-align: right;\">\n",
       "      <th></th>\n",
       "      <th>수술실패여부</th>\n",
       "      <th>입원기간</th>\n",
       "    </tr>\n",
       "  </thead>\n",
       "  <tbody>\n",
       "    <tr>\n",
       "      <th>9</th>\n",
       "      <td>1</td>\n",
       "      <td>2</td>\n",
       "    </tr>\n",
       "    <tr>\n",
       "      <th>20</th>\n",
       "      <td>1</td>\n",
       "      <td>1</td>\n",
       "    </tr>\n",
       "  </tbody>\n",
       "</table>\n",
       "</div>"
      ],
      "text/plain": [
       "    수술실패여부  입원기간\n",
       "9        1     2\n",
       "20       1     1"
      ]
     },
     "execution_count": 54,
     "metadata": {},
     "output_type": "execute_result"
    }
   ],
   "source": [
    "df_fail = df_result[df_result['수술실패여부'] == 1]\n",
    "df_fail[:2]"
   ]
  },
  {
   "cell_type": "code",
   "execution_count": 56,
   "id": "6baaf9c6-83d3-4488-be40-75a0ec83352c",
   "metadata": {
    "tags": []
   },
   "outputs": [
    {
     "data": {
      "text/plain": [
       "RanksumsResult(statistic=0.8985694375785029, pvalue=0.3688820438540734)"
      ]
     },
     "execution_count": 56,
     "metadata": {},
     "output_type": "execute_result"
    }
   ],
   "source": [
    "stats.ranksums(df_success['입원기간'],df_fail['입원기간'])"
   ]
  },
  {
   "cell_type": "markdown",
   "id": "1c1a5493-01c2-462c-a002-0ee70283fe62",
   "metadata": {},
   "source": [
    "# 연속형-범주형: 입원기간(비정규분포)-수술기법 (2집단 비교:Wilcoxon Test)\n",
    "- 분석 내용: 수술기법에 따른 입원기간 분포에 차이가 있는가? \n",
    "    - 귀무가설: 분포에 차이가 없다. \n",
    "    - 대립가설: 분포에 차이가 있다. \n",
    "- 분석 결론 (기준 : p-value 0.05)\n",
    "    - 통계 결론: 대립가설 (pvalue=8.650440832634864e-84)\n",
    "    - 사실 결론: 분포에 차이가 있다. "
   ]
  },
  {
   "cell_type": "code",
   "execution_count": 68,
   "id": "c5aa69be-9866-4669-bfe1-984feb973750",
   "metadata": {
    "tags": []
   },
   "outputs": [
    {
     "data": {
      "text/plain": [
       "TELD    1617\n",
       "IELD     136\n",
       "Name: 수술기법, dtype: int64"
      ]
     },
     "execution_count": 68,
     "metadata": {},
     "output_type": "execute_result"
    }
   ],
   "source": [
    "df_ROS_Analysis_Surgery['수술기법'].value_counts()"
   ]
  },
  {
   "cell_type": "code",
   "execution_count": 69,
   "id": "73fe4a0b-ce73-43e9-b2bd-e777b6e4d438",
   "metadata": {
    "tags": []
   },
   "outputs": [
    {
     "data": {
      "text/html": [
       "<div>\n",
       "<style scoped>\n",
       "    .dataframe tbody tr th:only-of-type {\n",
       "        vertical-align: middle;\n",
       "    }\n",
       "\n",
       "    .dataframe tbody tr th {\n",
       "        vertical-align: top;\n",
       "    }\n",
       "\n",
       "    .dataframe thead th {\n",
       "        text-align: right;\n",
       "    }\n",
       "</style>\n",
       "<table border=\"1\" class=\"dataframe\">\n",
       "  <thead>\n",
       "    <tr style=\"text-align: right;\">\n",
       "      <th></th>\n",
       "      <th>수술기법</th>\n",
       "      <th>입원기간</th>\n",
       "    </tr>\n",
       "  </thead>\n",
       "  <tbody>\n",
       "    <tr>\n",
       "      <th>0</th>\n",
       "      <td>TELD</td>\n",
       "      <td>2</td>\n",
       "    </tr>\n",
       "    <tr>\n",
       "      <th>1</th>\n",
       "      <td>TELD</td>\n",
       "      <td>1</td>\n",
       "    </tr>\n",
       "  </tbody>\n",
       "</table>\n",
       "</div>"
      ],
      "text/plain": [
       "   수술기법  입원기간\n",
       "0  TELD     2\n",
       "1  TELD     1"
      ]
     },
     "execution_count": 69,
     "metadata": {},
     "output_type": "execute_result"
    }
   ],
   "source": [
    "df_method= df_ROS_Analysis_Surgery[['수술기법', '입원기간']]\n",
    "df_TELD = df_method[df_method['수술기법'] == 'TELD']\n",
    "df_TELD[:2]"
   ]
  },
  {
   "cell_type": "code",
   "execution_count": 70,
   "id": "e3b3a090-c5ee-4e9b-b9b3-80b81f44898e",
   "metadata": {
    "tags": []
   },
   "outputs": [
    {
     "data": {
      "text/html": [
       "<div>\n",
       "<style scoped>\n",
       "    .dataframe tbody tr th:only-of-type {\n",
       "        vertical-align: middle;\n",
       "    }\n",
       "\n",
       "    .dataframe tbody tr th {\n",
       "        vertical-align: top;\n",
       "    }\n",
       "\n",
       "    .dataframe thead th {\n",
       "        text-align: right;\n",
       "    }\n",
       "</style>\n",
       "<table border=\"1\" class=\"dataframe\">\n",
       "  <thead>\n",
       "    <tr style=\"text-align: right;\">\n",
       "      <th></th>\n",
       "      <th>수술기법</th>\n",
       "      <th>입원기간</th>\n",
       "    </tr>\n",
       "  </thead>\n",
       "  <tbody>\n",
       "    <tr>\n",
       "      <th>19</th>\n",
       "      <td>IELD</td>\n",
       "      <td>1</td>\n",
       "    </tr>\n",
       "    <tr>\n",
       "      <th>30</th>\n",
       "      <td>IELD</td>\n",
       "      <td>1</td>\n",
       "    </tr>\n",
       "  </tbody>\n",
       "</table>\n",
       "</div>"
      ],
      "text/plain": [
       "    수술기법  입원기간\n",
       "19  IELD     1\n",
       "30  IELD     1"
      ]
     },
     "execution_count": 70,
     "metadata": {},
     "output_type": "execute_result"
    }
   ],
   "source": [
    "df_IELD = df_method[df_method['수술기법'] == 'IELD']\n",
    "df_IELD[:2]"
   ]
  },
  {
   "cell_type": "code",
   "execution_count": 71,
   "id": "73c72959-6397-47bb-89cc-1bc7ffe43c96",
   "metadata": {
    "tags": []
   },
   "outputs": [
    {
     "data": {
      "text/plain": [
       "RanksumsResult(statistic=19.394129758749212, pvalue=8.650440832634864e-84)"
      ]
     },
     "execution_count": 71,
     "metadata": {},
     "output_type": "execute_result"
    }
   ],
   "source": [
    "stats.ranksums(df_TELD['수술기법'], df_IELD['수술기법'])"
   ]
  },
  {
   "cell_type": "markdown",
   "id": "1b0d6ee0-c616-4043-bd18-95dfaa3c41ff",
   "metadata": {},
   "source": [
    "# 연속형-범주형(순서형): 입원기간(비정규분포)- 환자통증정도(3집단 비교:Kruskal Test)\n",
    "- 분석 내용: 환자통증정도에 따른 입원기간 분포에 차이가 있는가? \n",
    "    - 귀무가설: 분포에 차이가 없다. \n",
    "    - 대립가설: 분포에 차이가 있다. \n",
    "- 분석 결론 (기준 : p-value 0.05)\n",
    "    - 통계 결론: 대립가설 (pvalue=0.0)\n",
    "    - 사실 결론: 분포에 차이가 있다. "
   ]
  },
  {
   "cell_type": "code",
   "execution_count": 74,
   "id": "240eff9a-d3c1-4157-a5e3-dee2fc229ea3",
   "metadata": {
    "tags": []
   },
   "outputs": [
    {
     "data": {
      "text/plain": [
       "7     800\n",
       "8     385\n",
       "9     161\n",
       "2     125\n",
       "10    107\n",
       "1      50\n",
       "3      44\n",
       "5      40\n",
       "6      37\n",
       "4       4\n",
       "Name: 환자통증정도, dtype: int64"
      ]
     },
     "execution_count": 74,
     "metadata": {},
     "output_type": "execute_result"
    }
   ],
   "source": [
    "df_ROS_Analysis_Surgery['환자통증정도'].value_counts()"
   ]
  },
  {
   "cell_type": "code",
   "execution_count": 80,
   "id": "1b5c2cb5-c2ff-4291-9ca2-b763b51cfe7b",
   "metadata": {
    "tags": []
   },
   "outputs": [],
   "source": [
    "df_pain = df_ROS_Analysis_Surgery[['환자통증정도', '입원기간']]"
   ]
  },
  {
   "cell_type": "code",
   "execution_count": 81,
   "id": "2c0c4fca-bb66-4d35-a9e1-374e7bc19d97",
   "metadata": {
    "tags": []
   },
   "outputs": [
    {
     "data": {
      "text/plain": [
       "[7, 8, 9, 2, 10, 1, 3, 5, 6, 4]"
      ]
     },
     "execution_count": 81,
     "metadata": {},
     "output_type": "execute_result"
    }
   ],
   "source": [
    "pain_list = df_pain['환자통증정도'].value_counts().index.to_list()\n",
    "pain_list"
   ]
  },
  {
   "cell_type": "code",
   "execution_count": 83,
   "id": "b3e7c56c-bd71-437b-8295-d06a782fab8d",
   "metadata": {
    "tags": []
   },
   "outputs": [],
   "source": [
    "df_pain_scale = [] \n",
    "for item in pain_list : \n",
    "    condition = (df_pain['환자통증정도'] == item)\n",
    "    df_pain_scale.append(df_pain[condition])"
   ]
  },
  {
   "cell_type": "code",
   "execution_count": 84,
   "id": "3ef3aa4f-026b-40a8-9109-d85e16079c04",
   "metadata": {
    "tags": []
   },
   "outputs": [
    {
     "data": {
      "text/plain": [
       "10"
      ]
     },
     "execution_count": 84,
     "metadata": {},
     "output_type": "execute_result"
    }
   ],
   "source": [
    "len(df_pain_scale)"
   ]
  },
  {
   "cell_type": "code",
   "execution_count": 94,
   "id": "2b138b93-787b-4121-90b7-df417d6943d1",
   "metadata": {
    "tags": []
   },
   "outputs": [
    {
     "data": {
      "text/html": [
       "<div>\n",
       "<style scoped>\n",
       "    .dataframe tbody tr th:only-of-type {\n",
       "        vertical-align: middle;\n",
       "    }\n",
       "\n",
       "    .dataframe tbody tr th {\n",
       "        vertical-align: top;\n",
       "    }\n",
       "\n",
       "    .dataframe thead th {\n",
       "        text-align: right;\n",
       "    }\n",
       "</style>\n",
       "<table border=\"1\" class=\"dataframe\">\n",
       "  <thead>\n",
       "    <tr style=\"text-align: right;\">\n",
       "      <th></th>\n",
       "      <th>환자통증정도</th>\n",
       "      <th>입원기간</th>\n",
       "    </tr>\n",
       "  </thead>\n",
       "  <tbody>\n",
       "    <tr>\n",
       "      <th>132</th>\n",
       "      <td>3</td>\n",
       "      <td>1</td>\n",
       "    </tr>\n",
       "    <tr>\n",
       "      <th>153</th>\n",
       "      <td>3</td>\n",
       "      <td>1</td>\n",
       "    </tr>\n",
       "  </tbody>\n",
       "</table>\n",
       "</div>"
      ],
      "text/plain": [
       "     환자통증정도  입원기간\n",
       "132       3     1\n",
       "153       3     1"
      ]
     },
     "execution_count": 94,
     "metadata": {},
     "output_type": "execute_result"
    }
   ],
   "source": [
    "df_pain_scale[6][:2]"
   ]
  },
  {
   "cell_type": "code",
   "execution_count": 93,
   "id": "23f76908-544a-4bd5-89e2-a397b5891bff",
   "metadata": {
    "tags": []
   },
   "outputs": [
    {
     "data": {
      "text/plain": [
       "KruskalResult(statistic=1752.000000000001, pvalue=0.0)"
      ]
     },
     "execution_count": 93,
     "metadata": {},
     "output_type": "execute_result"
    }
   ],
   "source": [
    "stats.kruskal(df_pain_scale[0]['환자통증정도'], df_pain_scale[1]['환자통증정도'], df_pain_scale[2]['환자통증정도'], df_pain_scale[3]['환자통증정도'], df_pain_scale[4]['환자통증정도'], df_pain_scale[5]['환자통증정도'], df_pain_scale[6]['환자통증정도'], df_pain_scale[7]['환자통증정도'], df_pain_scale[8]['환자통증정도'], df_pain_scale[9]['환자통증정도'])"
   ]
  }
 ],
 "metadata": {
  "kernelspec": {
   "display_name": "Python 3 (ipykernel)",
   "language": "python",
   "name": "python3"
  },
  "language_info": {
   "codemirror_mode": {
    "name": "ipython",
    "version": 3
   },
   "file_extension": ".py",
   "mimetype": "text/x-python",
   "name": "python",
   "nbconvert_exporter": "python",
   "pygments_lexer": "ipython3",
   "version": "3.11.3"
  }
 },
 "nbformat": 4,
 "nbformat_minor": 5
}
