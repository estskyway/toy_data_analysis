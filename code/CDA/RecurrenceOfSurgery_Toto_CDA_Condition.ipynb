{
 "cells": [
  {
   "cell_type": "code",
   "execution_count": 29,
   "id": "8ef9f9ee-a50f-49a4-9551-7b36ea22b726",
   "metadata": {
    "tags": []
   },
   "outputs": [],
   "source": [
    "import numpy as np\n",
    "import pandas as pd\n",
    "import matplotlib.pyplot as plt\n",
    "import matplotlib as mpl\n",
    "mpl.rc('font',family='Malgun Gothic')\n",
    "mpl.rcParams['axes.unicode_minus'] = False\n",
    "import seaborn as sns\n",
    "import scipy.stats as stats"
   ]
  },
  {
   "cell_type": "code",
   "execution_count": 11,
   "id": "88432aa4-b57f-48c8-b29f-134bad773134",
   "metadata": {
    "tags": []
   },
   "outputs": [
    {
     "data": {
      "text/html": [
       "<div>\n",
       "<style scoped>\n",
       "    .dataframe tbody tr th:only-of-type {\n",
       "        vertical-align: middle;\n",
       "    }\n",
       "\n",
       "    .dataframe tbody tr th {\n",
       "        vertical-align: top;\n",
       "    }\n",
       "\n",
       "    .dataframe thead th {\n",
       "        text-align: right;\n",
       "    }\n",
       "</style>\n",
       "<table border=\"1\" class=\"dataframe\">\n",
       "  <thead>\n",
       "    <tr style=\"text-align: right;\">\n",
       "      <th></th>\n",
       "      <th>Unnamed: 0</th>\n",
       "      <th>입원기간</th>\n",
       "      <th>환자통증정도</th>\n",
       "      <th>통증기간(월)</th>\n",
       "      <th>Instability</th>\n",
       "      <th>수술기법</th>\n",
       "      <th>수술시간</th>\n",
       "      <th>수술실패여부</th>\n",
       "      <th>디스크단면적</th>\n",
       "      <th>MF + ES</th>\n",
       "      <th>고혈압여부</th>\n",
       "      <th>과거수술횟수</th>\n",
       "      <th>당뇨여부</th>\n",
       "      <th>우울증여부</th>\n",
       "      <th>체중</th>\n",
       "      <th>신장</th>\n",
       "      <th>성별</th>\n",
       "      <th>연령</th>\n",
       "      <th>헤모글로빈수치</th>\n",
       "      <th>Large Lymphocyte</th>\n",
       "    </tr>\n",
       "  </thead>\n",
       "  <tbody>\n",
       "    <tr>\n",
       "      <th>0</th>\n",
       "      <td>0</td>\n",
       "      <td>2</td>\n",
       "      <td>10</td>\n",
       "      <td>1.0</td>\n",
       "      <td>0</td>\n",
       "      <td>TELD</td>\n",
       "      <td>68.0</td>\n",
       "      <td>0</td>\n",
       "      <td>2048.50</td>\n",
       "      <td>1824.6</td>\n",
       "      <td>0</td>\n",
       "      <td>0</td>\n",
       "      <td>0</td>\n",
       "      <td>0</td>\n",
       "      <td>60.3</td>\n",
       "      <td>163</td>\n",
       "      <td>2</td>\n",
       "      <td>66</td>\n",
       "      <td>13.66</td>\n",
       "      <td>22.8</td>\n",
       "    </tr>\n",
       "    <tr>\n",
       "      <th>1</th>\n",
       "      <td>1</td>\n",
       "      <td>1</td>\n",
       "      <td>10</td>\n",
       "      <td>1.0</td>\n",
       "      <td>0</td>\n",
       "      <td>TELD</td>\n",
       "      <td>31.0</td>\n",
       "      <td>0</td>\n",
       "      <td>1753.10</td>\n",
       "      <td>1737.5</td>\n",
       "      <td>0</td>\n",
       "      <td>0</td>\n",
       "      <td>0</td>\n",
       "      <td>0</td>\n",
       "      <td>71.7</td>\n",
       "      <td>171</td>\n",
       "      <td>1</td>\n",
       "      <td>47</td>\n",
       "      <td>13.73</td>\n",
       "      <td>44.9</td>\n",
       "    </tr>\n",
       "    <tr>\n",
       "      <th>2</th>\n",
       "      <td>2</td>\n",
       "      <td>1</td>\n",
       "      <td>7</td>\n",
       "      <td>1.0</td>\n",
       "      <td>0</td>\n",
       "      <td>TELD</td>\n",
       "      <td>78.0</td>\n",
       "      <td>0</td>\n",
       "      <td>1749.00</td>\n",
       "      <td>1188.5</td>\n",
       "      <td>0</td>\n",
       "      <td>1</td>\n",
       "      <td>0</td>\n",
       "      <td>0</td>\n",
       "      <td>77.1</td>\n",
       "      <td>178</td>\n",
       "      <td>1</td>\n",
       "      <td>39</td>\n",
       "      <td>15.34</td>\n",
       "      <td>53.0</td>\n",
       "    </tr>\n",
       "    <tr>\n",
       "      <th>3</th>\n",
       "      <td>3</td>\n",
       "      <td>1</td>\n",
       "      <td>7</td>\n",
       "      <td>2.0</td>\n",
       "      <td>0</td>\n",
       "      <td>TELD</td>\n",
       "      <td>73.0</td>\n",
       "      <td>0</td>\n",
       "      <td>1796.20</td>\n",
       "      <td>2534.5</td>\n",
       "      <td>1</td>\n",
       "      <td>0</td>\n",
       "      <td>0</td>\n",
       "      <td>0</td>\n",
       "      <td>74.2</td>\n",
       "      <td>174</td>\n",
       "      <td>1</td>\n",
       "      <td>40</td>\n",
       "      <td>15.38</td>\n",
       "      <td>54.7</td>\n",
       "    </tr>\n",
       "    <tr>\n",
       "      <th>4</th>\n",
       "      <td>4</td>\n",
       "      <td>2</td>\n",
       "      <td>7</td>\n",
       "      <td>1.0</td>\n",
       "      <td>0</td>\n",
       "      <td>TELD</td>\n",
       "      <td>29.0</td>\n",
       "      <td>0</td>\n",
       "      <td>2021.48</td>\n",
       "      <td>1840.6</td>\n",
       "      <td>1</td>\n",
       "      <td>0</td>\n",
       "      <td>0</td>\n",
       "      <td>0</td>\n",
       "      <td>80.7</td>\n",
       "      <td>183</td>\n",
       "      <td>1</td>\n",
       "      <td>42</td>\n",
       "      <td>13.08</td>\n",
       "      <td>53.8</td>\n",
       "    </tr>\n",
       "  </tbody>\n",
       "</table>\n",
       "</div>"
      ],
      "text/plain": [
       "   Unnamed: 0  입원기간  환자통증정도  통증기간(월)  Instability  수술기법  수술시간  수술실패여부  \\\n",
       "0           0     2      10      1.0            0  TELD  68.0       0   \n",
       "1           1     1      10      1.0            0  TELD  31.0       0   \n",
       "2           2     1       7      1.0            0  TELD  78.0       0   \n",
       "3           3     1       7      2.0            0  TELD  73.0       0   \n",
       "4           4     2       7      1.0            0  TELD  29.0       0   \n",
       "\n",
       "    디스크단면적  MF + ES  고혈압여부  과거수술횟수  당뇨여부  우울증여부    체중   신장  성별  연령  헤모글로빈수치  \\\n",
       "0  2048.50   1824.6      0       0     0      0  60.3  163   2  66    13.66   \n",
       "1  1753.10   1737.5      0       0     0      0  71.7  171   1  47    13.73   \n",
       "2  1749.00   1188.5      0       1     0      0  77.1  178   1  39    15.34   \n",
       "3  1796.20   2534.5      1       0     0      0  74.2  174   1  40    15.38   \n",
       "4  2021.48   1840.6      1       0     0      0  80.7  183   1  42    13.08   \n",
       "\n",
       "   Large Lymphocyte  \n",
       "0              22.8  \n",
       "1              44.9  \n",
       "2              53.0  \n",
       "3              54.7  \n",
       "4              53.8  "
      ]
     },
     "execution_count": 11,
     "metadata": {},
     "output_type": "execute_result"
    }
   ],
   "source": [
    "df_ROS_Analysis = pd.read_csv('../../dataset/RecurrenceOfSurgeryAnalysis.csv')\n",
    "df_ROS_Analysis[:5]"
   ]
  },
  {
   "cell_type": "code",
   "execution_count": 12,
   "id": "215edc75-ec14-41f7-8cdc-973f44bc5784",
   "metadata": {
    "tags": []
   },
   "outputs": [
    {
     "data": {
      "text/html": [
       "<div>\n",
       "<style scoped>\n",
       "    .dataframe tbody tr th:only-of-type {\n",
       "        vertical-align: middle;\n",
       "    }\n",
       "\n",
       "    .dataframe tbody tr th {\n",
       "        vertical-align: top;\n",
       "    }\n",
       "\n",
       "    .dataframe thead th {\n",
       "        text-align: right;\n",
       "    }\n",
       "</style>\n",
       "<table border=\"1\" class=\"dataframe\">\n",
       "  <thead>\n",
       "    <tr style=\"text-align: right;\">\n",
       "      <th></th>\n",
       "      <th>입원기간</th>\n",
       "      <th>고혈압여부</th>\n",
       "      <th>과거수술횟수</th>\n",
       "      <th>당뇨여부</th>\n",
       "      <th>우울증여부</th>\n",
       "      <th>체중</th>\n",
       "      <th>신장</th>\n",
       "      <th>성별</th>\n",
       "      <th>연령</th>\n",
       "      <th>헤모글로빈수치</th>\n",
       "      <th>Large Lymphocyte</th>\n",
       "    </tr>\n",
       "  </thead>\n",
       "  <tbody>\n",
       "    <tr>\n",
       "      <th>0</th>\n",
       "      <td>2</td>\n",
       "      <td>0</td>\n",
       "      <td>0</td>\n",
       "      <td>0</td>\n",
       "      <td>0</td>\n",
       "      <td>60.3</td>\n",
       "      <td>163</td>\n",
       "      <td>2</td>\n",
       "      <td>66</td>\n",
       "      <td>13.66</td>\n",
       "      <td>22.8</td>\n",
       "    </tr>\n",
       "    <tr>\n",
       "      <th>1</th>\n",
       "      <td>1</td>\n",
       "      <td>0</td>\n",
       "      <td>0</td>\n",
       "      <td>0</td>\n",
       "      <td>0</td>\n",
       "      <td>71.7</td>\n",
       "      <td>171</td>\n",
       "      <td>1</td>\n",
       "      <td>47</td>\n",
       "      <td>13.73</td>\n",
       "      <td>44.9</td>\n",
       "    </tr>\n",
       "    <tr>\n",
       "      <th>2</th>\n",
       "      <td>1</td>\n",
       "      <td>0</td>\n",
       "      <td>1</td>\n",
       "      <td>0</td>\n",
       "      <td>0</td>\n",
       "      <td>77.1</td>\n",
       "      <td>178</td>\n",
       "      <td>1</td>\n",
       "      <td>39</td>\n",
       "      <td>15.34</td>\n",
       "      <td>53.0</td>\n",
       "    </tr>\n",
       "    <tr>\n",
       "      <th>3</th>\n",
       "      <td>1</td>\n",
       "      <td>1</td>\n",
       "      <td>0</td>\n",
       "      <td>0</td>\n",
       "      <td>0</td>\n",
       "      <td>74.2</td>\n",
       "      <td>174</td>\n",
       "      <td>1</td>\n",
       "      <td>40</td>\n",
       "      <td>15.38</td>\n",
       "      <td>54.7</td>\n",
       "    </tr>\n",
       "    <tr>\n",
       "      <th>4</th>\n",
       "      <td>2</td>\n",
       "      <td>1</td>\n",
       "      <td>0</td>\n",
       "      <td>0</td>\n",
       "      <td>0</td>\n",
       "      <td>80.7</td>\n",
       "      <td>183</td>\n",
       "      <td>1</td>\n",
       "      <td>42</td>\n",
       "      <td>13.08</td>\n",
       "      <td>53.8</td>\n",
       "    </tr>\n",
       "    <tr>\n",
       "      <th>...</th>\n",
       "      <td>...</td>\n",
       "      <td>...</td>\n",
       "      <td>...</td>\n",
       "      <td>...</td>\n",
       "      <td>...</td>\n",
       "      <td>...</td>\n",
       "      <td>...</td>\n",
       "      <td>...</td>\n",
       "      <td>...</td>\n",
       "      <td>...</td>\n",
       "      <td>...</td>\n",
       "    </tr>\n",
       "    <tr>\n",
       "      <th>1748</th>\n",
       "      <td>12</td>\n",
       "      <td>0</td>\n",
       "      <td>0</td>\n",
       "      <td>0</td>\n",
       "      <td>0</td>\n",
       "      <td>52.0</td>\n",
       "      <td>163</td>\n",
       "      <td>2</td>\n",
       "      <td>29</td>\n",
       "      <td>13.70</td>\n",
       "      <td>32.4</td>\n",
       "    </tr>\n",
       "    <tr>\n",
       "      <th>1749</th>\n",
       "      <td>2</td>\n",
       "      <td>0</td>\n",
       "      <td>0</td>\n",
       "      <td>0</td>\n",
       "      <td>0</td>\n",
       "      <td>64.0</td>\n",
       "      <td>185</td>\n",
       "      <td>1</td>\n",
       "      <td>21</td>\n",
       "      <td>15.70</td>\n",
       "      <td>42.4</td>\n",
       "    </tr>\n",
       "    <tr>\n",
       "      <th>1750</th>\n",
       "      <td>3</td>\n",
       "      <td>0</td>\n",
       "      <td>0</td>\n",
       "      <td>0</td>\n",
       "      <td>0</td>\n",
       "      <td>60.0</td>\n",
       "      <td>160</td>\n",
       "      <td>1</td>\n",
       "      <td>43</td>\n",
       "      <td>15.60</td>\n",
       "      <td>30.8</td>\n",
       "    </tr>\n",
       "    <tr>\n",
       "      <th>1751</th>\n",
       "      <td>3</td>\n",
       "      <td>0</td>\n",
       "      <td>0</td>\n",
       "      <td>0</td>\n",
       "      <td>0</td>\n",
       "      <td>70.0</td>\n",
       "      <td>173</td>\n",
       "      <td>1</td>\n",
       "      <td>20</td>\n",
       "      <td>13.00</td>\n",
       "      <td>5.4</td>\n",
       "    </tr>\n",
       "    <tr>\n",
       "      <th>1752</th>\n",
       "      <td>3</td>\n",
       "      <td>0</td>\n",
       "      <td>0</td>\n",
       "      <td>0</td>\n",
       "      <td>0</td>\n",
       "      <td>70.0</td>\n",
       "      <td>167</td>\n",
       "      <td>1</td>\n",
       "      <td>61</td>\n",
       "      <td>14.40</td>\n",
       "      <td>36.7</td>\n",
       "    </tr>\n",
       "  </tbody>\n",
       "</table>\n",
       "<p>1753 rows × 11 columns</p>\n",
       "</div>"
      ],
      "text/plain": [
       "      입원기간  고혈압여부  과거수술횟수  당뇨여부  우울증여부    체중   신장  성별  연령  헤모글로빈수치  \\\n",
       "0        2      0       0     0      0  60.3  163   2  66    13.66   \n",
       "1        1      0       0     0      0  71.7  171   1  47    13.73   \n",
       "2        1      0       1     0      0  77.1  178   1  39    15.34   \n",
       "3        1      1       0     0      0  74.2  174   1  40    15.38   \n",
       "4        2      1       0     0      0  80.7  183   1  42    13.08   \n",
       "...    ...    ...     ...   ...    ...   ...  ...  ..  ..      ...   \n",
       "1748    12      0       0     0      0  52.0  163   2  29    13.70   \n",
       "1749     2      0       0     0      0  64.0  185   1  21    15.70   \n",
       "1750     3      0       0     0      0  60.0  160   1  43    15.60   \n",
       "1751     3      0       0     0      0  70.0  173   1  20    13.00   \n",
       "1752     3      0       0     0      0  70.0  167   1  61    14.40   \n",
       "\n",
       "      Large Lymphocyte  \n",
       "0                 22.8  \n",
       "1                 44.9  \n",
       "2                 53.0  \n",
       "3                 54.7  \n",
       "4                 53.8  \n",
       "...                ...  \n",
       "1748              32.4  \n",
       "1749              42.4  \n",
       "1750              30.8  \n",
       "1751               5.4  \n",
       "1752              36.7  \n",
       "\n",
       "[1753 rows x 11 columns]"
      ]
     },
     "execution_count": 12,
     "metadata": {},
     "output_type": "execute_result"
    }
   ],
   "source": [
    "df_ROS = df_ROS_Analysis[['입원기간', '고혈압여부', '과거수술횟수', '당뇨여부', '우울증여부',\n",
    "       '체중', '신장', '성별', '연령', '헤모글로빈수치', 'Large Lymphocyte']]\n",
    "df_ROS"
   ]
  },
  {
   "cell_type": "code",
   "execution_count": 13,
   "id": "c57edde5-839a-4b00-90aa-389816bb7f41",
   "metadata": {
    "tags": []
   },
   "outputs": [
    {
     "name": "stderr",
     "output_type": "stream",
     "text": [
      "C:\\Users\\01-02\\AppData\\Local\\Temp\\ipykernel_14332\\2347698486.py:1: SettingWithCopyWarning: \n",
      "A value is trying to be set on a copy of a slice from a DataFrame.\n",
      "Try using .loc[row_indexer,col_indexer] = value instead\n",
      "\n",
      "See the caveats in the documentation: https://pandas.pydata.org/pandas-docs/stable/user_guide/indexing.html#returning-a-view-versus-a-copy\n",
      "  df_ROS['체중_str'] = df_ROS['체중'].astype(str)\n",
      "C:\\Users\\01-02\\AppData\\Local\\Temp\\ipykernel_14332\\2347698486.py:2: SettingWithCopyWarning: \n",
      "A value is trying to be set on a copy of a slice from a DataFrame.\n",
      "Try using .loc[row_indexer,col_indexer] = value instead\n",
      "\n",
      "See the caveats in the documentation: https://pandas.pydata.org/pandas-docs/stable/user_guide/indexing.html#returning-a-view-versus-a-copy\n",
      "  df_ROS['신장_str'] = df_ROS['신장'].astype(str)\n"
     ]
    }
   ],
   "source": [
    "df_ROS['체중_str'] = df_ROS['체중'].astype(str)\n",
    "df_ROS['신장_str'] = df_ROS['신장'].astype(str)"
   ]
  },
  {
   "cell_type": "code",
   "execution_count": 14,
   "id": "4d37012b-b370-4b4f-86e0-24118c9554d4",
   "metadata": {
    "tags": []
   },
   "outputs": [
    {
     "data": {
      "text/html": [
       "<div>\n",
       "<style scoped>\n",
       "    .dataframe tbody tr th:only-of-type {\n",
       "        vertical-align: middle;\n",
       "    }\n",
       "\n",
       "    .dataframe tbody tr th {\n",
       "        vertical-align: top;\n",
       "    }\n",
       "\n",
       "    .dataframe thead th {\n",
       "        text-align: right;\n",
       "    }\n",
       "</style>\n",
       "<table border=\"1\" class=\"dataframe\">\n",
       "  <thead>\n",
       "    <tr style=\"text-align: right;\">\n",
       "      <th></th>\n",
       "      <th>체중_str</th>\n",
       "      <th>신장_str</th>\n",
       "    </tr>\n",
       "  </thead>\n",
       "  <tbody>\n",
       "    <tr>\n",
       "      <th>0</th>\n",
       "      <td>60.3</td>\n",
       "      <td>163</td>\n",
       "    </tr>\n",
       "    <tr>\n",
       "      <th>1</th>\n",
       "      <td>71.7</td>\n",
       "      <td>171</td>\n",
       "    </tr>\n",
       "    <tr>\n",
       "      <th>2</th>\n",
       "      <td>77.1</td>\n",
       "      <td>178</td>\n",
       "    </tr>\n",
       "    <tr>\n",
       "      <th>3</th>\n",
       "      <td>74.2</td>\n",
       "      <td>174</td>\n",
       "    </tr>\n",
       "    <tr>\n",
       "      <th>4</th>\n",
       "      <td>80.7</td>\n",
       "      <td>183</td>\n",
       "    </tr>\n",
       "    <tr>\n",
       "      <th>...</th>\n",
       "      <td>...</td>\n",
       "      <td>...</td>\n",
       "    </tr>\n",
       "    <tr>\n",
       "      <th>1748</th>\n",
       "      <td>52.0</td>\n",
       "      <td>163</td>\n",
       "    </tr>\n",
       "    <tr>\n",
       "      <th>1749</th>\n",
       "      <td>64.0</td>\n",
       "      <td>185</td>\n",
       "    </tr>\n",
       "    <tr>\n",
       "      <th>1750</th>\n",
       "      <td>60.0</td>\n",
       "      <td>160</td>\n",
       "    </tr>\n",
       "    <tr>\n",
       "      <th>1751</th>\n",
       "      <td>70.0</td>\n",
       "      <td>173</td>\n",
       "    </tr>\n",
       "    <tr>\n",
       "      <th>1752</th>\n",
       "      <td>70.0</td>\n",
       "      <td>167</td>\n",
       "    </tr>\n",
       "  </tbody>\n",
       "</table>\n",
       "<p>1753 rows × 2 columns</p>\n",
       "</div>"
      ],
      "text/plain": [
       "     체중_str 신장_str\n",
       "0      60.3    163\n",
       "1      71.7    171\n",
       "2      77.1    178\n",
       "3      74.2    174\n",
       "4      80.7    183\n",
       "...     ...    ...\n",
       "1748   52.0    163\n",
       "1749   64.0    185\n",
       "1750   60.0    160\n",
       "1751   70.0    173\n",
       "1752   70.0    167\n",
       "\n",
       "[1753 rows x 2 columns]"
      ]
     },
     "execution_count": 14,
     "metadata": {},
     "output_type": "execute_result"
    }
   ],
   "source": [
    "df_ROS[['체중_str', '신장_str']]"
   ]
  },
  {
   "cell_type": "code",
   "execution_count": 15,
   "id": "614213b7-3e65-4f1f-b79b-dc57b6c47127",
   "metadata": {
    "tags": []
   },
   "outputs": [
    {
     "name": "stderr",
     "output_type": "stream",
     "text": [
      "C:\\Users\\01-02\\AppData\\Local\\Temp\\ipykernel_14332\\2272525233.py:1: SettingWithCopyWarning: \n",
      "A value is trying to be set on a copy of a slice from a DataFrame.\n",
      "Try using .loc[row_indexer,col_indexer] = value instead\n",
      "\n",
      "See the caveats in the documentation: https://pandas.pydata.org/pandas-docs/stable/user_guide/indexing.html#returning-a-view-versus-a-copy\n",
      "  df_ROS['체중_str_num'] = pd.to_numeric(df_ROS['체중_str'])\n"
     ]
    },
    {
     "data": {
      "text/plain": [
       "0       60.3\n",
       "1       71.7\n",
       "2       77.1\n",
       "3       74.2\n",
       "4       80.7\n",
       "        ... \n",
       "1748    52.0\n",
       "1749    64.0\n",
       "1750    60.0\n",
       "1751    70.0\n",
       "1752    70.0\n",
       "Name: 체중_str_num, Length: 1753, dtype: float64"
      ]
     },
     "execution_count": 15,
     "metadata": {},
     "output_type": "execute_result"
    }
   ],
   "source": [
    "df_ROS['체중_str_num'] = pd.to_numeric(df_ROS['체중_str'])\n",
    "df_ROS['체중_str_num']"
   ]
  },
  {
   "cell_type": "code",
   "execution_count": 16,
   "id": "180c6dfe-286c-4317-911f-072920e29566",
   "metadata": {
    "tags": []
   },
   "outputs": [
    {
     "name": "stderr",
     "output_type": "stream",
     "text": [
      "C:\\Users\\01-02\\AppData\\Local\\Temp\\ipykernel_14332\\628115756.py:1: SettingWithCopyWarning: \n",
      "A value is trying to be set on a copy of a slice from a DataFrame.\n",
      "Try using .loc[row_indexer,col_indexer] = value instead\n",
      "\n",
      "See the caveats in the documentation: https://pandas.pydata.org/pandas-docs/stable/user_guide/indexing.html#returning-a-view-versus-a-copy\n",
      "  df_ROS['신장_str_num'] = pd.to_numeric(df_ROS['신장_str'])\n"
     ]
    },
    {
     "data": {
      "text/plain": [
       "0       163\n",
       "1       171\n",
       "2       178\n",
       "3       174\n",
       "4       183\n",
       "       ... \n",
       "1748    163\n",
       "1749    185\n",
       "1750    160\n",
       "1751    173\n",
       "1752    167\n",
       "Name: 신장_str_num, Length: 1753, dtype: int64"
      ]
     },
     "execution_count": 16,
     "metadata": {},
     "output_type": "execute_result"
    }
   ],
   "source": [
    "df_ROS['신장_str_num'] = pd.to_numeric(df_ROS['신장_str'])\n",
    "df_ROS['신장_str_num'] "
   ]
  },
  {
   "cell_type": "code",
   "execution_count": 17,
   "id": "1ff392a1-177d-4e8f-b478-a05d6d3b47ef",
   "metadata": {
    "tags": []
   },
   "outputs": [
    {
     "name": "stderr",
     "output_type": "stream",
     "text": [
      "C:\\Users\\01-02\\AppData\\Local\\Temp\\ipykernel_14332\\4168967935.py:1: SettingWithCopyWarning: \n",
      "A value is trying to be set on a copy of a slice from a DataFrame.\n",
      "Try using .loc[row_indexer,col_indexer] = value instead\n",
      "\n",
      "See the caveats in the documentation: https://pandas.pydata.org/pandas-docs/stable/user_guide/indexing.html#returning-a-view-versus-a-copy\n",
      "  df_ROS['신장_str_num_M'] = df_ROS['신장_str_num'] * 0.01\n"
     ]
    },
    {
     "data": {
      "text/plain": [
       "0       1.63\n",
       "1       1.71\n",
       "2       1.78\n",
       "3       1.74\n",
       "4       1.83\n",
       "        ... \n",
       "1748    1.63\n",
       "1749    1.85\n",
       "1750    1.60\n",
       "1751    1.73\n",
       "1752    1.67\n",
       "Name: 신장_str_num_M, Length: 1753, dtype: float64"
      ]
     },
     "execution_count": 17,
     "metadata": {},
     "output_type": "execute_result"
    }
   ],
   "source": [
    "df_ROS['신장_str_num_M'] = df_ROS['신장_str_num'] * 0.01\n",
    "df_ROS['신장_str_num_M']"
   ]
  },
  {
   "cell_type": "code",
   "execution_count": 18,
   "id": "6c5b25fe-48f4-4505-94e2-a7938fca025e",
   "metadata": {
    "tags": []
   },
   "outputs": [
    {
     "name": "stderr",
     "output_type": "stream",
     "text": [
      "C:\\Users\\01-02\\AppData\\Local\\Temp\\ipykernel_14332\\607245305.py:1: SettingWithCopyWarning: \n",
      "A value is trying to be set on a copy of a slice from a DataFrame.\n",
      "Try using .loc[row_indexer,col_indexer] = value instead\n",
      "\n",
      "See the caveats in the documentation: https://pandas.pydata.org/pandas-docs/stable/user_guide/indexing.html#returning-a-view-versus-a-copy\n",
      "  df_ROS['BMI'] = df_ROS['체중_str_num']/(df_ROS['신장_str_num_M'] * df_ROS['신장_str_num_M'])\n"
     ]
    },
    {
     "data": {
      "text/plain": [
       "0       22.695623\n",
       "1       24.520365\n",
       "2       24.334049\n",
       "3       24.507861\n",
       "4       24.097465\n",
       "          ...    \n",
       "1748    19.571681\n",
       "1749    18.699781\n",
       "1750    23.437500\n",
       "1751    23.388687\n",
       "1752    25.099502\n",
       "Name: BMI, Length: 1753, dtype: float64"
      ]
     },
     "execution_count": 18,
     "metadata": {},
     "output_type": "execute_result"
    }
   ],
   "source": [
    "df_ROS['BMI'] = df_ROS['체중_str_num']/(df_ROS['신장_str_num_M'] * df_ROS['신장_str_num_M'])\n",
    "df_ROS['BMI']"
   ]
  },
  {
   "cell_type": "code",
   "execution_count": 19,
   "id": "a794098c-4886-4b5b-8376-da6e7598a2ee",
   "metadata": {
    "collapsed": true,
    "jupyter": {
     "outputs_hidden": true
    },
    "tags": []
   },
   "outputs": [
    {
     "data": {
      "text/html": [
       "<div>\n",
       "<style scoped>\n",
       "    .dataframe tbody tr th:only-of-type {\n",
       "        vertical-align: middle;\n",
       "    }\n",
       "\n",
       "    .dataframe tbody tr th {\n",
       "        vertical-align: top;\n",
       "    }\n",
       "\n",
       "    .dataframe thead th {\n",
       "        text-align: right;\n",
       "    }\n",
       "</style>\n",
       "<table border=\"1\" class=\"dataframe\">\n",
       "  <thead>\n",
       "    <tr style=\"text-align: right;\">\n",
       "      <th></th>\n",
       "      <th>입원기간</th>\n",
       "      <th>고혈압여부</th>\n",
       "      <th>과거수술횟수</th>\n",
       "      <th>당뇨여부</th>\n",
       "      <th>우울증여부</th>\n",
       "      <th>체중</th>\n",
       "      <th>신장</th>\n",
       "      <th>성별</th>\n",
       "      <th>연령</th>\n",
       "      <th>헤모글로빈수치</th>\n",
       "      <th>Large Lymphocyte</th>\n",
       "      <th>체중_str</th>\n",
       "      <th>신장_str</th>\n",
       "      <th>체중_str_num</th>\n",
       "      <th>신장_str_num</th>\n",
       "      <th>신장_str_num_M</th>\n",
       "      <th>BMI</th>\n",
       "    </tr>\n",
       "  </thead>\n",
       "  <tbody>\n",
       "    <tr>\n",
       "      <th>0</th>\n",
       "      <td>2</td>\n",
       "      <td>0</td>\n",
       "      <td>0</td>\n",
       "      <td>0</td>\n",
       "      <td>0</td>\n",
       "      <td>60.3</td>\n",
       "      <td>163</td>\n",
       "      <td>2</td>\n",
       "      <td>66</td>\n",
       "      <td>13.66</td>\n",
       "      <td>22.8</td>\n",
       "      <td>60.3</td>\n",
       "      <td>163</td>\n",
       "      <td>60.3</td>\n",
       "      <td>163</td>\n",
       "      <td>1.63</td>\n",
       "      <td>22.695623</td>\n",
       "    </tr>\n",
       "    <tr>\n",
       "      <th>1</th>\n",
       "      <td>1</td>\n",
       "      <td>0</td>\n",
       "      <td>0</td>\n",
       "      <td>0</td>\n",
       "      <td>0</td>\n",
       "      <td>71.7</td>\n",
       "      <td>171</td>\n",
       "      <td>1</td>\n",
       "      <td>47</td>\n",
       "      <td>13.73</td>\n",
       "      <td>44.9</td>\n",
       "      <td>71.7</td>\n",
       "      <td>171</td>\n",
       "      <td>71.7</td>\n",
       "      <td>171</td>\n",
       "      <td>1.71</td>\n",
       "      <td>24.520365</td>\n",
       "    </tr>\n",
       "    <tr>\n",
       "      <th>2</th>\n",
       "      <td>1</td>\n",
       "      <td>0</td>\n",
       "      <td>1</td>\n",
       "      <td>0</td>\n",
       "      <td>0</td>\n",
       "      <td>77.1</td>\n",
       "      <td>178</td>\n",
       "      <td>1</td>\n",
       "      <td>39</td>\n",
       "      <td>15.34</td>\n",
       "      <td>53.0</td>\n",
       "      <td>77.1</td>\n",
       "      <td>178</td>\n",
       "      <td>77.1</td>\n",
       "      <td>178</td>\n",
       "      <td>1.78</td>\n",
       "      <td>24.334049</td>\n",
       "    </tr>\n",
       "    <tr>\n",
       "      <th>3</th>\n",
       "      <td>1</td>\n",
       "      <td>1</td>\n",
       "      <td>0</td>\n",
       "      <td>0</td>\n",
       "      <td>0</td>\n",
       "      <td>74.2</td>\n",
       "      <td>174</td>\n",
       "      <td>1</td>\n",
       "      <td>40</td>\n",
       "      <td>15.38</td>\n",
       "      <td>54.7</td>\n",
       "      <td>74.2</td>\n",
       "      <td>174</td>\n",
       "      <td>74.2</td>\n",
       "      <td>174</td>\n",
       "      <td>1.74</td>\n",
       "      <td>24.507861</td>\n",
       "    </tr>\n",
       "    <tr>\n",
       "      <th>4</th>\n",
       "      <td>2</td>\n",
       "      <td>1</td>\n",
       "      <td>0</td>\n",
       "      <td>0</td>\n",
       "      <td>0</td>\n",
       "      <td>80.7</td>\n",
       "      <td>183</td>\n",
       "      <td>1</td>\n",
       "      <td>42</td>\n",
       "      <td>13.08</td>\n",
       "      <td>53.8</td>\n",
       "      <td>80.7</td>\n",
       "      <td>183</td>\n",
       "      <td>80.7</td>\n",
       "      <td>183</td>\n",
       "      <td>1.83</td>\n",
       "      <td>24.097465</td>\n",
       "    </tr>\n",
       "    <tr>\n",
       "      <th>...</th>\n",
       "      <td>...</td>\n",
       "      <td>...</td>\n",
       "      <td>...</td>\n",
       "      <td>...</td>\n",
       "      <td>...</td>\n",
       "      <td>...</td>\n",
       "      <td>...</td>\n",
       "      <td>...</td>\n",
       "      <td>...</td>\n",
       "      <td>...</td>\n",
       "      <td>...</td>\n",
       "      <td>...</td>\n",
       "      <td>...</td>\n",
       "      <td>...</td>\n",
       "      <td>...</td>\n",
       "      <td>...</td>\n",
       "      <td>...</td>\n",
       "    </tr>\n",
       "    <tr>\n",
       "      <th>1748</th>\n",
       "      <td>12</td>\n",
       "      <td>0</td>\n",
       "      <td>0</td>\n",
       "      <td>0</td>\n",
       "      <td>0</td>\n",
       "      <td>52.0</td>\n",
       "      <td>163</td>\n",
       "      <td>2</td>\n",
       "      <td>29</td>\n",
       "      <td>13.70</td>\n",
       "      <td>32.4</td>\n",
       "      <td>52.0</td>\n",
       "      <td>163</td>\n",
       "      <td>52.0</td>\n",
       "      <td>163</td>\n",
       "      <td>1.63</td>\n",
       "      <td>19.571681</td>\n",
       "    </tr>\n",
       "    <tr>\n",
       "      <th>1749</th>\n",
       "      <td>2</td>\n",
       "      <td>0</td>\n",
       "      <td>0</td>\n",
       "      <td>0</td>\n",
       "      <td>0</td>\n",
       "      <td>64.0</td>\n",
       "      <td>185</td>\n",
       "      <td>1</td>\n",
       "      <td>21</td>\n",
       "      <td>15.70</td>\n",
       "      <td>42.4</td>\n",
       "      <td>64.0</td>\n",
       "      <td>185</td>\n",
       "      <td>64.0</td>\n",
       "      <td>185</td>\n",
       "      <td>1.85</td>\n",
       "      <td>18.699781</td>\n",
       "    </tr>\n",
       "    <tr>\n",
       "      <th>1750</th>\n",
       "      <td>3</td>\n",
       "      <td>0</td>\n",
       "      <td>0</td>\n",
       "      <td>0</td>\n",
       "      <td>0</td>\n",
       "      <td>60.0</td>\n",
       "      <td>160</td>\n",
       "      <td>1</td>\n",
       "      <td>43</td>\n",
       "      <td>15.60</td>\n",
       "      <td>30.8</td>\n",
       "      <td>60.0</td>\n",
       "      <td>160</td>\n",
       "      <td>60.0</td>\n",
       "      <td>160</td>\n",
       "      <td>1.60</td>\n",
       "      <td>23.437500</td>\n",
       "    </tr>\n",
       "    <tr>\n",
       "      <th>1751</th>\n",
       "      <td>3</td>\n",
       "      <td>0</td>\n",
       "      <td>0</td>\n",
       "      <td>0</td>\n",
       "      <td>0</td>\n",
       "      <td>70.0</td>\n",
       "      <td>173</td>\n",
       "      <td>1</td>\n",
       "      <td>20</td>\n",
       "      <td>13.00</td>\n",
       "      <td>5.4</td>\n",
       "      <td>70.0</td>\n",
       "      <td>173</td>\n",
       "      <td>70.0</td>\n",
       "      <td>173</td>\n",
       "      <td>1.73</td>\n",
       "      <td>23.388687</td>\n",
       "    </tr>\n",
       "    <tr>\n",
       "      <th>1752</th>\n",
       "      <td>3</td>\n",
       "      <td>0</td>\n",
       "      <td>0</td>\n",
       "      <td>0</td>\n",
       "      <td>0</td>\n",
       "      <td>70.0</td>\n",
       "      <td>167</td>\n",
       "      <td>1</td>\n",
       "      <td>61</td>\n",
       "      <td>14.40</td>\n",
       "      <td>36.7</td>\n",
       "      <td>70.0</td>\n",
       "      <td>167</td>\n",
       "      <td>70.0</td>\n",
       "      <td>167</td>\n",
       "      <td>1.67</td>\n",
       "      <td>25.099502</td>\n",
       "    </tr>\n",
       "  </tbody>\n",
       "</table>\n",
       "<p>1753 rows × 17 columns</p>\n",
       "</div>"
      ],
      "text/plain": [
       "      입원기간  고혈압여부  과거수술횟수  당뇨여부  우울증여부    체중   신장  성별  연령  헤모글로빈수치  \\\n",
       "0        2      0       0     0      0  60.3  163   2  66    13.66   \n",
       "1        1      0       0     0      0  71.7  171   1  47    13.73   \n",
       "2        1      0       1     0      0  77.1  178   1  39    15.34   \n",
       "3        1      1       0     0      0  74.2  174   1  40    15.38   \n",
       "4        2      1       0     0      0  80.7  183   1  42    13.08   \n",
       "...    ...    ...     ...   ...    ...   ...  ...  ..  ..      ...   \n",
       "1748    12      0       0     0      0  52.0  163   2  29    13.70   \n",
       "1749     2      0       0     0      0  64.0  185   1  21    15.70   \n",
       "1750     3      0       0     0      0  60.0  160   1  43    15.60   \n",
       "1751     3      0       0     0      0  70.0  173   1  20    13.00   \n",
       "1752     3      0       0     0      0  70.0  167   1  61    14.40   \n",
       "\n",
       "      Large Lymphocyte 체중_str 신장_str  체중_str_num  신장_str_num  신장_str_num_M  \\\n",
       "0                 22.8   60.3    163        60.3         163          1.63   \n",
       "1                 44.9   71.7    171        71.7         171          1.71   \n",
       "2                 53.0   77.1    178        77.1         178          1.78   \n",
       "3                 54.7   74.2    174        74.2         174          1.74   \n",
       "4                 53.8   80.7    183        80.7         183          1.83   \n",
       "...                ...    ...    ...         ...         ...           ...   \n",
       "1748              32.4   52.0    163        52.0         163          1.63   \n",
       "1749              42.4   64.0    185        64.0         185          1.85   \n",
       "1750              30.8   60.0    160        60.0         160          1.60   \n",
       "1751               5.4   70.0    173        70.0         173          1.73   \n",
       "1752              36.7   70.0    167        70.0         167          1.67   \n",
       "\n",
       "            BMI  \n",
       "0     22.695623  \n",
       "1     24.520365  \n",
       "2     24.334049  \n",
       "3     24.507861  \n",
       "4     24.097465  \n",
       "...         ...  \n",
       "1748  19.571681  \n",
       "1749  18.699781  \n",
       "1750  23.437500  \n",
       "1751  23.388687  \n",
       "1752  25.099502  \n",
       "\n",
       "[1753 rows x 17 columns]"
      ]
     },
     "execution_count": 19,
     "metadata": {},
     "output_type": "execute_result"
    }
   ],
   "source": [
    "df_ROS"
   ]
  },
  {
   "cell_type": "code",
   "execution_count": 23,
   "id": "6cbd73ac-c213-46e0-b997-858294fff7bb",
   "metadata": {
    "tags": []
   },
   "outputs": [],
   "source": [
    "# 출처 Chat GPT\n",
    "def classify_bmi_range(bmi): \n",
    "    if bmi < 18.5:\n",
    "        return '저체중'\n",
    "    elif 18.5 <= bmi < 23:\n",
    "        return '정상'\n",
    "    elif 23 <= bmi < 25:\n",
    "        return '과체중'\n",
    "    else:\n",
    "        return '비만'"
   ]
  },
  {
   "cell_type": "code",
   "execution_count": 24,
   "id": "bc279421-daa9-4fa8-90d0-7eaf9c5f9f37",
   "metadata": {
    "collapsed": true,
    "jupyter": {
     "outputs_hidden": true
    },
    "tags": []
   },
   "outputs": [
    {
     "name": "stderr",
     "output_type": "stream",
     "text": [
      "C:\\Users\\01-02\\AppData\\Local\\Temp\\ipykernel_14332\\2319910938.py:1: SettingWithCopyWarning: \n",
      "A value is trying to be set on a copy of a slice from a DataFrame.\n",
      "Try using .loc[row_indexer,col_indexer] = value instead\n",
      "\n",
      "See the caveats in the documentation: https://pandas.pydata.org/pandas-docs/stable/user_guide/indexing.html#returning-a-view-versus-a-copy\n",
      "  df_ROS['비만도'] = df_ROS['BMI'].apply(classify_bmi_range)\n"
     ]
    },
    {
     "data": {
      "text/html": [
       "<div>\n",
       "<style scoped>\n",
       "    .dataframe tbody tr th:only-of-type {\n",
       "        vertical-align: middle;\n",
       "    }\n",
       "\n",
       "    .dataframe tbody tr th {\n",
       "        vertical-align: top;\n",
       "    }\n",
       "\n",
       "    .dataframe thead th {\n",
       "        text-align: right;\n",
       "    }\n",
       "</style>\n",
       "<table border=\"1\" class=\"dataframe\">\n",
       "  <thead>\n",
       "    <tr style=\"text-align: right;\">\n",
       "      <th></th>\n",
       "      <th>입원기간</th>\n",
       "      <th>고혈압여부</th>\n",
       "      <th>과거수술횟수</th>\n",
       "      <th>당뇨여부</th>\n",
       "      <th>우울증여부</th>\n",
       "      <th>체중</th>\n",
       "      <th>신장</th>\n",
       "      <th>성별</th>\n",
       "      <th>연령</th>\n",
       "      <th>헤모글로빈수치</th>\n",
       "      <th>Large Lymphocyte</th>\n",
       "      <th>체중_str</th>\n",
       "      <th>신장_str</th>\n",
       "      <th>체중_str_num</th>\n",
       "      <th>신장_str_num</th>\n",
       "      <th>신장_str_num_M</th>\n",
       "      <th>BMI</th>\n",
       "      <th>비만도</th>\n",
       "    </tr>\n",
       "  </thead>\n",
       "  <tbody>\n",
       "    <tr>\n",
       "      <th>0</th>\n",
       "      <td>2</td>\n",
       "      <td>0</td>\n",
       "      <td>0</td>\n",
       "      <td>0</td>\n",
       "      <td>0</td>\n",
       "      <td>60.3</td>\n",
       "      <td>163</td>\n",
       "      <td>2</td>\n",
       "      <td>66</td>\n",
       "      <td>13.66</td>\n",
       "      <td>22.8</td>\n",
       "      <td>60.3</td>\n",
       "      <td>163</td>\n",
       "      <td>60.3</td>\n",
       "      <td>163</td>\n",
       "      <td>1.63</td>\n",
       "      <td>22.695623</td>\n",
       "      <td>정상</td>\n",
       "    </tr>\n",
       "    <tr>\n",
       "      <th>1</th>\n",
       "      <td>1</td>\n",
       "      <td>0</td>\n",
       "      <td>0</td>\n",
       "      <td>0</td>\n",
       "      <td>0</td>\n",
       "      <td>71.7</td>\n",
       "      <td>171</td>\n",
       "      <td>1</td>\n",
       "      <td>47</td>\n",
       "      <td>13.73</td>\n",
       "      <td>44.9</td>\n",
       "      <td>71.7</td>\n",
       "      <td>171</td>\n",
       "      <td>71.7</td>\n",
       "      <td>171</td>\n",
       "      <td>1.71</td>\n",
       "      <td>24.520365</td>\n",
       "      <td>과체중</td>\n",
       "    </tr>\n",
       "    <tr>\n",
       "      <th>2</th>\n",
       "      <td>1</td>\n",
       "      <td>0</td>\n",
       "      <td>1</td>\n",
       "      <td>0</td>\n",
       "      <td>0</td>\n",
       "      <td>77.1</td>\n",
       "      <td>178</td>\n",
       "      <td>1</td>\n",
       "      <td>39</td>\n",
       "      <td>15.34</td>\n",
       "      <td>53.0</td>\n",
       "      <td>77.1</td>\n",
       "      <td>178</td>\n",
       "      <td>77.1</td>\n",
       "      <td>178</td>\n",
       "      <td>1.78</td>\n",
       "      <td>24.334049</td>\n",
       "      <td>과체중</td>\n",
       "    </tr>\n",
       "    <tr>\n",
       "      <th>3</th>\n",
       "      <td>1</td>\n",
       "      <td>1</td>\n",
       "      <td>0</td>\n",
       "      <td>0</td>\n",
       "      <td>0</td>\n",
       "      <td>74.2</td>\n",
       "      <td>174</td>\n",
       "      <td>1</td>\n",
       "      <td>40</td>\n",
       "      <td>15.38</td>\n",
       "      <td>54.7</td>\n",
       "      <td>74.2</td>\n",
       "      <td>174</td>\n",
       "      <td>74.2</td>\n",
       "      <td>174</td>\n",
       "      <td>1.74</td>\n",
       "      <td>24.507861</td>\n",
       "      <td>과체중</td>\n",
       "    </tr>\n",
       "    <tr>\n",
       "      <th>4</th>\n",
       "      <td>2</td>\n",
       "      <td>1</td>\n",
       "      <td>0</td>\n",
       "      <td>0</td>\n",
       "      <td>0</td>\n",
       "      <td>80.7</td>\n",
       "      <td>183</td>\n",
       "      <td>1</td>\n",
       "      <td>42</td>\n",
       "      <td>13.08</td>\n",
       "      <td>53.8</td>\n",
       "      <td>80.7</td>\n",
       "      <td>183</td>\n",
       "      <td>80.7</td>\n",
       "      <td>183</td>\n",
       "      <td>1.83</td>\n",
       "      <td>24.097465</td>\n",
       "      <td>과체중</td>\n",
       "    </tr>\n",
       "    <tr>\n",
       "      <th>...</th>\n",
       "      <td>...</td>\n",
       "      <td>...</td>\n",
       "      <td>...</td>\n",
       "      <td>...</td>\n",
       "      <td>...</td>\n",
       "      <td>...</td>\n",
       "      <td>...</td>\n",
       "      <td>...</td>\n",
       "      <td>...</td>\n",
       "      <td>...</td>\n",
       "      <td>...</td>\n",
       "      <td>...</td>\n",
       "      <td>...</td>\n",
       "      <td>...</td>\n",
       "      <td>...</td>\n",
       "      <td>...</td>\n",
       "      <td>...</td>\n",
       "      <td>...</td>\n",
       "    </tr>\n",
       "    <tr>\n",
       "      <th>1748</th>\n",
       "      <td>12</td>\n",
       "      <td>0</td>\n",
       "      <td>0</td>\n",
       "      <td>0</td>\n",
       "      <td>0</td>\n",
       "      <td>52.0</td>\n",
       "      <td>163</td>\n",
       "      <td>2</td>\n",
       "      <td>29</td>\n",
       "      <td>13.70</td>\n",
       "      <td>32.4</td>\n",
       "      <td>52.0</td>\n",
       "      <td>163</td>\n",
       "      <td>52.0</td>\n",
       "      <td>163</td>\n",
       "      <td>1.63</td>\n",
       "      <td>19.571681</td>\n",
       "      <td>정상</td>\n",
       "    </tr>\n",
       "    <tr>\n",
       "      <th>1749</th>\n",
       "      <td>2</td>\n",
       "      <td>0</td>\n",
       "      <td>0</td>\n",
       "      <td>0</td>\n",
       "      <td>0</td>\n",
       "      <td>64.0</td>\n",
       "      <td>185</td>\n",
       "      <td>1</td>\n",
       "      <td>21</td>\n",
       "      <td>15.70</td>\n",
       "      <td>42.4</td>\n",
       "      <td>64.0</td>\n",
       "      <td>185</td>\n",
       "      <td>64.0</td>\n",
       "      <td>185</td>\n",
       "      <td>1.85</td>\n",
       "      <td>18.699781</td>\n",
       "      <td>정상</td>\n",
       "    </tr>\n",
       "    <tr>\n",
       "      <th>1750</th>\n",
       "      <td>3</td>\n",
       "      <td>0</td>\n",
       "      <td>0</td>\n",
       "      <td>0</td>\n",
       "      <td>0</td>\n",
       "      <td>60.0</td>\n",
       "      <td>160</td>\n",
       "      <td>1</td>\n",
       "      <td>43</td>\n",
       "      <td>15.60</td>\n",
       "      <td>30.8</td>\n",
       "      <td>60.0</td>\n",
       "      <td>160</td>\n",
       "      <td>60.0</td>\n",
       "      <td>160</td>\n",
       "      <td>1.60</td>\n",
       "      <td>23.437500</td>\n",
       "      <td>과체중</td>\n",
       "    </tr>\n",
       "    <tr>\n",
       "      <th>1751</th>\n",
       "      <td>3</td>\n",
       "      <td>0</td>\n",
       "      <td>0</td>\n",
       "      <td>0</td>\n",
       "      <td>0</td>\n",
       "      <td>70.0</td>\n",
       "      <td>173</td>\n",
       "      <td>1</td>\n",
       "      <td>20</td>\n",
       "      <td>13.00</td>\n",
       "      <td>5.4</td>\n",
       "      <td>70.0</td>\n",
       "      <td>173</td>\n",
       "      <td>70.0</td>\n",
       "      <td>173</td>\n",
       "      <td>1.73</td>\n",
       "      <td>23.388687</td>\n",
       "      <td>과체중</td>\n",
       "    </tr>\n",
       "    <tr>\n",
       "      <th>1752</th>\n",
       "      <td>3</td>\n",
       "      <td>0</td>\n",
       "      <td>0</td>\n",
       "      <td>0</td>\n",
       "      <td>0</td>\n",
       "      <td>70.0</td>\n",
       "      <td>167</td>\n",
       "      <td>1</td>\n",
       "      <td>61</td>\n",
       "      <td>14.40</td>\n",
       "      <td>36.7</td>\n",
       "      <td>70.0</td>\n",
       "      <td>167</td>\n",
       "      <td>70.0</td>\n",
       "      <td>167</td>\n",
       "      <td>1.67</td>\n",
       "      <td>25.099502</td>\n",
       "      <td>비만</td>\n",
       "    </tr>\n",
       "  </tbody>\n",
       "</table>\n",
       "<p>1753 rows × 18 columns</p>\n",
       "</div>"
      ],
      "text/plain": [
       "      입원기간  고혈압여부  과거수술횟수  당뇨여부  우울증여부    체중   신장  성별  연령  헤모글로빈수치  \\\n",
       "0        2      0       0     0      0  60.3  163   2  66    13.66   \n",
       "1        1      0       0     0      0  71.7  171   1  47    13.73   \n",
       "2        1      0       1     0      0  77.1  178   1  39    15.34   \n",
       "3        1      1       0     0      0  74.2  174   1  40    15.38   \n",
       "4        2      1       0     0      0  80.7  183   1  42    13.08   \n",
       "...    ...    ...     ...   ...    ...   ...  ...  ..  ..      ...   \n",
       "1748    12      0       0     0      0  52.0  163   2  29    13.70   \n",
       "1749     2      0       0     0      0  64.0  185   1  21    15.70   \n",
       "1750     3      0       0     0      0  60.0  160   1  43    15.60   \n",
       "1751     3      0       0     0      0  70.0  173   1  20    13.00   \n",
       "1752     3      0       0     0      0  70.0  167   1  61    14.40   \n",
       "\n",
       "      Large Lymphocyte 체중_str 신장_str  체중_str_num  신장_str_num  신장_str_num_M  \\\n",
       "0                 22.8   60.3    163        60.3         163          1.63   \n",
       "1                 44.9   71.7    171        71.7         171          1.71   \n",
       "2                 53.0   77.1    178        77.1         178          1.78   \n",
       "3                 54.7   74.2    174        74.2         174          1.74   \n",
       "4                 53.8   80.7    183        80.7         183          1.83   \n",
       "...                ...    ...    ...         ...         ...           ...   \n",
       "1748              32.4   52.0    163        52.0         163          1.63   \n",
       "1749              42.4   64.0    185        64.0         185          1.85   \n",
       "1750              30.8   60.0    160        60.0         160          1.60   \n",
       "1751               5.4   70.0    173        70.0         173          1.73   \n",
       "1752              36.7   70.0    167        70.0         167          1.67   \n",
       "\n",
       "            BMI  비만도  \n",
       "0     22.695623   정상  \n",
       "1     24.520365  과체중  \n",
       "2     24.334049  과체중  \n",
       "3     24.507861  과체중  \n",
       "4     24.097465  과체중  \n",
       "...         ...  ...  \n",
       "1748  19.571681   정상  \n",
       "1749  18.699781   정상  \n",
       "1750  23.437500  과체중  \n",
       "1751  23.388687  과체중  \n",
       "1752  25.099502   비만  \n",
       "\n",
       "[1753 rows x 18 columns]"
      ]
     },
     "execution_count": 24,
     "metadata": {},
     "output_type": "execute_result"
    }
   ],
   "source": [
    "df_ROS['비만도'] = df_ROS['BMI'].apply(classify_bmi_range)\n",
    "df_ROS"
   ]
  },
  {
   "cell_type": "code",
   "execution_count": 22,
   "id": "137127ba-a2ee-4b6d-8be6-3c7d7d8da69e",
   "metadata": {
    "collapsed": true,
    "jupyter": {
     "outputs_hidden": true
    },
    "tags": []
   },
   "outputs": [
    {
     "data": {
      "text/html": [
       "<div>\n",
       "<style scoped>\n",
       "    .dataframe tbody tr th:only-of-type {\n",
       "        vertical-align: middle;\n",
       "    }\n",
       "\n",
       "    .dataframe tbody tr th {\n",
       "        vertical-align: top;\n",
       "    }\n",
       "\n",
       "    .dataframe thead th {\n",
       "        text-align: right;\n",
       "    }\n",
       "</style>\n",
       "<table border=\"1\" class=\"dataframe\">\n",
       "  <thead>\n",
       "    <tr style=\"text-align: right;\">\n",
       "      <th></th>\n",
       "      <th>입원기간</th>\n",
       "      <th>고혈압여부</th>\n",
       "      <th>과거수술횟수</th>\n",
       "      <th>당뇨여부</th>\n",
       "      <th>우울증여부</th>\n",
       "      <th>성별</th>\n",
       "      <th>연령</th>\n",
       "      <th>헤모글로빈수치</th>\n",
       "      <th>Large Lymphocyte</th>\n",
       "      <th>BMI</th>\n",
       "      <th>비만도</th>\n",
       "    </tr>\n",
       "  </thead>\n",
       "  <tbody>\n",
       "    <tr>\n",
       "      <th>0</th>\n",
       "      <td>2</td>\n",
       "      <td>0</td>\n",
       "      <td>0</td>\n",
       "      <td>0</td>\n",
       "      <td>0</td>\n",
       "      <td>2</td>\n",
       "      <td>66</td>\n",
       "      <td>13.66</td>\n",
       "      <td>22.8</td>\n",
       "      <td>22.695623</td>\n",
       "      <td>정상</td>\n",
       "    </tr>\n",
       "    <tr>\n",
       "      <th>1</th>\n",
       "      <td>1</td>\n",
       "      <td>0</td>\n",
       "      <td>0</td>\n",
       "      <td>0</td>\n",
       "      <td>0</td>\n",
       "      <td>1</td>\n",
       "      <td>47</td>\n",
       "      <td>13.73</td>\n",
       "      <td>44.9</td>\n",
       "      <td>24.520365</td>\n",
       "      <td>과체중</td>\n",
       "    </tr>\n",
       "    <tr>\n",
       "      <th>2</th>\n",
       "      <td>1</td>\n",
       "      <td>0</td>\n",
       "      <td>1</td>\n",
       "      <td>0</td>\n",
       "      <td>0</td>\n",
       "      <td>1</td>\n",
       "      <td>39</td>\n",
       "      <td>15.34</td>\n",
       "      <td>53.0</td>\n",
       "      <td>24.334049</td>\n",
       "      <td>과체중</td>\n",
       "    </tr>\n",
       "    <tr>\n",
       "      <th>3</th>\n",
       "      <td>1</td>\n",
       "      <td>1</td>\n",
       "      <td>0</td>\n",
       "      <td>0</td>\n",
       "      <td>0</td>\n",
       "      <td>1</td>\n",
       "      <td>40</td>\n",
       "      <td>15.38</td>\n",
       "      <td>54.7</td>\n",
       "      <td>24.507861</td>\n",
       "      <td>과체중</td>\n",
       "    </tr>\n",
       "    <tr>\n",
       "      <th>4</th>\n",
       "      <td>2</td>\n",
       "      <td>1</td>\n",
       "      <td>0</td>\n",
       "      <td>0</td>\n",
       "      <td>0</td>\n",
       "      <td>1</td>\n",
       "      <td>42</td>\n",
       "      <td>13.08</td>\n",
       "      <td>53.8</td>\n",
       "      <td>24.097465</td>\n",
       "      <td>과체중</td>\n",
       "    </tr>\n",
       "    <tr>\n",
       "      <th>...</th>\n",
       "      <td>...</td>\n",
       "      <td>...</td>\n",
       "      <td>...</td>\n",
       "      <td>...</td>\n",
       "      <td>...</td>\n",
       "      <td>...</td>\n",
       "      <td>...</td>\n",
       "      <td>...</td>\n",
       "      <td>...</td>\n",
       "      <td>...</td>\n",
       "      <td>...</td>\n",
       "    </tr>\n",
       "    <tr>\n",
       "      <th>1748</th>\n",
       "      <td>12</td>\n",
       "      <td>0</td>\n",
       "      <td>0</td>\n",
       "      <td>0</td>\n",
       "      <td>0</td>\n",
       "      <td>2</td>\n",
       "      <td>29</td>\n",
       "      <td>13.70</td>\n",
       "      <td>32.4</td>\n",
       "      <td>19.571681</td>\n",
       "      <td>정상</td>\n",
       "    </tr>\n",
       "    <tr>\n",
       "      <th>1749</th>\n",
       "      <td>2</td>\n",
       "      <td>0</td>\n",
       "      <td>0</td>\n",
       "      <td>0</td>\n",
       "      <td>0</td>\n",
       "      <td>1</td>\n",
       "      <td>21</td>\n",
       "      <td>15.70</td>\n",
       "      <td>42.4</td>\n",
       "      <td>18.699781</td>\n",
       "      <td>정상</td>\n",
       "    </tr>\n",
       "    <tr>\n",
       "      <th>1750</th>\n",
       "      <td>3</td>\n",
       "      <td>0</td>\n",
       "      <td>0</td>\n",
       "      <td>0</td>\n",
       "      <td>0</td>\n",
       "      <td>1</td>\n",
       "      <td>43</td>\n",
       "      <td>15.60</td>\n",
       "      <td>30.8</td>\n",
       "      <td>23.437500</td>\n",
       "      <td>과체중</td>\n",
       "    </tr>\n",
       "    <tr>\n",
       "      <th>1751</th>\n",
       "      <td>3</td>\n",
       "      <td>0</td>\n",
       "      <td>0</td>\n",
       "      <td>0</td>\n",
       "      <td>0</td>\n",
       "      <td>1</td>\n",
       "      <td>20</td>\n",
       "      <td>13.00</td>\n",
       "      <td>5.4</td>\n",
       "      <td>23.388687</td>\n",
       "      <td>과체중</td>\n",
       "    </tr>\n",
       "    <tr>\n",
       "      <th>1752</th>\n",
       "      <td>3</td>\n",
       "      <td>0</td>\n",
       "      <td>0</td>\n",
       "      <td>0</td>\n",
       "      <td>0</td>\n",
       "      <td>1</td>\n",
       "      <td>61</td>\n",
       "      <td>14.40</td>\n",
       "      <td>36.7</td>\n",
       "      <td>25.099502</td>\n",
       "      <td>비만</td>\n",
       "    </tr>\n",
       "  </tbody>\n",
       "</table>\n",
       "<p>1753 rows × 11 columns</p>\n",
       "</div>"
      ],
      "text/plain": [
       "      입원기간  고혈압여부  과거수술횟수  당뇨여부  우울증여부  성별  연령  헤모글로빈수치  Large Lymphocyte  \\\n",
       "0        2      0       0     0      0   2  66    13.66              22.8   \n",
       "1        1      0       0     0      0   1  47    13.73              44.9   \n",
       "2        1      0       1     0      0   1  39    15.34              53.0   \n",
       "3        1      1       0     0      0   1  40    15.38              54.7   \n",
       "4        2      1       0     0      0   1  42    13.08              53.8   \n",
       "...    ...    ...     ...   ...    ...  ..  ..      ...               ...   \n",
       "1748    12      0       0     0      0   2  29    13.70              32.4   \n",
       "1749     2      0       0     0      0   1  21    15.70              42.4   \n",
       "1750     3      0       0     0      0   1  43    15.60              30.8   \n",
       "1751     3      0       0     0      0   1  20    13.00               5.4   \n",
       "1752     3      0       0     0      0   1  61    14.40              36.7   \n",
       "\n",
       "            BMI  비만도  \n",
       "0     22.695623   정상  \n",
       "1     24.520365  과체중  \n",
       "2     24.334049  과체중  \n",
       "3     24.507861  과체중  \n",
       "4     24.097465  과체중  \n",
       "...         ...  ...  \n",
       "1748  19.571681   정상  \n",
       "1749  18.699781   정상  \n",
       "1750  23.437500  과체중  \n",
       "1751  23.388687  과체중  \n",
       "1752  25.099502   비만  \n",
       "\n",
       "[1753 rows x 11 columns]"
      ]
     },
     "execution_count": 22,
     "metadata": {},
     "output_type": "execute_result"
    }
   ],
   "source": [
    "df_ROS[['입원기간', '고혈압여부', '과거수술횟수', '당뇨여부', '우울증여부',\n",
    "        '성별', '연령', '헤모글로빈수치', 'Large Lymphocyte', 'BMI', '비만도']]"
   ]
  },
  {
   "cell_type": "code",
   "execution_count": null,
   "id": "ed2eaeef-d7b7-42d1-b929-109a852ac2f4",
   "metadata": {},
   "outputs": [],
   "source": [
    "df_ROS.info()"
   ]
  },
  {
   "cell_type": "markdown",
   "id": "e3c71736-c9bc-488b-8fc1-898763eeff07",
   "metadata": {},
   "source": [
    "### 연속형/연속형\n",
    "- 목표변수 : '입원기간'\n",
    "- 설정변수 : '연령', '헤모글로빈수치', 'Large Lymphocyte'"
   ]
  },
  {
   "cell_type": "markdown",
   "id": "674355d6-2680-4126-9880-077cc18b5ef4",
   "metadata": {
    "jp-MarkdownHeadingCollapsed": true,
    "tags": []
   },
   "source": [
    "#### 선정 변수 입원기간, 연령\n",
    "- 분석 내용 : 연령에 따른 입원기간에 변화가 있는가?\n",
    "    - 귀무가설 : 변화가 없다.\n",
    "    - 대립가설 : 변화가 있다.\n",
    "- 분석 결론 (기준 : p-value 0.05)\n",
    "    - 통계 결론 : 귀무가설 참. (pvalue=0.0772836)\n",
    "    - 사실 결론 : 변화가 없다."
   ]
  },
  {
   "cell_type": "code",
   "execution_count": 25,
   "id": "7b099c5c-acd5-4a6e-8291-3c30e86d2990",
   "metadata": {
    "tags": []
   },
   "outputs": [
    {
     "data": {
      "text/html": [
       "<div>\n",
       "<style scoped>\n",
       "    .dataframe tbody tr th:only-of-type {\n",
       "        vertical-align: middle;\n",
       "    }\n",
       "\n",
       "    .dataframe tbody tr th {\n",
       "        vertical-align: top;\n",
       "    }\n",
       "\n",
       "    .dataframe thead th {\n",
       "        text-align: right;\n",
       "    }\n",
       "</style>\n",
       "<table border=\"1\" class=\"dataframe\">\n",
       "  <thead>\n",
       "    <tr style=\"text-align: right;\">\n",
       "      <th></th>\n",
       "      <th>입원기간</th>\n",
       "      <th>연령</th>\n",
       "    </tr>\n",
       "  </thead>\n",
       "  <tbody>\n",
       "    <tr>\n",
       "      <th>0</th>\n",
       "      <td>2</td>\n",
       "      <td>66</td>\n",
       "    </tr>\n",
       "    <tr>\n",
       "      <th>1</th>\n",
       "      <td>1</td>\n",
       "      <td>47</td>\n",
       "    </tr>\n",
       "    <tr>\n",
       "      <th>2</th>\n",
       "      <td>1</td>\n",
       "      <td>39</td>\n",
       "    </tr>\n",
       "  </tbody>\n",
       "</table>\n",
       "</div>"
      ],
      "text/plain": [
       "   입원기간  연령\n",
       "0     2  66\n",
       "1     1  47\n",
       "2     1  39"
      ]
     },
     "execution_count": 25,
     "metadata": {},
     "output_type": "execute_result"
    }
   ],
   "source": [
    "df_ROS_age = df_ROS[['입원기간', '연령']]\n",
    "df_ROS_age[:3]"
   ]
  },
  {
   "cell_type": "code",
   "execution_count": 26,
   "id": "b09e403e-959a-4cf1-b1ce-043c8638c18c",
   "metadata": {
    "tags": []
   },
   "outputs": [
    {
     "data": {
      "text/plain": [
       "입원기간    0\n",
       "연령      0\n",
       "dtype: int64"
      ]
     },
     "execution_count": 26,
     "metadata": {},
     "output_type": "execute_result"
    }
   ],
   "source": [
    "df_ROS_age.isnull().sum()"
   ]
  },
  {
   "cell_type": "code",
   "execution_count": 27,
   "id": "56e19aa9-b02c-49b8-a4e6-b14106649430",
   "metadata": {
    "tags": []
   },
   "outputs": [
    {
     "data": {
      "text/html": [
       "<div>\n",
       "<style scoped>\n",
       "    .dataframe tbody tr th:only-of-type {\n",
       "        vertical-align: middle;\n",
       "    }\n",
       "\n",
       "    .dataframe tbody tr th {\n",
       "        vertical-align: top;\n",
       "    }\n",
       "\n",
       "    .dataframe thead th {\n",
       "        text-align: right;\n",
       "    }\n",
       "</style>\n",
       "<table border=\"1\" class=\"dataframe\">\n",
       "  <thead>\n",
       "    <tr style=\"text-align: right;\">\n",
       "      <th></th>\n",
       "      <th>입원기간</th>\n",
       "      <th>연령</th>\n",
       "    </tr>\n",
       "  </thead>\n",
       "  <tbody>\n",
       "    <tr>\n",
       "      <th>입원기간</th>\n",
       "      <td>1.000000</td>\n",
       "      <td>0.042207</td>\n",
       "    </tr>\n",
       "    <tr>\n",
       "      <th>연령</th>\n",
       "      <td>0.042207</td>\n",
       "      <td>1.000000</td>\n",
       "    </tr>\n",
       "  </tbody>\n",
       "</table>\n",
       "</div>"
      ],
      "text/plain": [
       "          입원기간        연령\n",
       "입원기간  1.000000  0.042207\n",
       "연령    0.042207  1.000000"
      ]
     },
     "execution_count": 27,
     "metadata": {},
     "output_type": "execute_result"
    }
   ],
   "source": [
    "df_ROS_age.corr()"
   ]
  },
  {
   "cell_type": "code",
   "execution_count": 30,
   "id": "30e2acd3-f823-416a-8983-86779bda31df",
   "metadata": {
    "tags": []
   },
   "outputs": [
    {
     "data": {
      "text/plain": [
       "PearsonRResult(statistic=0.04220662718944215, pvalue=0.07728361514743073)"
      ]
     },
     "execution_count": 30,
     "metadata": {},
     "output_type": "execute_result"
    }
   ],
   "source": [
    "stats.pearsonr(df_ROS_age['연령'],df_ROS_age['입원기간'])"
   ]
  },
  {
   "cell_type": "markdown",
   "id": "16557e6d-1537-40db-8bcc-0e2ebbb8345e",
   "metadata": {
    "jp-MarkdownHeadingCollapsed": true,
    "tags": []
   },
   "source": [
    "#### 선정 변수 입원기간, 헤모글로빈수치\n",
    "- 분석 내용 : 헤모글로빈수치에 따른 입원기간에 변화가 있는가?\n",
    "    - 귀무가설 : 변화가 없다.\n",
    "    - 대립가설 : 변화가 있다.\n",
    "- 분석 결론 (기준 : p-value 0.05)\n",
    "    - 통계 결론 : 귀무가설 참. (pvalue=0.1597244)\n",
    "    - 사실 결론 : 변화가 없다."
   ]
  },
  {
   "cell_type": "code",
   "execution_count": 31,
   "id": "9186aaf1-22f9-4dc9-8e4a-0e2600c114ae",
   "metadata": {
    "tags": []
   },
   "outputs": [
    {
     "data": {
      "text/html": [
       "<div>\n",
       "<style scoped>\n",
       "    .dataframe tbody tr th:only-of-type {\n",
       "        vertical-align: middle;\n",
       "    }\n",
       "\n",
       "    .dataframe tbody tr th {\n",
       "        vertical-align: top;\n",
       "    }\n",
       "\n",
       "    .dataframe thead th {\n",
       "        text-align: right;\n",
       "    }\n",
       "</style>\n",
       "<table border=\"1\" class=\"dataframe\">\n",
       "  <thead>\n",
       "    <tr style=\"text-align: right;\">\n",
       "      <th></th>\n",
       "      <th>입원기간</th>\n",
       "      <th>헤모글로빈수치</th>\n",
       "    </tr>\n",
       "  </thead>\n",
       "  <tbody>\n",
       "    <tr>\n",
       "      <th>0</th>\n",
       "      <td>2</td>\n",
       "      <td>13.66</td>\n",
       "    </tr>\n",
       "    <tr>\n",
       "      <th>1</th>\n",
       "      <td>1</td>\n",
       "      <td>13.73</td>\n",
       "    </tr>\n",
       "    <tr>\n",
       "      <th>2</th>\n",
       "      <td>1</td>\n",
       "      <td>15.34</td>\n",
       "    </tr>\n",
       "  </tbody>\n",
       "</table>\n",
       "</div>"
      ],
      "text/plain": [
       "   입원기간  헤모글로빈수치\n",
       "0     2    13.66\n",
       "1     1    13.73\n",
       "2     1    15.34"
      ]
     },
     "execution_count": 31,
     "metadata": {},
     "output_type": "execute_result"
    }
   ],
   "source": [
    "df_ROS_hemo = df_ROS[['입원기간', '헤모글로빈수치']]\n",
    "df_ROS_hemo[:3]"
   ]
  },
  {
   "cell_type": "code",
   "execution_count": 32,
   "id": "6e8b324c-4eb5-428a-9380-ada25485dd0e",
   "metadata": {
    "tags": []
   },
   "outputs": [
    {
     "data": {
      "text/plain": [
       "입원기간       0\n",
       "헤모글로빈수치    0\n",
       "dtype: int64"
      ]
     },
     "execution_count": 32,
     "metadata": {},
     "output_type": "execute_result"
    }
   ],
   "source": [
    "df_ROS_hemo.isnull().sum()"
   ]
  },
  {
   "cell_type": "code",
   "execution_count": 33,
   "id": "60927dbb-0417-49d9-8933-c2cdb5f588f0",
   "metadata": {
    "tags": []
   },
   "outputs": [
    {
     "data": {
      "text/html": [
       "<div>\n",
       "<style scoped>\n",
       "    .dataframe tbody tr th:only-of-type {\n",
       "        vertical-align: middle;\n",
       "    }\n",
       "\n",
       "    .dataframe tbody tr th {\n",
       "        vertical-align: top;\n",
       "    }\n",
       "\n",
       "    .dataframe thead th {\n",
       "        text-align: right;\n",
       "    }\n",
       "</style>\n",
       "<table border=\"1\" class=\"dataframe\">\n",
       "  <thead>\n",
       "    <tr style=\"text-align: right;\">\n",
       "      <th></th>\n",
       "      <th>입원기간</th>\n",
       "      <th>헤모글로빈수치</th>\n",
       "    </tr>\n",
       "  </thead>\n",
       "  <tbody>\n",
       "    <tr>\n",
       "      <th>입원기간</th>\n",
       "      <td>1.000000</td>\n",
       "      <td>-0.033596</td>\n",
       "    </tr>\n",
       "    <tr>\n",
       "      <th>헤모글로빈수치</th>\n",
       "      <td>-0.033596</td>\n",
       "      <td>1.000000</td>\n",
       "    </tr>\n",
       "  </tbody>\n",
       "</table>\n",
       "</div>"
      ],
      "text/plain": [
       "             입원기간   헤모글로빈수치\n",
       "입원기간     1.000000 -0.033596\n",
       "헤모글로빈수치 -0.033596  1.000000"
      ]
     },
     "execution_count": 33,
     "metadata": {},
     "output_type": "execute_result"
    }
   ],
   "source": [
    "df_ROS_hemo.corr()"
   ]
  },
  {
   "cell_type": "code",
   "execution_count": 35,
   "id": "dbe69428-9732-4143-91d3-2c503b7d3e8e",
   "metadata": {
    "tags": []
   },
   "outputs": [
    {
     "data": {
      "text/plain": [
       "PearsonRResult(statistic=-0.03359551158366978, pvalue=0.159724499158464)"
      ]
     },
     "execution_count": 35,
     "metadata": {},
     "output_type": "execute_result"
    }
   ],
   "source": [
    "stats.pearsonr(df_ROS_hemo['헤모글로빈수치'],df_ROS_hemo['입원기간'])"
   ]
  },
  {
   "cell_type": "markdown",
   "id": "ac806efe-7202-4fbe-a734-cf4d25660992",
   "metadata": {
    "jp-MarkdownHeadingCollapsed": true,
    "tags": []
   },
   "source": [
    "#### 선정 변수 입원기간, Large Lymphocyte\n",
    "- 분석 내용 : Large Lymphocyte에 따른 입원기간에 변화가 있는가?\n",
    "    - 귀무가설 : 변화가 없다.\n",
    "    - 대립가설 : 변화가 있다. \n",
    "- 분석 결론 (기준 : p-value 0.05)\n",
    "    - 통계 결론 : 귀무가설 참. (pvalue=0.134780)\n",
    "    - 사실 결론 : 변화가 없다."
   ]
  },
  {
   "cell_type": "code",
   "execution_count": 36,
   "id": "ae208b6f-0204-47d9-9942-faf23ee4f33d",
   "metadata": {
    "tags": []
   },
   "outputs": [
    {
     "data": {
      "text/html": [
       "<div>\n",
       "<style scoped>\n",
       "    .dataframe tbody tr th:only-of-type {\n",
       "        vertical-align: middle;\n",
       "    }\n",
       "\n",
       "    .dataframe tbody tr th {\n",
       "        vertical-align: top;\n",
       "    }\n",
       "\n",
       "    .dataframe thead th {\n",
       "        text-align: right;\n",
       "    }\n",
       "</style>\n",
       "<table border=\"1\" class=\"dataframe\">\n",
       "  <thead>\n",
       "    <tr style=\"text-align: right;\">\n",
       "      <th></th>\n",
       "      <th>입원기간</th>\n",
       "      <th>Large Lymphocyte</th>\n",
       "    </tr>\n",
       "  </thead>\n",
       "  <tbody>\n",
       "    <tr>\n",
       "      <th>0</th>\n",
       "      <td>2</td>\n",
       "      <td>22.8</td>\n",
       "    </tr>\n",
       "    <tr>\n",
       "      <th>1</th>\n",
       "      <td>1</td>\n",
       "      <td>44.9</td>\n",
       "    </tr>\n",
       "    <tr>\n",
       "      <th>2</th>\n",
       "      <td>1</td>\n",
       "      <td>53.0</td>\n",
       "    </tr>\n",
       "  </tbody>\n",
       "</table>\n",
       "</div>"
      ],
      "text/plain": [
       "   입원기간  Large Lymphocyte\n",
       "0     2              22.8\n",
       "1     1              44.9\n",
       "2     1              53.0"
      ]
     },
     "execution_count": 36,
     "metadata": {},
     "output_type": "execute_result"
    }
   ],
   "source": [
    "df_ROS_LL = df_ROS[['입원기간', 'Large Lymphocyte']]\n",
    "df_ROS_LL[:3]"
   ]
  },
  {
   "cell_type": "code",
   "execution_count": 38,
   "id": "3a2dc770-a2a1-4579-a6f9-43834d0de89b",
   "metadata": {
    "tags": []
   },
   "outputs": [
    {
     "data": {
      "text/plain": [
       "입원기간                0\n",
       "Large Lymphocyte    0\n",
       "dtype: int64"
      ]
     },
     "execution_count": 38,
     "metadata": {},
     "output_type": "execute_result"
    }
   ],
   "source": [
    "df_ROS_LL.isnull().sum()"
   ]
  },
  {
   "cell_type": "code",
   "execution_count": 39,
   "id": "d75c3f58-85e4-4990-b649-2221c24d45fd",
   "metadata": {
    "tags": []
   },
   "outputs": [
    {
     "data": {
      "text/html": [
       "<div>\n",
       "<style scoped>\n",
       "    .dataframe tbody tr th:only-of-type {\n",
       "        vertical-align: middle;\n",
       "    }\n",
       "\n",
       "    .dataframe tbody tr th {\n",
       "        vertical-align: top;\n",
       "    }\n",
       "\n",
       "    .dataframe thead th {\n",
       "        text-align: right;\n",
       "    }\n",
       "</style>\n",
       "<table border=\"1\" class=\"dataframe\">\n",
       "  <thead>\n",
       "    <tr style=\"text-align: right;\">\n",
       "      <th></th>\n",
       "      <th>입원기간</th>\n",
       "      <th>Large Lymphocyte</th>\n",
       "    </tr>\n",
       "  </thead>\n",
       "  <tbody>\n",
       "    <tr>\n",
       "      <th>입원기간</th>\n",
       "      <td>1.000000</td>\n",
       "      <td>-0.035733</td>\n",
       "    </tr>\n",
       "    <tr>\n",
       "      <th>Large Lymphocyte</th>\n",
       "      <td>-0.035733</td>\n",
       "      <td>1.000000</td>\n",
       "    </tr>\n",
       "  </tbody>\n",
       "</table>\n",
       "</div>"
      ],
      "text/plain": [
       "                      입원기간  Large Lymphocyte\n",
       "입원기간              1.000000         -0.035733\n",
       "Large Lymphocyte -0.035733          1.000000"
      ]
     },
     "execution_count": 39,
     "metadata": {},
     "output_type": "execute_result"
    }
   ],
   "source": [
    "df_ROS_LL.corr()"
   ]
  },
  {
   "cell_type": "code",
   "execution_count": 42,
   "id": "68a1e4c6-0c1f-4bbf-bc9e-82f554fadc38",
   "metadata": {
    "tags": []
   },
   "outputs": [
    {
     "data": {
      "text/plain": [
       "PearsonRResult(statistic=-0.035733081571023506, pvalue=0.13478055798954264)"
      ]
     },
     "execution_count": 42,
     "metadata": {},
     "output_type": "execute_result"
    }
   ],
   "source": [
    "stats.pearsonr(df_ROS_LL['Large Lymphocyte'],df_ROS_LL['입원기간'])"
   ]
  },
  {
   "cell_type": "markdown",
   "id": "86254017-55f9-416d-ad6c-54128947986a",
   "metadata": {},
   "source": [
    "### 범주형/연속형\n",
    "- 목표변수 : '입원기간'\n",
    "- 설정변수 : '고혈압여부', '과거수술횟수', '당뇨여부', '우울증여부', '성별', '비만도'"
   ]
  },
  {
   "cell_type": "markdown",
   "id": "aa27a59b-d919-4294-92a2-4575b9e63650",
   "metadata": {
    "jp-MarkdownHeadingCollapsed": true,
    "tags": []
   },
   "source": [
    "#### 선정 변수 입원기간, 고혈압여부\n",
    "- 분석 내용 : 고혈압여부에 따라 입원기간이 달라지는가?\n",
    "    - 귀무가설 : 고혈압여부에 따라 입원기간이 달라지지 않는다.\n",
    "    - 대립가설 : 고혈압여부에 따라 입원기간이 달라진다.\n",
    "- 분석 결론 (기준 : p-value 0.05)\n",
    "    - 통계 결론 : 대립가설 참. (pvalue=2.8377648684295895e-133)\n",
    "    - 사실 결론 : 고혈압여부에 따라 입원기간이 달라진다."
   ]
  },
  {
   "cell_type": "code",
   "execution_count": 43,
   "id": "969ebe14-66d5-4b43-884c-d18686eb437e",
   "metadata": {
    "tags": []
   },
   "outputs": [
    {
     "data": {
      "text/html": [
       "<div>\n",
       "<style scoped>\n",
       "    .dataframe tbody tr th:only-of-type {\n",
       "        vertical-align: middle;\n",
       "    }\n",
       "\n",
       "    .dataframe tbody tr th {\n",
       "        vertical-align: top;\n",
       "    }\n",
       "\n",
       "    .dataframe thead th {\n",
       "        text-align: right;\n",
       "    }\n",
       "</style>\n",
       "<table border=\"1\" class=\"dataframe\">\n",
       "  <thead>\n",
       "    <tr style=\"text-align: right;\">\n",
       "      <th></th>\n",
       "      <th>입원기간</th>\n",
       "      <th>고혈압여부</th>\n",
       "    </tr>\n",
       "  </thead>\n",
       "  <tbody>\n",
       "    <tr>\n",
       "      <th>0</th>\n",
       "      <td>2</td>\n",
       "      <td>0</td>\n",
       "    </tr>\n",
       "    <tr>\n",
       "      <th>1</th>\n",
       "      <td>1</td>\n",
       "      <td>0</td>\n",
       "    </tr>\n",
       "    <tr>\n",
       "      <th>2</th>\n",
       "      <td>1</td>\n",
       "      <td>0</td>\n",
       "    </tr>\n",
       "  </tbody>\n",
       "</table>\n",
       "</div>"
      ],
      "text/plain": [
       "   입원기간  고혈압여부\n",
       "0     2      0\n",
       "1     1      0\n",
       "2     1      0"
      ]
     },
     "execution_count": 43,
     "metadata": {},
     "output_type": "execute_result"
    }
   ],
   "source": [
    "df_ROS_press = df_ROS[['입원기간', '고혈압여부']]\n",
    "df_ROS_press[:3]"
   ]
  },
  {
   "cell_type": "code",
   "execution_count": 48,
   "id": "a165533b-32ed-4378-803f-ee1d0ca63408",
   "metadata": {
    "tags": []
   },
   "outputs": [
    {
     "data": {
      "text/plain": [
       "0    1521\n",
       "1     232\n",
       "Name: 고혈압여부, dtype: int64"
      ]
     },
     "execution_count": 48,
     "metadata": {},
     "output_type": "execute_result"
    }
   ],
   "source": [
    "df_ROS_press['고혈압여부'].value_counts()"
   ]
  },
  {
   "cell_type": "code",
   "execution_count": 49,
   "id": "c9f7bccc-76a8-40d4-aecb-7b1ccf236516",
   "metadata": {
    "tags": []
   },
   "outputs": [
    {
     "data": {
      "text/html": [
       "<div>\n",
       "<style scoped>\n",
       "    .dataframe tbody tr th:only-of-type {\n",
       "        vertical-align: middle;\n",
       "    }\n",
       "\n",
       "    .dataframe tbody tr th {\n",
       "        vertical-align: top;\n",
       "    }\n",
       "\n",
       "    .dataframe thead th {\n",
       "        text-align: right;\n",
       "    }\n",
       "</style>\n",
       "<table border=\"1\" class=\"dataframe\">\n",
       "  <thead>\n",
       "    <tr style=\"text-align: right;\">\n",
       "      <th></th>\n",
       "      <th>고혈압여부</th>\n",
       "      <th>입원기간</th>\n",
       "    </tr>\n",
       "  </thead>\n",
       "  <tbody>\n",
       "    <tr>\n",
       "      <th>0</th>\n",
       "      <td>0</td>\n",
       "      <td>2</td>\n",
       "    </tr>\n",
       "    <tr>\n",
       "      <th>1</th>\n",
       "      <td>0</td>\n",
       "      <td>1</td>\n",
       "    </tr>\n",
       "  </tbody>\n",
       "</table>\n",
       "</div>"
      ],
      "text/plain": [
       "   고혈압여부  입원기간\n",
       "0      0     2\n",
       "1      0     1"
      ]
     },
     "execution_count": 49,
     "metadata": {},
     "output_type": "execute_result"
    }
   ],
   "source": [
    "df_pressure = df_ROS_press[['고혈압여부', '입원기간']]\n",
    "df_pressure0 = df_pressure[df_pressure['고혈압여부'] == 0]\n",
    "df_pressure0[:2]"
   ]
  },
  {
   "cell_type": "code",
   "execution_count": 51,
   "id": "7cb12c51-09b8-4223-bfed-ec6d51479e43",
   "metadata": {
    "tags": []
   },
   "outputs": [
    {
     "data": {
      "text/html": [
       "<div>\n",
       "<style scoped>\n",
       "    .dataframe tbody tr th:only-of-type {\n",
       "        vertical-align: middle;\n",
       "    }\n",
       "\n",
       "    .dataframe tbody tr th {\n",
       "        vertical-align: top;\n",
       "    }\n",
       "\n",
       "    .dataframe thead th {\n",
       "        text-align: right;\n",
       "    }\n",
       "</style>\n",
       "<table border=\"1\" class=\"dataframe\">\n",
       "  <thead>\n",
       "    <tr style=\"text-align: right;\">\n",
       "      <th></th>\n",
       "      <th>고혈압여부</th>\n",
       "      <th>입원기간</th>\n",
       "    </tr>\n",
       "  </thead>\n",
       "  <tbody>\n",
       "    <tr>\n",
       "      <th>3</th>\n",
       "      <td>1</td>\n",
       "      <td>1</td>\n",
       "    </tr>\n",
       "    <tr>\n",
       "      <th>4</th>\n",
       "      <td>1</td>\n",
       "      <td>2</td>\n",
       "    </tr>\n",
       "  </tbody>\n",
       "</table>\n",
       "</div>"
      ],
      "text/plain": [
       "   고혈압여부  입원기간\n",
       "3      1     1\n",
       "4      1     2"
      ]
     },
     "execution_count": 51,
     "metadata": {},
     "output_type": "execute_result"
    }
   ],
   "source": [
    "df_pressure1 = df_pressure[df_pressure['고혈압여부'] == 1]\n",
    "df_pressure1[:2]"
   ]
  },
  {
   "cell_type": "code",
   "execution_count": 52,
   "id": "789c1574-248d-43f9-9004-6bdf58fbe92d",
   "metadata": {
    "tags": []
   },
   "outputs": [
    {
     "data": {
      "text/plain": [
       "RanksumsResult(statistic=-24.567130472603523, pvalue=2.8377648684295895e-133)"
      ]
     },
     "execution_count": 52,
     "metadata": {},
     "output_type": "execute_result"
    }
   ],
   "source": [
    "stats.ranksums(df_pressure0['고혈압여부'], df_pressure1['고혈압여부'])"
   ]
  },
  {
   "cell_type": "markdown",
   "id": "36d7b5f7-f4d5-4b85-b0cd-75ef610b0288",
   "metadata": {
    "jp-MarkdownHeadingCollapsed": true,
    "tags": []
   },
   "source": [
    "#### 선정 변수 입원기간, 과거수술횟수\n",
    "- 분석 내용 : 과거수술횟수에 따라 입원기간이 달라지는가?\n",
    "    - 귀무가설 : 달라지지 않는다.\n",
    "    - 대립가설 : 달라진다.\n",
    "- 분석 결론 (기준 : p-value 0.05)\n",
    "    - 통계 결론 : 대립가설 참. (pvalue=0.0)\n",
    "    - 사실 결론 : 과거수술횟수에 따라 입원기간이 달라진다."
   ]
  },
  {
   "cell_type": "code",
   "execution_count": 55,
   "id": "ff4116e2-fd94-4425-861a-220fc7443719",
   "metadata": {
    "tags": []
   },
   "outputs": [
    {
     "data": {
      "text/plain": [
       "과거수술횟수\n",
       "0         1378\n",
       "1          215\n",
       "2          152\n",
       "3            8\n",
       "dtype: int64"
      ]
     },
     "execution_count": 55,
     "metadata": {},
     "output_type": "execute_result"
    }
   ],
   "source": [
    "df_ROS[['과거수술횟수']].value_counts()"
   ]
  },
  {
   "cell_type": "code",
   "execution_count": 57,
   "id": "8bb50a20-e144-4ea1-b5e9-f0b2dbccf2bb",
   "metadata": {
    "tags": []
   },
   "outputs": [],
   "source": [
    "df_past = df_ROS[['과거수술횟수', '입원기간']]"
   ]
  },
  {
   "cell_type": "code",
   "execution_count": 58,
   "id": "bae4b28f-e4b2-47d0-a012-956dab276557",
   "metadata": {
    "tags": []
   },
   "outputs": [
    {
     "data": {
      "text/plain": [
       "[0, 1, 2, 3]"
      ]
     },
     "execution_count": 58,
     "metadata": {},
     "output_type": "execute_result"
    }
   ],
   "source": [
    "past_list = df_past['과거수술횟수'].value_counts().index.to_list()\n",
    "past_list"
   ]
  },
  {
   "cell_type": "code",
   "execution_count": 59,
   "id": "14b2d13f-81cc-4b0f-b2c2-be1dc431f93e",
   "metadata": {
    "tags": []
   },
   "outputs": [],
   "source": [
    "df_past_sur = [] \n",
    "for item in past_list : \n",
    "    condition = (df_past['과거수술횟수'] == item)\n",
    "    df_past_sur.append(df_past[condition])"
   ]
  },
  {
   "cell_type": "code",
   "execution_count": 60,
   "id": "6047c32d-d04a-4e6e-afc7-973937a14177",
   "metadata": {
    "tags": []
   },
   "outputs": [
    {
     "data": {
      "text/plain": [
       "4"
      ]
     },
     "execution_count": 60,
     "metadata": {},
     "output_type": "execute_result"
    }
   ],
   "source": [
    "len(df_past_sur)"
   ]
  },
  {
   "cell_type": "code",
   "execution_count": 62,
   "id": "d68be532-cbb7-4b4d-8393-3679e483563f",
   "metadata": {
    "tags": []
   },
   "outputs": [
    {
     "data": {
      "text/plain": [
       "KruskalResult(statistic=1752.0000000000011, pvalue=0.0)"
      ]
     },
     "execution_count": 62,
     "metadata": {},
     "output_type": "execute_result"
    }
   ],
   "source": [
    "stats.kruskal(df_past_sur[0]['과거수술횟수'], df_past_sur[1]['과거수술횟수'], df_past_sur[2]['과거수술횟수'], df_past_sur[3]['과거수술횟수'])"
   ]
  },
  {
   "cell_type": "markdown",
   "id": "61b04277-4707-4ec2-b82a-d5298b12e4e9",
   "metadata": {
    "jp-MarkdownHeadingCollapsed": true,
    "tags": []
   },
   "source": [
    "#### 선정 변수 입원기간, 당뇨여부\n",
    "- 분석 내용 : 당뇨여부에 따른 입원기간이 달라지는가?\n",
    "    - 귀무가설 : 달라지지 않는다.\n",
    "    - 대립가설 : 달라진다.\n",
    "- 분석 결론 (기준 : p-value 0.05)\n",
    "    - 통계 결론 : 대립가설 참. (pvalue=4.738463770660181e-68)\n",
    "    - 사실 결론 : 당뇨여부에 따른 입원기간이 달라진다."
   ]
  },
  {
   "cell_type": "code",
   "execution_count": 63,
   "id": "d4329234-d36b-4fc1-b93f-8972bb76eba3",
   "metadata": {
    "tags": []
   },
   "outputs": [
    {
     "data": {
      "text/html": [
       "<div>\n",
       "<style scoped>\n",
       "    .dataframe tbody tr th:only-of-type {\n",
       "        vertical-align: middle;\n",
       "    }\n",
       "\n",
       "    .dataframe tbody tr th {\n",
       "        vertical-align: top;\n",
       "    }\n",
       "\n",
       "    .dataframe thead th {\n",
       "        text-align: right;\n",
       "    }\n",
       "</style>\n",
       "<table border=\"1\" class=\"dataframe\">\n",
       "  <thead>\n",
       "    <tr style=\"text-align: right;\">\n",
       "      <th></th>\n",
       "      <th>입원기간</th>\n",
       "      <th>당뇨여부</th>\n",
       "    </tr>\n",
       "  </thead>\n",
       "  <tbody>\n",
       "    <tr>\n",
       "      <th>0</th>\n",
       "      <td>2</td>\n",
       "      <td>0</td>\n",
       "    </tr>\n",
       "    <tr>\n",
       "      <th>1</th>\n",
       "      <td>1</td>\n",
       "      <td>0</td>\n",
       "    </tr>\n",
       "    <tr>\n",
       "      <th>2</th>\n",
       "      <td>1</td>\n",
       "      <td>0</td>\n",
       "    </tr>\n",
       "  </tbody>\n",
       "</table>\n",
       "</div>"
      ],
      "text/plain": [
       "   입원기간  당뇨여부\n",
       "0     2     0\n",
       "1     1     0\n",
       "2     1     0"
      ]
     },
     "execution_count": 63,
     "metadata": {},
     "output_type": "execute_result"
    }
   ],
   "source": [
    "df_ROS_sugar = df_ROS[['입원기간', '당뇨여부']]\n",
    "df_ROS_sugar[:3]"
   ]
  },
  {
   "cell_type": "code",
   "execution_count": 64,
   "id": "26539b16-76f8-4ac1-bb42-e83d3987f873",
   "metadata": {
    "tags": []
   },
   "outputs": [
    {
     "data": {
      "text/plain": [
       "0    1645\n",
       "1     108\n",
       "Name: 당뇨여부, dtype: int64"
      ]
     },
     "execution_count": 64,
     "metadata": {},
     "output_type": "execute_result"
    }
   ],
   "source": [
    "df_ROS_sugar['당뇨여부'].value_counts()"
   ]
  },
  {
   "cell_type": "code",
   "execution_count": 65,
   "id": "b39a35a1-4a4b-452c-8e7c-90f68ba3a3dd",
   "metadata": {
    "tags": []
   },
   "outputs": [
    {
     "data": {
      "text/html": [
       "<div>\n",
       "<style scoped>\n",
       "    .dataframe tbody tr th:only-of-type {\n",
       "        vertical-align: middle;\n",
       "    }\n",
       "\n",
       "    .dataframe tbody tr th {\n",
       "        vertical-align: top;\n",
       "    }\n",
       "\n",
       "    .dataframe thead th {\n",
       "        text-align: right;\n",
       "    }\n",
       "</style>\n",
       "<table border=\"1\" class=\"dataframe\">\n",
       "  <thead>\n",
       "    <tr style=\"text-align: right;\">\n",
       "      <th></th>\n",
       "      <th>당뇨여부</th>\n",
       "      <th>입원기간</th>\n",
       "    </tr>\n",
       "  </thead>\n",
       "  <tbody>\n",
       "    <tr>\n",
       "      <th>0</th>\n",
       "      <td>0</td>\n",
       "      <td>2</td>\n",
       "    </tr>\n",
       "    <tr>\n",
       "      <th>1</th>\n",
       "      <td>0</td>\n",
       "      <td>1</td>\n",
       "    </tr>\n",
       "  </tbody>\n",
       "</table>\n",
       "</div>"
      ],
      "text/plain": [
       "   당뇨여부  입원기간\n",
       "0     0     2\n",
       "1     0     1"
      ]
     },
     "execution_count": 65,
     "metadata": {},
     "output_type": "execute_result"
    }
   ],
   "source": [
    "df_sugar = df_ROS_sugar[['당뇨여부', '입원기간']]\n",
    "df_sugar0 = df_sugar[df_sugar['당뇨여부'] == 0]\n",
    "df_sugar0[:2]"
   ]
  },
  {
   "cell_type": "code",
   "execution_count": 67,
   "id": "7f00c165-b7e5-4fd8-85bd-62969fcff6b7",
   "metadata": {
    "tags": []
   },
   "outputs": [
    {
     "data": {
      "text/html": [
       "<div>\n",
       "<style scoped>\n",
       "    .dataframe tbody tr th:only-of-type {\n",
       "        vertical-align: middle;\n",
       "    }\n",
       "\n",
       "    .dataframe tbody tr th {\n",
       "        vertical-align: top;\n",
       "    }\n",
       "\n",
       "    .dataframe thead th {\n",
       "        text-align: right;\n",
       "    }\n",
       "</style>\n",
       "<table border=\"1\" class=\"dataframe\">\n",
       "  <thead>\n",
       "    <tr style=\"text-align: right;\">\n",
       "      <th></th>\n",
       "      <th>당뇨여부</th>\n",
       "      <th>입원기간</th>\n",
       "    </tr>\n",
       "  </thead>\n",
       "  <tbody>\n",
       "    <tr>\n",
       "      <th>6</th>\n",
       "      <td>1</td>\n",
       "      <td>1</td>\n",
       "    </tr>\n",
       "    <tr>\n",
       "      <th>75</th>\n",
       "      <td>1</td>\n",
       "      <td>1</td>\n",
       "    </tr>\n",
       "  </tbody>\n",
       "</table>\n",
       "</div>"
      ],
      "text/plain": [
       "    당뇨여부  입원기간\n",
       "6      1     1\n",
       "75     1     1"
      ]
     },
     "execution_count": 67,
     "metadata": {},
     "output_type": "execute_result"
    }
   ],
   "source": [
    "df_sugar1 = df_sugar[df_sugar['당뇨여부'] == 1]\n",
    "df_sugar1[:2]"
   ]
  },
  {
   "cell_type": "code",
   "execution_count": 68,
   "id": "24b1341a-740c-4455-bc73-4825bfa4a620",
   "metadata": {
    "tags": []
   },
   "outputs": [
    {
     "data": {
      "text/plain": [
       "RanksumsResult(statistic=-17.43173687270112, pvalue=4.738463770660181e-68)"
      ]
     },
     "execution_count": 68,
     "metadata": {},
     "output_type": "execute_result"
    }
   ],
   "source": [
    "stats.ranksums(df_sugar0['당뇨여부'], df_sugar1['당뇨여부'])"
   ]
  },
  {
   "cell_type": "markdown",
   "id": "5c560383-11d7-4440-86dc-da784681c4bd",
   "metadata": {
    "jp-MarkdownHeadingCollapsed": true,
    "tags": []
   },
   "source": [
    "#### 선정 변수 입원기간, 성별\n",
    "- 분석 내용 : 성별에 따라 입원기간이 달라지는가?\n",
    "    - 귀무가설 : 달라지지 않는다.\n",
    "    - 대립가설 : 달라진다.\n",
    "- 분석 결론 (기준 : p-value 0.05)\n",
    "    - 통계 결론 : 대립가설 참. (pvalue=8.982823573911684e-271)\n",
    "    - 사실 결론 : 성별에 따라 입원기간이 달라진다."
   ]
  },
  {
   "cell_type": "code",
   "execution_count": 69,
   "id": "8aa63da1-17bf-4398-bf74-f6e0a60cef54",
   "metadata": {
    "tags": []
   },
   "outputs": [
    {
     "data": {
      "text/html": [
       "<div>\n",
       "<style scoped>\n",
       "    .dataframe tbody tr th:only-of-type {\n",
       "        vertical-align: middle;\n",
       "    }\n",
       "\n",
       "    .dataframe tbody tr th {\n",
       "        vertical-align: top;\n",
       "    }\n",
       "\n",
       "    .dataframe thead th {\n",
       "        text-align: right;\n",
       "    }\n",
       "</style>\n",
       "<table border=\"1\" class=\"dataframe\">\n",
       "  <thead>\n",
       "    <tr style=\"text-align: right;\">\n",
       "      <th></th>\n",
       "      <th>입원기간</th>\n",
       "      <th>성별</th>\n",
       "    </tr>\n",
       "  </thead>\n",
       "  <tbody>\n",
       "    <tr>\n",
       "      <th>0</th>\n",
       "      <td>2</td>\n",
       "      <td>2</td>\n",
       "    </tr>\n",
       "    <tr>\n",
       "      <th>1</th>\n",
       "      <td>1</td>\n",
       "      <td>1</td>\n",
       "    </tr>\n",
       "    <tr>\n",
       "      <th>2</th>\n",
       "      <td>1</td>\n",
       "      <td>1</td>\n",
       "    </tr>\n",
       "  </tbody>\n",
       "</table>\n",
       "</div>"
      ],
      "text/plain": [
       "   입원기간  성별\n",
       "0     2   2\n",
       "1     1   1\n",
       "2     1   1"
      ]
     },
     "execution_count": 69,
     "metadata": {},
     "output_type": "execute_result"
    }
   ],
   "source": [
    "df_ROS_sex = df_ROS[['입원기간', '성별']]\n",
    "df_ROS_sex[:3]"
   ]
  },
  {
   "cell_type": "code",
   "execution_count": 71,
   "id": "9acb9d13-b519-4f73-8f45-41574ecf41ac",
   "metadata": {
    "tags": []
   },
   "outputs": [
    {
     "data": {
      "text/plain": [
       "1    1090\n",
       "2     663\n",
       "Name: 성별, dtype: int64"
      ]
     },
     "execution_count": 71,
     "metadata": {},
     "output_type": "execute_result"
    }
   ],
   "source": [
    "df_ROS_sex['성별'].value_counts()"
   ]
  },
  {
   "cell_type": "code",
   "execution_count": 72,
   "id": "34b5275f-db5b-479b-b76c-79074890472b",
   "metadata": {
    "tags": []
   },
   "outputs": [
    {
     "data": {
      "text/html": [
       "<div>\n",
       "<style scoped>\n",
       "    .dataframe tbody tr th:only-of-type {\n",
       "        vertical-align: middle;\n",
       "    }\n",
       "\n",
       "    .dataframe tbody tr th {\n",
       "        vertical-align: top;\n",
       "    }\n",
       "\n",
       "    .dataframe thead th {\n",
       "        text-align: right;\n",
       "    }\n",
       "</style>\n",
       "<table border=\"1\" class=\"dataframe\">\n",
       "  <thead>\n",
       "    <tr style=\"text-align: right;\">\n",
       "      <th></th>\n",
       "      <th>성별</th>\n",
       "      <th>입원기간</th>\n",
       "    </tr>\n",
       "  </thead>\n",
       "  <tbody>\n",
       "    <tr>\n",
       "      <th>1</th>\n",
       "      <td>1</td>\n",
       "      <td>1</td>\n",
       "    </tr>\n",
       "    <tr>\n",
       "      <th>2</th>\n",
       "      <td>1</td>\n",
       "      <td>1</td>\n",
       "    </tr>\n",
       "  </tbody>\n",
       "</table>\n",
       "</div>"
      ],
      "text/plain": [
       "   성별  입원기간\n",
       "1   1     1\n",
       "2   1     1"
      ]
     },
     "execution_count": 72,
     "metadata": {},
     "output_type": "execute_result"
    }
   ],
   "source": [
    "df_sex = df_ROS_sex[['성별', '입원기간']]\n",
    "df_sex1 = df_sex[df_sex['성별'] == 1]\n",
    "df_sex1[:2]"
   ]
  },
  {
   "cell_type": "code",
   "execution_count": 73,
   "id": "2874b971-38ce-4923-8a20-af05ab2dbc17",
   "metadata": {
    "tags": []
   },
   "outputs": [
    {
     "data": {
      "text/html": [
       "<div>\n",
       "<style scoped>\n",
       "    .dataframe tbody tr th:only-of-type {\n",
       "        vertical-align: middle;\n",
       "    }\n",
       "\n",
       "    .dataframe tbody tr th {\n",
       "        vertical-align: top;\n",
       "    }\n",
       "\n",
       "    .dataframe thead th {\n",
       "        text-align: right;\n",
       "    }\n",
       "</style>\n",
       "<table border=\"1\" class=\"dataframe\">\n",
       "  <thead>\n",
       "    <tr style=\"text-align: right;\">\n",
       "      <th></th>\n",
       "      <th>성별</th>\n",
       "      <th>입원기간</th>\n",
       "    </tr>\n",
       "  </thead>\n",
       "  <tbody>\n",
       "    <tr>\n",
       "      <th>0</th>\n",
       "      <td>2</td>\n",
       "      <td>2</td>\n",
       "    </tr>\n",
       "    <tr>\n",
       "      <th>5</th>\n",
       "      <td>2</td>\n",
       "      <td>1</td>\n",
       "    </tr>\n",
       "  </tbody>\n",
       "</table>\n",
       "</div>"
      ],
      "text/plain": [
       "   성별  입원기간\n",
       "0   2     2\n",
       "5   2     1"
      ]
     },
     "execution_count": 73,
     "metadata": {},
     "output_type": "execute_result"
    }
   ],
   "source": [
    "df_sex2 = df_sex[df_sex['성별'] == 2]\n",
    "df_sex2[:2]"
   ]
  },
  {
   "cell_type": "code",
   "execution_count": 76,
   "id": "acde521a-3841-4d3c-abb3-0c0efc48e12f",
   "metadata": {
    "tags": []
   },
   "outputs": [
    {
     "data": {
      "text/plain": [
       "RanksumsResult(statistic=-35.157326807910486, pvalue=8.982823573911684e-271)"
      ]
     },
     "execution_count": 76,
     "metadata": {},
     "output_type": "execute_result"
    }
   ],
   "source": [
    "stats.ranksums(df_sex1['성별'], df_sex2['성별'])"
   ]
  },
  {
   "cell_type": "code",
   "execution_count": null,
   "id": "6c55f153-f6a0-435f-a0c8-beb677d8b3bc",
   "metadata": {},
   "outputs": [],
   "source": []
  },
  {
   "cell_type": "markdown",
   "id": "435d2533-859d-42d6-ae85-4543c8c54553",
   "metadata": {
    "jp-MarkdownHeadingCollapsed": true,
    "tags": []
   },
   "source": [
    "#### 선정 변수 입원기간, 우울증여부\n",
    "- 분석 내용 : 우울증여부에 따라 입원기간이 달라지는가?\n",
    "    - 귀무가설 : 달라지지 않는다.\n",
    "    - 대립가설 : 달라진다.\n",
    "- 분석 결론 (기준 : p-value 0.05)\n",
    "    - 통계 결론 : 대립가설 참. (pvalue=0.0)\n",
    "    - 사실 결론 : 우울증여부에 따라 입원기간이 달라진다."
   ]
  },
  {
   "cell_type": "code",
   "execution_count": 78,
   "id": "4c238951-3612-4f78-b48f-ae56979cf9bd",
   "metadata": {
    "tags": []
   },
   "outputs": [
    {
     "data": {
      "text/plain": [
       "우울증여부\n",
       "0        1710\n",
       "1          42\n",
       "2           1\n",
       "dtype: int64"
      ]
     },
     "execution_count": 78,
     "metadata": {},
     "output_type": "execute_result"
    }
   ],
   "source": [
    "df_ROS[['우울증여부']].value_counts()"
   ]
  },
  {
   "cell_type": "code",
   "execution_count": 79,
   "id": "5018fee4-f786-4470-8d09-05c793f5221b",
   "metadata": {
    "tags": []
   },
   "outputs": [],
   "source": [
    "df_sad = df_ROS[['우울증여부', '입원기간']]"
   ]
  },
  {
   "cell_type": "code",
   "execution_count": 80,
   "id": "cfd9e182-b85d-4b9c-88d5-81ee5bafde3c",
   "metadata": {
    "tags": []
   },
   "outputs": [
    {
     "data": {
      "text/plain": [
       "[0, 1, 2]"
      ]
     },
     "execution_count": 80,
     "metadata": {},
     "output_type": "execute_result"
    }
   ],
   "source": [
    "sad_list = df_sad['우울증여부'].value_counts().index.to_list()\n",
    "sad_list"
   ]
  },
  {
   "cell_type": "code",
   "execution_count": 81,
   "id": "8b39afe5-03b0-467b-a54d-77271829c0c2",
   "metadata": {
    "tags": []
   },
   "outputs": [],
   "source": [
    "df_sad_sure = [] \n",
    "for item in sad_list : \n",
    "    condition = (df_sad['우울증여부'] == item)\n",
    "    df_sad_sure.append(df_sad[condition])"
   ]
  },
  {
   "cell_type": "code",
   "execution_count": 82,
   "id": "0b9b9b4e-b3ce-4f76-9507-88926e191dc6",
   "metadata": {
    "tags": []
   },
   "outputs": [
    {
     "data": {
      "text/plain": [
       "KruskalResult(statistic=1752.000000000005, pvalue=0.0)"
      ]
     },
     "execution_count": 82,
     "metadata": {},
     "output_type": "execute_result"
    }
   ],
   "source": [
    "stats.kruskal(df_sad_sure[0]['우울증여부'], df_sad_sure[1]['우울증여부'],  df_sad_sure[2]['우울증여부'])"
   ]
  },
  {
   "cell_type": "markdown",
   "id": "4fbb8bfc-c6e3-456b-bc0b-1aaed92a569b",
   "metadata": {
    "jp-MarkdownHeadingCollapsed": true,
    "tags": []
   },
   "source": [
    "#### 선정 변수 입원기간, 비만도\n",
    "- 분석 내용 : 비만도에 따라 입원기간이 달라지는가?\n",
    "    - 귀무가설 : 달라지지 않는다.\n",
    "    - 대립가설 : 달라진다.\n",
    "- 분석 결론 (기준 : p-value 0.05)\n",
    "    - 통계 결론 : 대립가설 참. (pvalue=0.0)\n",
    "    - 사실 결론 : 비만도에 따라 입원기간이 달라진다."
   ]
  },
  {
   "cell_type": "code",
   "execution_count": 83,
   "id": "0bdb7238-9cef-4d58-aeaf-ea63a2f3f719",
   "metadata": {
    "tags": []
   },
   "outputs": [
    {
     "data": {
      "text/plain": [
       "비만도\n",
       "과체중    779\n",
       "정상     519\n",
       "비만     421\n",
       "저체중     34\n",
       "dtype: int64"
      ]
     },
     "execution_count": 83,
     "metadata": {},
     "output_type": "execute_result"
    }
   ],
   "source": [
    "df_ROS[['비만도']].value_counts()"
   ]
  },
  {
   "cell_type": "code",
   "execution_count": 84,
   "id": "45892797-6572-4eb1-a0d7-30d91c55e2de",
   "metadata": {
    "tags": []
   },
   "outputs": [],
   "source": [
    "df_obesity = df_ROS[['비만도', '입원기간']]"
   ]
  },
  {
   "cell_type": "code",
   "execution_count": 93,
   "id": "1ed98338-2f67-45a3-b7b8-3acd02826bbd",
   "metadata": {
    "tags": []
   },
   "outputs": [
    {
     "data": {
      "text/plain": [
       "['과체중', '정상', '비만', '저체중']"
      ]
     },
     "execution_count": 93,
     "metadata": {},
     "output_type": "execute_result"
    }
   ],
   "source": [
    "obesity_list = df_obesity['비만도'].value_counts().index.to_list()\n",
    "obesity_list"
   ]
  },
  {
   "cell_type": "code",
   "execution_count": 89,
   "id": "85acf9cc-4e10-4de5-8809-f016789bbee9",
   "metadata": {
    "tags": []
   },
   "outputs": [],
   "source": [
    "df_obesity_sure = [] \n",
    "for item in obesity_list : \n",
    "    condition = (df_obesity['비만도'] == item)\n",
    "    df_obesity_sure.append(df_obesity[condition])"
   ]
  },
  {
   "cell_type": "code",
   "execution_count": 94,
   "id": "1b8d65fb-39c8-4e6e-b6a5-400fe71be9bc",
   "metadata": {
    "tags": []
   },
   "outputs": [
    {
     "data": {
      "text/plain": [
       "KruskalResult(statistic=1752.0000000000002, pvalue=0.0)"
      ]
     },
     "execution_count": 94,
     "metadata": {},
     "output_type": "execute_result"
    }
   ],
   "source": [
    "stats.kruskal(df_obesity_sure[0]['비만도'], df_obesity_sure[1]['비만도'], df_obesity_sure[2]['비만도'],  df_obesity_sure[3]['비만도'])"
   ]
  },
  {
   "cell_type": "markdown",
   "id": "d06bc1a2-9d6c-49a5-9a58-9ff777433aa4",
   "metadata": {},
   "source": [
    "### 분석 스토리 \n",
    "- 연령에 따른 입원기간에 변화가 있는지 pearsonr 방식으로 검증을 해보았다. \n",
    "결과적으로 pvalue가 0.0772836이 나왔으므로 귀무가설에 의해 변화가 없는 것으로 나왔다.\n",
    "따라서 입원기간은 연령과 무관한것으로 보인다.\n",
    "\n",
    "- 림프구에 따른 입원기간에 변화를 pearsonr 방식으로 검증을 해보았다. \n",
    "결과적으로 pvalue가 0.134780이 나왔으므로 귀무가설에 의해 변화가 없는 것으로 나왔다.\n",
    "따라서 면역체계를 담당하는 림프구와 입원기간은 무관한 것으로 보인다.\n",
    "\n",
    "- 당뇨여부에 따른 입원기간의 변화를 ranksums 방식으로 검증을 해보았다.\n",
    "결과적으로 pvalue가 4.738..... - 68이 나왔으므로 대립가설에 의해 변화가 있는 것으로 나왔다.\n",
    "따라서 당뇨여부는 입원기간에 영향을 주는 것으로 보인다.\n",
    "\n",
    "- 과거수술횟수에 따른 입원기간의 변화를 kruskal 방식으로 검증을 해보았다.\n",
    "결과적으로 pvalue가 0으로 나왔기 때문에 대립가설이 참인것으로 나왔다.\n",
    "따라서 과거수술횟수는 입원기간에 영향을 주는 것으로 보인다.\n",
    "\n",
    "- 비만도에 따른 입원기간의 변화를 kruskal 방식으로 검증을 해보았다.\n",
    "결과적으로 pvalue가 0이므로 대립가설에 의해 변화가 있는 것으로 나왔다.\n",
    "따라서 비만도는 입원기간에 영향을 주는 것으로 보인다."
   ]
  },
  {
   "cell_type": "code",
   "execution_count": null,
   "id": "d251c2d2-1829-4ba3-91d3-b908f12b3611",
   "metadata": {},
   "outputs": [],
   "source": []
  }
 ],
 "metadata": {
  "kernelspec": {
   "display_name": "Python 3 (ipykernel)",
   "language": "python",
   "name": "python3"
  },
  "language_info": {
   "codemirror_mode": {
    "name": "ipython",
    "version": 3
   },
   "file_extension": ".py",
   "mimetype": "text/x-python",
   "name": "python",
   "nbconvert_exporter": "python",
   "pygments_lexer": "ipython3",
   "version": "3.11.3"
  }
 },
 "nbformat": 4,
 "nbformat_minor": 5
}
