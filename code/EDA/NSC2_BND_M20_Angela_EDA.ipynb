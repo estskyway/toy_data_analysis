{
 "cells": [
  {
   "cell_type": "code",
   "execution_count": 17,
   "id": "7cc9ea17-336a-437d-bf27-9c4372e5e00e",
   "metadata": {
    "tags": []
   },
   "outputs": [],
   "source": [
    "import pandas as pd\n",
    "import seaborn as sns\n",
    "import matplotlib.pyplot as plt\n",
    "import matplotlib as mpl\n",
    "mpl.rc('font',family='Malgun Gothic')\n",
    "mpl.rcParams['axes.unicode_minus'] = False\n",
    "import scipy.stats as stats"
   ]
  },
  {
   "cell_type": "code",
   "execution_count": 18,
   "id": "86df3f13-06c0-486b-b863-643e8d2bb111",
   "metadata": {
    "tags": []
   },
   "outputs": [
    {
     "data": {
      "text/html": [
       "<div>\n",
       "<style scoped>\n",
       "    .dataframe tbody tr th:only-of-type {\n",
       "        vertical-align: middle;\n",
       "    }\n",
       "\n",
       "    .dataframe tbody tr th {\n",
       "        vertical-align: top;\n",
       "    }\n",
       "\n",
       "    .dataframe thead th {\n",
       "        text-align: right;\n",
       "    }\n",
       "</style>\n",
       "<table border=\"1\" class=\"dataframe\">\n",
       "  <thead>\n",
       "    <tr style=\"text-align: right;\">\n",
       "      <th></th>\n",
       "      <th>Unnamed: 0</th>\n",
       "      <th>MCARE_RSLT_TYPE</th>\n",
       "      <th>OPRTN_YN</th>\n",
       "      <th>VSHSP_DD_CNT</th>\n",
       "      <th>TOT_PRSC_DD_CNT</th>\n",
       "      <th>EDC_SBA</th>\n",
       "      <th>BTH_YYYY</th>\n",
       "    </tr>\n",
       "  </thead>\n",
       "  <tbody>\n",
       "    <tr>\n",
       "      <th>0</th>\n",
       "      <td>0</td>\n",
       "      <td>5.0</td>\n",
       "      <td>0</td>\n",
       "      <td>1</td>\n",
       "      <td>30</td>\n",
       "      <td>3000</td>\n",
       "      <td>1921LE</td>\n",
       "    </tr>\n",
       "    <tr>\n",
       "      <th>1</th>\n",
       "      <td>1</td>\n",
       "      <td>5.0</td>\n",
       "      <td>0</td>\n",
       "      <td>2</td>\n",
       "      <td>60</td>\n",
       "      <td>6000</td>\n",
       "      <td>1921LE</td>\n",
       "    </tr>\n",
       "    <tr>\n",
       "      <th>2</th>\n",
       "      <td>2</td>\n",
       "      <td>5.0</td>\n",
       "      <td>0</td>\n",
       "      <td>1</td>\n",
       "      <td>30</td>\n",
       "      <td>3000</td>\n",
       "      <td>1921LE</td>\n",
       "    </tr>\n",
       "    <tr>\n",
       "      <th>3</th>\n",
       "      <td>3</td>\n",
       "      <td>1.0</td>\n",
       "      <td>0</td>\n",
       "      <td>1</td>\n",
       "      <td>7</td>\n",
       "      <td>4200</td>\n",
       "      <td>1921LE</td>\n",
       "    </tr>\n",
       "    <tr>\n",
       "      <th>4</th>\n",
       "      <td>4</td>\n",
       "      <td>5.0</td>\n",
       "      <td>0</td>\n",
       "      <td>1</td>\n",
       "      <td>7</td>\n",
       "      <td>1500</td>\n",
       "      <td>1921LE</td>\n",
       "    </tr>\n",
       "    <tr>\n",
       "      <th>5</th>\n",
       "      <td>5</td>\n",
       "      <td>5.0</td>\n",
       "      <td>0</td>\n",
       "      <td>1</td>\n",
       "      <td>3</td>\n",
       "      <td>6470</td>\n",
       "      <td>1921LE</td>\n",
       "    </tr>\n",
       "    <tr>\n",
       "      <th>6</th>\n",
       "      <td>6</td>\n",
       "      <td>1.0</td>\n",
       "      <td>0</td>\n",
       "      <td>1</td>\n",
       "      <td>30</td>\n",
       "      <td>3500</td>\n",
       "      <td>1921LE</td>\n",
       "    </tr>\n",
       "    <tr>\n",
       "      <th>7</th>\n",
       "      <td>7</td>\n",
       "      <td>1.0</td>\n",
       "      <td>0</td>\n",
       "      <td>1</td>\n",
       "      <td>0</td>\n",
       "      <td>5500</td>\n",
       "      <td>1921LE</td>\n",
       "    </tr>\n",
       "    <tr>\n",
       "      <th>8</th>\n",
       "      <td>8</td>\n",
       "      <td>1.0</td>\n",
       "      <td>0</td>\n",
       "      <td>1</td>\n",
       "      <td>0</td>\n",
       "      <td>67860</td>\n",
       "      <td>1921LE</td>\n",
       "    </tr>\n",
       "    <tr>\n",
       "      <th>9</th>\n",
       "      <td>9</td>\n",
       "      <td>1.0</td>\n",
       "      <td>0</td>\n",
       "      <td>1</td>\n",
       "      <td>30</td>\n",
       "      <td>4900</td>\n",
       "      <td>1921LE</td>\n",
       "    </tr>\n",
       "  </tbody>\n",
       "</table>\n",
       "</div>"
      ],
      "text/plain": [
       "   Unnamed: 0  MCARE_RSLT_TYPE  OPRTN_YN  VSHSP_DD_CNT  TOT_PRSC_DD_CNT  \\\n",
       "0           0              5.0         0             1               30   \n",
       "1           1              5.0         0             2               60   \n",
       "2           2              5.0         0             1               30   \n",
       "3           3              1.0         0             1                7   \n",
       "4           4              5.0         0             1                7   \n",
       "5           5              5.0         0             1                3   \n",
       "6           6              1.0         0             1               30   \n",
       "7           7              1.0         0             1                0   \n",
       "8           8              1.0         0             1                0   \n",
       "9           9              1.0         0             1               30   \n",
       "\n",
       "   EDC_SBA BTH_YYYY  \n",
       "0     3000   1921LE  \n",
       "1     6000   1921LE  \n",
       "2     3000   1921LE  \n",
       "3     4200   1921LE  \n",
       "4     1500   1921LE  \n",
       "5     6470   1921LE  \n",
       "6     3500   1921LE  \n",
       "7     5500   1921LE  \n",
       "8    67860   1921LE  \n",
       "9     4900   1921LE  "
      ]
     },
     "execution_count": 18,
     "metadata": {},
     "output_type": "execute_result"
    }
   ],
   "source": [
    "df_BND_M20_analysis = pd.read_csv('../../dataset/BND_M20_analysis.csv')\n",
    "df_BND_M20_analysis.head(10)"
   ]
  },
  {
   "cell_type": "code",
   "execution_count": 19,
   "id": "6deb5152-0984-4a39-a885-b8c9dc8c9234",
   "metadata": {
    "tags": []
   },
   "outputs": [
    {
     "name": "stdout",
     "output_type": "stream",
     "text": [
      "<class 'pandas.core.frame.DataFrame'>\n",
      "RangeIndex: 4205 entries, 0 to 4204\n",
      "Data columns (total 4 columns):\n",
      " #   Column           Non-Null Count  Dtype  \n",
      "---  ------           --------------  -----  \n",
      " 0   MCARE_RSLT_TYPE  4205 non-null   float64\n",
      " 1   OPRTN_YN         4205 non-null   int64  \n",
      " 2   VSHSP_DD_CNT     4205 non-null   int64  \n",
      " 3   BTH_YYYY         4205 non-null   object \n",
      "dtypes: float64(1), int64(2), object(1)\n",
      "memory usage: 131.5+ KB\n"
     ]
    }
   ],
   "source": [
    "df_BND_M20_analysis_01 = df_BND_M20_analysis[['MCARE_RSLT_TYPE', 'OPRTN_YN', 'VSHSP_DD_CNT', 'BTH_YYYY']]\n",
    "df_BND_M20_analysis_01.info()"
   ]
  },
  {
   "cell_type": "code",
   "execution_count": 20,
   "id": "6c2f60b7-b3f7-4611-ab7d-efde8a804610",
   "metadata": {
    "tags": []
   },
   "outputs": [
    {
     "data": {
      "text/html": [
       "<div>\n",
       "<style scoped>\n",
       "    .dataframe tbody tr th:only-of-type {\n",
       "        vertical-align: middle;\n",
       "    }\n",
       "\n",
       "    .dataframe tbody tr th {\n",
       "        vertical-align: top;\n",
       "    }\n",
       "\n",
       "    .dataframe thead th {\n",
       "        text-align: right;\n",
       "    }\n",
       "</style>\n",
       "<table border=\"1\" class=\"dataframe\">\n",
       "  <thead>\n",
       "    <tr style=\"text-align: right;\">\n",
       "      <th></th>\n",
       "      <th>MCARE_RSLT_TYPE</th>\n",
       "      <th>OPRTN_YN</th>\n",
       "      <th>VSHSP_DD_CNT</th>\n",
       "    </tr>\n",
       "  </thead>\n",
       "  <tbody>\n",
       "    <tr>\n",
       "      <th>count</th>\n",
       "      <td>4205.000000</td>\n",
       "      <td>4205.000000</td>\n",
       "      <td>4205.000000</td>\n",
       "    </tr>\n",
       "    <tr>\n",
       "      <th>mean</th>\n",
       "      <td>1.899168</td>\n",
       "      <td>0.006421</td>\n",
       "      <td>1.214507</td>\n",
       "    </tr>\n",
       "    <tr>\n",
       "      <th>std</th>\n",
       "      <td>1.752071</td>\n",
       "      <td>0.240335</td>\n",
       "      <td>1.540333</td>\n",
       "    </tr>\n",
       "    <tr>\n",
       "      <th>min</th>\n",
       "      <td>1.000000</td>\n",
       "      <td>0.000000</td>\n",
       "      <td>1.000000</td>\n",
       "    </tr>\n",
       "    <tr>\n",
       "      <th>25%</th>\n",
       "      <td>1.000000</td>\n",
       "      <td>0.000000</td>\n",
       "      <td>1.000000</td>\n",
       "    </tr>\n",
       "    <tr>\n",
       "      <th>50%</th>\n",
       "      <td>1.000000</td>\n",
       "      <td>0.000000</td>\n",
       "      <td>1.000000</td>\n",
       "    </tr>\n",
       "    <tr>\n",
       "      <th>75%</th>\n",
       "      <td>1.000000</td>\n",
       "      <td>0.000000</td>\n",
       "      <td>1.000000</td>\n",
       "    </tr>\n",
       "    <tr>\n",
       "      <th>max</th>\n",
       "      <td>9.000000</td>\n",
       "      <td>9.000000</td>\n",
       "      <td>37.000000</td>\n",
       "    </tr>\n",
       "  </tbody>\n",
       "</table>\n",
       "</div>"
      ],
      "text/plain": [
       "       MCARE_RSLT_TYPE     OPRTN_YN  VSHSP_DD_CNT\n",
       "count      4205.000000  4205.000000   4205.000000\n",
       "mean          1.899168     0.006421      1.214507\n",
       "std           1.752071     0.240335      1.540333\n",
       "min           1.000000     0.000000      1.000000\n",
       "25%           1.000000     0.000000      1.000000\n",
       "50%           1.000000     0.000000      1.000000\n",
       "75%           1.000000     0.000000      1.000000\n",
       "max           9.000000     9.000000     37.000000"
      ]
     },
     "execution_count": 20,
     "metadata": {},
     "output_type": "execute_result"
    }
   ],
   "source": [
    "df_BND_M20_analysis_01.describe()"
   ]
  },
  {
   "cell_type": "code",
   "execution_count": 21,
   "id": "e3d8fac0-04c0-427d-b472-63bbe6a62e67",
   "metadata": {
    "tags": []
   },
   "outputs": [
    {
     "data": {
      "text/html": [
       "<div>\n",
       "<style scoped>\n",
       "    .dataframe tbody tr th:only-of-type {\n",
       "        vertical-align: middle;\n",
       "    }\n",
       "\n",
       "    .dataframe tbody tr th {\n",
       "        vertical-align: top;\n",
       "    }\n",
       "\n",
       "    .dataframe thead th {\n",
       "        text-align: right;\n",
       "    }\n",
       "</style>\n",
       "<table border=\"1\" class=\"dataframe\">\n",
       "  <thead>\n",
       "    <tr style=\"text-align: right;\">\n",
       "      <th></th>\n",
       "      <th>BTH_YYYY</th>\n",
       "    </tr>\n",
       "  </thead>\n",
       "  <tbody>\n",
       "    <tr>\n",
       "      <th>count</th>\n",
       "      <td>4205</td>\n",
       "    </tr>\n",
       "    <tr>\n",
       "      <th>unique</th>\n",
       "      <td>63</td>\n",
       "    </tr>\n",
       "    <tr>\n",
       "      <th>top</th>\n",
       "      <td>1940</td>\n",
       "    </tr>\n",
       "    <tr>\n",
       "      <th>freq</th>\n",
       "      <td>236</td>\n",
       "    </tr>\n",
       "  </tbody>\n",
       "</table>\n",
       "</div>"
      ],
      "text/plain": [
       "       BTH_YYYY\n",
       "count      4205\n",
       "unique       63\n",
       "top        1940\n",
       "freq        236"
      ]
     },
     "execution_count": 21,
     "metadata": {},
     "output_type": "execute_result"
    }
   ],
   "source": [
    "df_BND_M20_analysis_01.describe(include='object')"
   ]
  },
  {
   "cell_type": "markdown",
   "id": "b1fde023-7bcf-46df-8285-148177b482a1",
   "metadata": {},
   "source": [
    "# 데이터 타입 변환\n",
    "\n",
    "- 범주형: 진료결과구분 MCARE_RSLT_TYPE, 수술여부 OPRTN_YN\n",
    "- 연속형: 입내원일수 VSHSP_DD_CNT, 출생년도 BTH_YYYY"
   ]
  },
  {
   "cell_type": "code",
   "execution_count": 24,
   "id": "bd7f4c73-d72f-4a2f-a910-ff4f2d56d7a7",
   "metadata": {
    "tags": []
   },
   "outputs": [],
   "source": [
    "df_BND_M20_analysis_01 =df_BND_M20_analysis_01[df_BND_M20_analysis_01['BTH_YYYY'] != '1921LE']"
   ]
  },
  {
   "cell_type": "code",
   "execution_count": 25,
   "id": "8f308f15-1f3f-48f6-8730-52d5e1330a58",
   "metadata": {
    "tags": []
   },
   "outputs": [
    {
     "name": "stdout",
     "output_type": "stream",
     "text": [
      "<class 'pandas.core.frame.DataFrame'>\n",
      "Int64Index: 4194 entries, 11 to 4204\n",
      "Data columns (total 4 columns):\n",
      " #   Column           Non-Null Count  Dtype  \n",
      "---  ------           --------------  -----  \n",
      " 0   MCARE_RSLT_TYPE  4194 non-null   float64\n",
      " 1   OPRTN_YN         4194 non-null   int64  \n",
      " 2   VSHSP_DD_CNT     4194 non-null   int64  \n",
      " 3   BTH_YYYY         4194 non-null   object \n",
      "dtypes: float64(1), int64(2), object(1)\n",
      "memory usage: 163.8+ KB\n"
     ]
    }
   ],
   "source": [
    "df_BND_M20_analysis_01.info()"
   ]
  },
  {
   "cell_type": "code",
   "execution_count": 26,
   "id": "d8aa1805-da3d-4f0c-af55-793addfbd4bc",
   "metadata": {
    "tags": []
   },
   "outputs": [
    {
     "data": {
      "text/plain": [
       "MCARE_RSLT_TYPE    0\n",
       "OPRTN_YN           0\n",
       "VSHSP_DD_CNT       0\n",
       "BTH_YYYY           0\n",
       "dtype: int64"
      ]
     },
     "execution_count": 26,
     "metadata": {},
     "output_type": "execute_result"
    }
   ],
   "source": [
    "df_BND_M20_analysis_01.isnull().sum()"
   ]
  },
  {
   "cell_type": "code",
   "execution_count": 27,
   "id": "8665526f-0e9e-4174-adf1-885fa0d31e68",
   "metadata": {
    "tags": []
   },
   "outputs": [],
   "source": [
    "df_BND_M20_analysis_01[['MCARE_RSLT_TYPE', 'OPRTN_YN']] = df_BND_M20_analysis_01[['MCARE_RSLT_TYPE', 'OPRTN_YN']].astype(object)"
   ]
  },
  {
   "cell_type": "code",
   "execution_count": 28,
   "id": "0be7a8b2-bde1-4056-84bc-14cbdf591e16",
   "metadata": {
    "tags": []
   },
   "outputs": [],
   "source": [
    "df_BND_M20_analysis_01['BTH_YYYY'] = df_BND_M20_analysis_01['BTH_YYYY'].astype(int)"
   ]
  },
  {
   "cell_type": "code",
   "execution_count": 29,
   "id": "14fddba4-a803-4a34-8108-e666b02fbde7",
   "metadata": {
    "tags": []
   },
   "outputs": [
    {
     "name": "stdout",
     "output_type": "stream",
     "text": [
      "<class 'pandas.core.frame.DataFrame'>\n",
      "Int64Index: 4194 entries, 11 to 4204\n",
      "Data columns (total 4 columns):\n",
      " #   Column           Non-Null Count  Dtype \n",
      "---  ------           --------------  ----- \n",
      " 0   MCARE_RSLT_TYPE  4194 non-null   object\n",
      " 1   OPRTN_YN         4194 non-null   object\n",
      " 2   VSHSP_DD_CNT     4194 non-null   int64 \n",
      " 3   BTH_YYYY         4194 non-null   int32 \n",
      "dtypes: int32(1), int64(1), object(2)\n",
      "memory usage: 147.4+ KB\n"
     ]
    }
   ],
   "source": [
    "df_BND_M20_analysis_01.info()"
   ]
  },
  {
   "cell_type": "markdown",
   "id": "650d5291-e592-45bd-be8e-42987ba6dc43",
   "metadata": {},
   "source": [
    "# EDA 상관관계 확인 \n",
    "\n",
    "- 목표변수:진료결과구분 MCARE_RSLT_TYPE\n",
    "- 설명변수:입내원일수 VSHSP_DD_CNT, 출생년도 BTH_YYYY, 수술여부 OPRTN_YN\n",
    "\n",
    "    - 입내원일수 VSHSP_DD_CNT\n",
    "    - 출생년도 BTH_YYYY\n",
    "    - 수술여부 OPRTN_YN"
   ]
  },
  {
   "cell_type": "markdown",
   "id": "9bc134f6-8943-4162-8e86-ac78c40b4146",
   "metadata": {
    "tags": []
   },
   "source": [
    "# 단일 변수 시각화 \n",
    "\n",
    "- 단일변수 / 연속형 - histplot: 입내원일수 VSHSP_DD_CNT, 출생년도 BTH_YYYY\n",
    "- 단일변수 / 범주형 - barplot: 진료결과구분 MCARE_RSLT_TYPE, 수술여부 OPRTN_YN"
   ]
  },
  {
   "cell_type": "code",
   "execution_count": 32,
   "id": "8d435c66-587c-4750-86c8-6164c11fe745",
   "metadata": {
    "tags": []
   },
   "outputs": [
    {
     "data": {
      "text/plain": [
       "['VSHSP_DD_CNT', 'BTH_YYYY']"
      ]
     },
     "execution_count": 32,
     "metadata": {},
     "output_type": "execute_result"
    }
   ],
   "source": [
    "# 단일변수 / 연속형 - histplot: 입내원일수 VSHSP_DD_CNT, 출생년도 BTH_YYYY\n",
    "BND_M20_continuous_list = df_BND_M20_analysis_01[['VSHSP_DD_CNT', 'BTH_YYYY']].describe().columns.to_list()\n",
    "BND_M20_continuous_list"
   ]
  },
  {
   "cell_type": "code",
   "execution_count": 33,
   "id": "055d7505-b124-47ca-bd7a-c45c3f2fb41d",
   "metadata": {
    "tags": []
   },
   "outputs": [
    {
     "data": {
      "image/png": "[encoded data removed]",
      "text/plain": [
       "<Figure size 640x480 with 1 Axes>"
      ]
     },
     "metadata": {},
     "output_type": "display_data"
    },
    {
     "data": {
      "image/png": "[encoded data removed]",
      "text/plain": [
       "<Figure size 640x480 with 1 Axes>"
      ]
     },
     "metadata": {},
     "output_type": "display_data"
    }
   ],
   "source": [
    "for item in BND_M20_continuous_list : \n",
    "    sns.histplot(data=df_BND_M20_analysis_01, x=item, kde=True)\n",
    "    plt.show()"
   ]
  },
  {
   "cell_type": "code",
   "execution_count": 36,
   "id": "16231dcb-1e72-4899-a951-4927d3833f0d",
   "metadata": {
    "tags": []
   },
   "outputs": [
    {
     "data": {
      "text/plain": [
       "['MCARE_RSLT_TYPE', 'OPRTN_YN']"
      ]
     },
     "execution_count": 36,
     "metadata": {},
     "output_type": "execute_result"
    }
   ],
   "source": [
    "# 단일변수 / 범주형 - barplot: 진료결과구분 MCARE_RSLT_TYPE, 수술여부 OPRTN_YN\n",
    "BND_M20_category_list = df_BND_M20_analysis_01[['MCARE_RSLT_TYPE', 'OPRTN_YN']].describe().columns.to_list()\n",
    "BND_M20_category_list"
   ]
  },
  {
   "cell_type": "code",
   "execution_count": 37,
   "id": "cfceef38-431b-4171-b930-4759fa10ef87",
   "metadata": {
    "tags": []
   },
   "outputs": [
    {
     "data": {
      "image/png": "[encoded data removed]",
      "text/plain": [
       "<Figure size 640x480 with 1 Axes>"
      ]
     },
     "metadata": {},
     "output_type": "display_data"
    },
    {
     "data": {
      "image/png": "[encoded data removed]",
      "text/plain": [
       "<Figure size 640x480 with 1 Axes>"
      ]
     },
     "metadata": {},
     "output_type": "display_data"
    }
   ],
   "source": [
    "for item in BND_M20_category_list :\n",
    "    sns.countplot(data=df_BND_M20_analysis_01, x=item)\n",
    "    plt.show()"
   ]
  },
  {
   "cell_type": "markdown",
   "id": "41517a3f-65f7-465b-ae1d-c46f67b4f78a",
   "metadata": {},
   "source": [
    "# 변수간 다변수 시각화 \n",
    "\n",
    "- 연속형-범주형: barplot\n",
    "        진료결과구분 MCARE_RSLT_TYPE - 출생년도 BTH_YYYY\n",
    "        진료결과구분 MCARE_RSLT_TYPE - 입내원일수 VSHSP_DD_CNT\n",
    "    \n",
    "- 범주형-범주형: barplot\n",
    "        진료결과구분 MCARE_RSLT_TYPE - 수술여부 OPRTN_YN"
   ]
  },
  {
   "cell_type": "code",
   "execution_count": 45,
   "id": "d507e6c0-d75b-4cd8-be3c-36e020994caa",
   "metadata": {
    "tags": []
   },
   "outputs": [
    {
     "data": {
      "image/png": "[encoded data removed]",
      "text/plain": [
       "<Figure size 640x480 with 1 Axes>"
      ]
     },
     "metadata": {},
     "output_type": "display_data"
    }
   ],
   "source": [
    "# 연속형-범주형: barplot 진료결과구분 MCARE_RSLT_TYPE - 출생년도 BTH_YYYY\n",
    "sns.barplot(data=df_BND_M20_analysis_01, y='BTH_YYYY', x='MCARE_RSLT_TYPE')\n",
    "plt.show()"
   ]
  },
  {
   "cell_type": "code",
   "execution_count": 44,
   "id": "3ddd6faf-3a5b-4d56-843e-d3a5f8ad6284",
   "metadata": {
    "tags": []
   },
   "outputs": [
    {
     "data": {
      "image/png": "[encoded data removed]",
      "text/plain": [
       "<Figure size 640x480 with 1 Axes>"
      ]
     },
     "metadata": {},
     "output_type": "display_data"
    }
   ],
   "source": [
    "# 연속형-범주형: barplot 진료결과구분 MCARE_RSLT_TYPE - 입내원일수 VSHSP_DD_CNT\n",
    "sns.barplot(data=df_BND_M20_analysis_01, y='VSHSP_DD_CNT', x='MCARE_RSLT_TYPE')\n",
    "plt.show()"
   ]
  },
  {
   "cell_type": "code",
   "execution_count": 48,
   "id": "b500a241-d6ce-42ad-aa03-0b393f8ce521",
   "metadata": {
    "tags": []
   },
   "outputs": [
    {
     "data": {
      "image/png": "[encoded data removed]",
      "text/plain": [
       "<Figure size 640x480 with 1 Axes>"
      ]
     },
     "metadata": {},
     "output_type": "display_data"
    }
   ],
   "source": [
    "# 범주형-범주형: barplot 진료결과구분 MCARE_RSLT_TYPE - 수술여부 OPRTN_YN\n",
    "sns.barplot(data=df_BND_M20_analysis_01, y='OPRTN_YN', x='MCARE_RSLT_TYPE')\n",
    "plt.show()"
   ]
  },
  {
   "cell_type": "code",
   "execution_count": null,
   "id": "6cc27699-3f71-47b5-8c24-de494f44b312",
   "metadata": {},
   "outputs": [],
   "source": []
  }
 ],
 "metadata": {
  "kernelspec": {
   "display_name": "Python 3 (ipykernel)",
   "language": "python",
   "name": "python3"
  },
  "language_info": {
   "codemirror_mode": {
    "name": "ipython",
    "version": 3
   },
   "file_extension": ".py",
   "mimetype": "text/x-python",
   "name": "python",
   "nbconvert_exporter": "python",
   "pygments_lexer": "ipython3",
   "version": "3.11.3"
  }
 },
 "nbformat": 4,
 "nbformat_minor": 5
}
