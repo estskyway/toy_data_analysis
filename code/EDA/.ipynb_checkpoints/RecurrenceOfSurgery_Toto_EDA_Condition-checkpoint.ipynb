{
 "cells": [
  {
   "cell_type": "code",
   "execution_count": 1,
   "id": "4ea5eb3d-bf0d-4164-ad12-673e2e5d9d94",
   "metadata": {
    "tags": []
   },
   "outputs": [],
   "source": [
    "import numpy as np\n",
    "import pandas as pd\n",
    "import matplotlib.pyplot as plt\n",
    "import matplotlib as mpl\n",
    "mpl.rc('font',family='Malgun Gothic')\n",
    "mpl.rcParams['axes.unicode_minus'] = False\n",
    "import seaborn as sns"
   ]
  },
  {
   "cell_type": "code",
   "execution_count": 2,
   "id": "d6f70e18-b55d-49da-ad2c-01e70a2581ce",
   "metadata": {
    "tags": []
   },
   "outputs": [
    {
     "data": {
      "text/html": [
       "<div>\n",
       "<style scoped>\n",
       "    .dataframe tbody tr th:only-of-type {\n",
       "        vertical-align: middle;\n",
       "    }\n",
       "\n",
       "    .dataframe tbody tr th {\n",
       "        vertical-align: top;\n",
       "    }\n",
       "\n",
       "    .dataframe thead th {\n",
       "        text-align: right;\n",
       "    }\n",
       "</style>\n",
       "<table border=\"1\" class=\"dataframe\">\n",
       "  <thead>\n",
       "    <tr style=\"text-align: right;\">\n",
       "      <th></th>\n",
       "      <th>Unnamed: 0</th>\n",
       "      <th>입원기간</th>\n",
       "      <th>환자통증정도</th>\n",
       "      <th>통증기간(월)</th>\n",
       "      <th>Instability</th>\n",
       "      <th>수술기법</th>\n",
       "      <th>수술시간</th>\n",
       "      <th>수술실패여부</th>\n",
       "      <th>디스크단면적</th>\n",
       "      <th>MF + ES</th>\n",
       "      <th>고혈압여부</th>\n",
       "      <th>과거수술횟수</th>\n",
       "      <th>당뇨여부</th>\n",
       "      <th>우울증여부</th>\n",
       "      <th>체중</th>\n",
       "      <th>신장</th>\n",
       "      <th>성별</th>\n",
       "      <th>연령</th>\n",
       "      <th>헤모글로빈수치</th>\n",
       "      <th>Large Lymphocyte</th>\n",
       "    </tr>\n",
       "  </thead>\n",
       "  <tbody>\n",
       "    <tr>\n",
       "      <th>0</th>\n",
       "      <td>0</td>\n",
       "      <td>2</td>\n",
       "      <td>10</td>\n",
       "      <td>1.0</td>\n",
       "      <td>0</td>\n",
       "      <td>TELD</td>\n",
       "      <td>68.0</td>\n",
       "      <td>0</td>\n",
       "      <td>2048.50</td>\n",
       "      <td>1824.6</td>\n",
       "      <td>0</td>\n",
       "      <td>0</td>\n",
       "      <td>0</td>\n",
       "      <td>0</td>\n",
       "      <td>60.3</td>\n",
       "      <td>163</td>\n",
       "      <td>2</td>\n",
       "      <td>66</td>\n",
       "      <td>13.66</td>\n",
       "      <td>22.8</td>\n",
       "    </tr>\n",
       "    <tr>\n",
       "      <th>1</th>\n",
       "      <td>1</td>\n",
       "      <td>1</td>\n",
       "      <td>10</td>\n",
       "      <td>1.0</td>\n",
       "      <td>0</td>\n",
       "      <td>TELD</td>\n",
       "      <td>31.0</td>\n",
       "      <td>0</td>\n",
       "      <td>1753.10</td>\n",
       "      <td>1737.5</td>\n",
       "      <td>0</td>\n",
       "      <td>0</td>\n",
       "      <td>0</td>\n",
       "      <td>0</td>\n",
       "      <td>71.7</td>\n",
       "      <td>171</td>\n",
       "      <td>1</td>\n",
       "      <td>47</td>\n",
       "      <td>13.73</td>\n",
       "      <td>44.9</td>\n",
       "    </tr>\n",
       "    <tr>\n",
       "      <th>2</th>\n",
       "      <td>2</td>\n",
       "      <td>1</td>\n",
       "      <td>7</td>\n",
       "      <td>1.0</td>\n",
       "      <td>0</td>\n",
       "      <td>TELD</td>\n",
       "      <td>78.0</td>\n",
       "      <td>0</td>\n",
       "      <td>1749.00</td>\n",
       "      <td>1188.5</td>\n",
       "      <td>0</td>\n",
       "      <td>1</td>\n",
       "      <td>0</td>\n",
       "      <td>0</td>\n",
       "      <td>77.1</td>\n",
       "      <td>178</td>\n",
       "      <td>1</td>\n",
       "      <td>39</td>\n",
       "      <td>15.34</td>\n",
       "      <td>53.0</td>\n",
       "    </tr>\n",
       "    <tr>\n",
       "      <th>3</th>\n",
       "      <td>3</td>\n",
       "      <td>1</td>\n",
       "      <td>7</td>\n",
       "      <td>2.0</td>\n",
       "      <td>0</td>\n",
       "      <td>TELD</td>\n",
       "      <td>73.0</td>\n",
       "      <td>0</td>\n",
       "      <td>1796.20</td>\n",
       "      <td>2534.5</td>\n",
       "      <td>1</td>\n",
       "      <td>0</td>\n",
       "      <td>0</td>\n",
       "      <td>0</td>\n",
       "      <td>74.2</td>\n",
       "      <td>174</td>\n",
       "      <td>1</td>\n",
       "      <td>40</td>\n",
       "      <td>15.38</td>\n",
       "      <td>54.7</td>\n",
       "    </tr>\n",
       "    <tr>\n",
       "      <th>4</th>\n",
       "      <td>4</td>\n",
       "      <td>2</td>\n",
       "      <td>7</td>\n",
       "      <td>1.0</td>\n",
       "      <td>0</td>\n",
       "      <td>TELD</td>\n",
       "      <td>29.0</td>\n",
       "      <td>0</td>\n",
       "      <td>2021.48</td>\n",
       "      <td>1840.6</td>\n",
       "      <td>1</td>\n",
       "      <td>0</td>\n",
       "      <td>0</td>\n",
       "      <td>0</td>\n",
       "      <td>80.7</td>\n",
       "      <td>183</td>\n",
       "      <td>1</td>\n",
       "      <td>42</td>\n",
       "      <td>13.08</td>\n",
       "      <td>53.8</td>\n",
       "    </tr>\n",
       "  </tbody>\n",
       "</table>\n",
       "</div>"
      ],
      "text/plain": [
       "   Unnamed: 0  입원기간  환자통증정도  통증기간(월)  Instability  수술기법  수술시간  수술실패여부  \\\n",
       "0           0     2      10      1.0            0  TELD  68.0       0   \n",
       "1           1     1      10      1.0            0  TELD  31.0       0   \n",
       "2           2     1       7      1.0            0  TELD  78.0       0   \n",
       "3           3     1       7      2.0            0  TELD  73.0       0   \n",
       "4           4     2       7      1.0            0  TELD  29.0       0   \n",
       "\n",
       "    디스크단면적  MF + ES  고혈압여부  과거수술횟수  당뇨여부  우울증여부    체중   신장  성별  연령  헤모글로빈수치  \\\n",
       "0  2048.50   1824.6      0       0     0      0  60.3  163   2  66    13.66   \n",
       "1  1753.10   1737.5      0       0     0      0  71.7  171   1  47    13.73   \n",
       "2  1749.00   1188.5      0       1     0      0  77.1  178   1  39    15.34   \n",
       "3  1796.20   2534.5      1       0     0      0  74.2  174   1  40    15.38   \n",
       "4  2021.48   1840.6      1       0     0      0  80.7  183   1  42    13.08   \n",
       "\n",
       "   Large Lymphocyte  \n",
       "0              22.8  \n",
       "1              44.9  \n",
       "2              53.0  \n",
       "3              54.7  \n",
       "4              53.8  "
      ]
     },
     "execution_count": 2,
     "metadata": {},
     "output_type": "execute_result"
    }
   ],
   "source": [
    "df_ROS_Analysis = pd.read_csv('../../dataset/RecurrenceOfSurgeryAnalysis.csv')\n",
    "df_ROS_Analysis[:5]"
   ]
  },
  {
   "cell_type": "code",
   "execution_count": 3,
   "id": "99ca08d3-cfec-4682-8e08-f307c89b372a",
   "metadata": {
    "tags": []
   },
   "outputs": [
    {
     "name": "stdout",
     "output_type": "stream",
     "text": [
      "<class 'pandas.core.frame.DataFrame'>\n",
      "RangeIndex: 1753 entries, 0 to 1752\n",
      "Data columns (total 20 columns):\n",
      " #   Column            Non-Null Count  Dtype  \n",
      "---  ------            --------------  -----  \n",
      " 0   Unnamed: 0        1753 non-null   int64  \n",
      " 1   입원기간              1753 non-null   int64  \n",
      " 2   환자통증정도            1753 non-null   int64  \n",
      " 3   통증기간(월)           1753 non-null   float64\n",
      " 4   Instability       1753 non-null   int64  \n",
      " 5   수술기법              1753 non-null   object \n",
      " 6   수술시간              1753 non-null   float64\n",
      " 7   수술실패여부            1753 non-null   int64  \n",
      " 8   디스크단면적            1753 non-null   float64\n",
      " 9   MF + ES           1753 non-null   float64\n",
      " 10  고혈압여부             1753 non-null   int64  \n",
      " 11  과거수술횟수            1753 non-null   int64  \n",
      " 12  당뇨여부              1753 non-null   int64  \n",
      " 13  우울증여부             1753 non-null   int64  \n",
      " 14  체중                1753 non-null   float64\n",
      " 15  신장                1753 non-null   int64  \n",
      " 16  성별                1753 non-null   int64  \n",
      " 17  연령                1753 non-null   int64  \n",
      " 18  헤모글로빈수치           1753 non-null   float64\n",
      " 19  Large Lymphocyte  1753 non-null   float64\n",
      "dtypes: float64(7), int64(12), object(1)\n",
      "memory usage: 274.0+ KB\n"
     ]
    }
   ],
   "source": [
    "df_ROS_Analysis.info()"
   ]
  },
  {
   "cell_type": "code",
   "execution_count": 4,
   "id": "e9c7b6e9-f1e8-421e-a416-d29fb1786b93",
   "metadata": {
    "tags": []
   },
   "outputs": [
    {
     "data": {
      "text/plain": [
       "Index(['Unnamed: 0', '입원기간', '환자통증정도', '통증기간(월)', 'Instability', '수술기법',\n",
       "       '수술시간', '수술실패여부', '디스크단면적', 'MF + ES', '고혈압여부', '과거수술횟수', '당뇨여부',\n",
       "       '우울증여부', '체중', '신장', '성별', '연령', '헤모글로빈수치', 'Large Lymphocyte'],\n",
       "      dtype='object')"
      ]
     },
     "execution_count": 4,
     "metadata": {},
     "output_type": "execute_result"
    }
   ],
   "source": [
    "df_ROS_Analysis.columns"
   ]
  },
  {
   "cell_type": "code",
   "execution_count": 5,
   "id": "c9c2a640-03c6-4779-9ade-6d4c60649a63",
   "metadata": {
    "tags": []
   },
   "outputs": [
    {
     "data": {
      "text/html": [
       "<div>\n",
       "<style scoped>\n",
       "    .dataframe tbody tr th:only-of-type {\n",
       "        vertical-align: middle;\n",
       "    }\n",
       "\n",
       "    .dataframe tbody tr th {\n",
       "        vertical-align: top;\n",
       "    }\n",
       "\n",
       "    .dataframe thead th {\n",
       "        text-align: right;\n",
       "    }\n",
       "</style>\n",
       "<table border=\"1\" class=\"dataframe\">\n",
       "  <thead>\n",
       "    <tr style=\"text-align: right;\">\n",
       "      <th></th>\n",
       "      <th>입원기간</th>\n",
       "      <th>고혈압여부</th>\n",
       "      <th>과거수술횟수</th>\n",
       "      <th>당뇨여부</th>\n",
       "      <th>우울증여부</th>\n",
       "      <th>체중</th>\n",
       "      <th>신장</th>\n",
       "      <th>성별</th>\n",
       "      <th>연령</th>\n",
       "      <th>헤모글로빈수치</th>\n",
       "      <th>Large Lymphocyte</th>\n",
       "    </tr>\n",
       "  </thead>\n",
       "  <tbody>\n",
       "    <tr>\n",
       "      <th>0</th>\n",
       "      <td>2</td>\n",
       "      <td>0</td>\n",
       "      <td>0</td>\n",
       "      <td>0</td>\n",
       "      <td>0</td>\n",
       "      <td>60.3</td>\n",
       "      <td>163</td>\n",
       "      <td>2</td>\n",
       "      <td>66</td>\n",
       "      <td>13.66</td>\n",
       "      <td>22.8</td>\n",
       "    </tr>\n",
       "    <tr>\n",
       "      <th>1</th>\n",
       "      <td>1</td>\n",
       "      <td>0</td>\n",
       "      <td>0</td>\n",
       "      <td>0</td>\n",
       "      <td>0</td>\n",
       "      <td>71.7</td>\n",
       "      <td>171</td>\n",
       "      <td>1</td>\n",
       "      <td>47</td>\n",
       "      <td>13.73</td>\n",
       "      <td>44.9</td>\n",
       "    </tr>\n",
       "    <tr>\n",
       "      <th>2</th>\n",
       "      <td>1</td>\n",
       "      <td>0</td>\n",
       "      <td>1</td>\n",
       "      <td>0</td>\n",
       "      <td>0</td>\n",
       "      <td>77.1</td>\n",
       "      <td>178</td>\n",
       "      <td>1</td>\n",
       "      <td>39</td>\n",
       "      <td>15.34</td>\n",
       "      <td>53.0</td>\n",
       "    </tr>\n",
       "    <tr>\n",
       "      <th>3</th>\n",
       "      <td>1</td>\n",
       "      <td>1</td>\n",
       "      <td>0</td>\n",
       "      <td>0</td>\n",
       "      <td>0</td>\n",
       "      <td>74.2</td>\n",
       "      <td>174</td>\n",
       "      <td>1</td>\n",
       "      <td>40</td>\n",
       "      <td>15.38</td>\n",
       "      <td>54.7</td>\n",
       "    </tr>\n",
       "    <tr>\n",
       "      <th>4</th>\n",
       "      <td>2</td>\n",
       "      <td>1</td>\n",
       "      <td>0</td>\n",
       "      <td>0</td>\n",
       "      <td>0</td>\n",
       "      <td>80.7</td>\n",
       "      <td>183</td>\n",
       "      <td>1</td>\n",
       "      <td>42</td>\n",
       "      <td>13.08</td>\n",
       "      <td>53.8</td>\n",
       "    </tr>\n",
       "    <tr>\n",
       "      <th>...</th>\n",
       "      <td>...</td>\n",
       "      <td>...</td>\n",
       "      <td>...</td>\n",
       "      <td>...</td>\n",
       "      <td>...</td>\n",
       "      <td>...</td>\n",
       "      <td>...</td>\n",
       "      <td>...</td>\n",
       "      <td>...</td>\n",
       "      <td>...</td>\n",
       "      <td>...</td>\n",
       "    </tr>\n",
       "    <tr>\n",
       "      <th>1748</th>\n",
       "      <td>12</td>\n",
       "      <td>0</td>\n",
       "      <td>0</td>\n",
       "      <td>0</td>\n",
       "      <td>0</td>\n",
       "      <td>52.0</td>\n",
       "      <td>163</td>\n",
       "      <td>2</td>\n",
       "      <td>29</td>\n",
       "      <td>13.70</td>\n",
       "      <td>32.4</td>\n",
       "    </tr>\n",
       "    <tr>\n",
       "      <th>1749</th>\n",
       "      <td>2</td>\n",
       "      <td>0</td>\n",
       "      <td>0</td>\n",
       "      <td>0</td>\n",
       "      <td>0</td>\n",
       "      <td>64.0</td>\n",
       "      <td>185</td>\n",
       "      <td>1</td>\n",
       "      <td>21</td>\n",
       "      <td>15.70</td>\n",
       "      <td>42.4</td>\n",
       "    </tr>\n",
       "    <tr>\n",
       "      <th>1750</th>\n",
       "      <td>3</td>\n",
       "      <td>0</td>\n",
       "      <td>0</td>\n",
       "      <td>0</td>\n",
       "      <td>0</td>\n",
       "      <td>60.0</td>\n",
       "      <td>160</td>\n",
       "      <td>1</td>\n",
       "      <td>43</td>\n",
       "      <td>15.60</td>\n",
       "      <td>30.8</td>\n",
       "    </tr>\n",
       "    <tr>\n",
       "      <th>1751</th>\n",
       "      <td>3</td>\n",
       "      <td>0</td>\n",
       "      <td>0</td>\n",
       "      <td>0</td>\n",
       "      <td>0</td>\n",
       "      <td>70.0</td>\n",
       "      <td>173</td>\n",
       "      <td>1</td>\n",
       "      <td>20</td>\n",
       "      <td>13.00</td>\n",
       "      <td>5.4</td>\n",
       "    </tr>\n",
       "    <tr>\n",
       "      <th>1752</th>\n",
       "      <td>3</td>\n",
       "      <td>0</td>\n",
       "      <td>0</td>\n",
       "      <td>0</td>\n",
       "      <td>0</td>\n",
       "      <td>70.0</td>\n",
       "      <td>167</td>\n",
       "      <td>1</td>\n",
       "      <td>61</td>\n",
       "      <td>14.40</td>\n",
       "      <td>36.7</td>\n",
       "    </tr>\n",
       "  </tbody>\n",
       "</table>\n",
       "<p>1753 rows × 11 columns</p>\n",
       "</div>"
      ],
      "text/plain": [
       "      입원기간  고혈압여부  과거수술횟수  당뇨여부  우울증여부    체중   신장  성별  연령  헤모글로빈수치  \\\n",
       "0        2      0       0     0      0  60.3  163   2  66    13.66   \n",
       "1        1      0       0     0      0  71.7  171   1  47    13.73   \n",
       "2        1      0       1     0      0  77.1  178   1  39    15.34   \n",
       "3        1      1       0     0      0  74.2  174   1  40    15.38   \n",
       "4        2      1       0     0      0  80.7  183   1  42    13.08   \n",
       "...    ...    ...     ...   ...    ...   ...  ...  ..  ..      ...   \n",
       "1748    12      0       0     0      0  52.0  163   2  29    13.70   \n",
       "1749     2      0       0     0      0  64.0  185   1  21    15.70   \n",
       "1750     3      0       0     0      0  60.0  160   1  43    15.60   \n",
       "1751     3      0       0     0      0  70.0  173   1  20    13.00   \n",
       "1752     3      0       0     0      0  70.0  167   1  61    14.40   \n",
       "\n",
       "      Large Lymphocyte  \n",
       "0                 22.8  \n",
       "1                 44.9  \n",
       "2                 53.0  \n",
       "3                 54.7  \n",
       "4                 53.8  \n",
       "...                ...  \n",
       "1748              32.4  \n",
       "1749              42.4  \n",
       "1750              30.8  \n",
       "1751               5.4  \n",
       "1752              36.7  \n",
       "\n",
       "[1753 rows x 11 columns]"
      ]
     },
     "execution_count": 5,
     "metadata": {},
     "output_type": "execute_result"
    }
   ],
   "source": [
    "df_ROS = df_ROS_Analysis[['입원기간', '고혈압여부', '과거수술횟수', '당뇨여부', '우울증여부',\n",
    "       '체중', '신장', '성별', '연령', '헤모글로빈수치', 'Large Lymphocyte']]\n",
    "df_ROS"
   ]
  },
  {
   "cell_type": "code",
   "execution_count": 6,
   "id": "4e4058b8-f219-4e66-9dd2-ecc449a6c590",
   "metadata": {
    "tags": []
   },
   "outputs": [
    {
     "name": "stdout",
     "output_type": "stream",
     "text": [
      "<class 'pandas.core.frame.DataFrame'>\n",
      "RangeIndex: 1753 entries, 0 to 1752\n",
      "Data columns (total 11 columns):\n",
      " #   Column            Non-Null Count  Dtype  \n",
      "---  ------            --------------  -----  \n",
      " 0   입원기간              1753 non-null   int64  \n",
      " 1   고혈압여부             1753 non-null   int64  \n",
      " 2   과거수술횟수            1753 non-null   int64  \n",
      " 3   당뇨여부              1753 non-null   int64  \n",
      " 4   우울증여부             1753 non-null   int64  \n",
      " 5   체중                1753 non-null   float64\n",
      " 6   신장                1753 non-null   int64  \n",
      " 7   성별                1753 non-null   int64  \n",
      " 8   연령                1753 non-null   int64  \n",
      " 9   헤모글로빈수치           1753 non-null   float64\n",
      " 10  Large Lymphocyte  1753 non-null   float64\n",
      "dtypes: float64(3), int64(8)\n",
      "memory usage: 150.8 KB\n"
     ]
    }
   ],
   "source": [
    "df_ROS.info()"
   ]
  },
  {
   "cell_type": "markdown",
   "id": "80bc507e-8dd0-4f08-a474-796ef44223cb",
   "metadata": {},
   "source": [
    "## 상관관계 확인\n",
    "- 목표변수 : '입원기간' \n",
    "- 설명변수 : \n",
    "    - '고혈압여부' : 크게 차이가 나지않지만 고혈압있는 환자가 입원기간이 더 길다.\n",
    "    - '과거수술횟수' :  수술횟수가 증가할수록 입원 기간도 증가한다.\n",
    "    - '당뇨여부' : 비슷한 수치가 보이므로 당뇨여부는 입원기간에 영향이 없어보인다.\n",
    "    - '우울증여부' : 우을증 여부가 많을수록 입원기간이 줄어드는것을 볼수 있다.\n",
    "    - '성별' : 큰 차이는 없지만 여자가 남자보다 입원기간이 근소한 차이로 더 길다.\n",
    "    - '연령' : 나이가 많은 환자가 입원기간이 길다.\n",
    "    - '헤모글로빈수치' : 수치가 낮은 환자가 입원기간이 길다.\n",
    "    - 'Large Lymphocyte' (면역기능) : 림프구 수치가 낮은 환자가 입원기간이 길다. \n",
    "    - '비만도' : 저체중인 환자가 입원기간이 길다.\n",
    "\n",
    "- 분석 스토리: 위 분석에서 따르면 우리의 상식선에서 예측이 가능한 결과들이 있지만 예상외의 결과들도 나왔다. 예를들어 '우울증여부'와 '비만도'의 결과는 예상과 반대의 결과값이 나왔다. 그리고 '당뇨여부'는 입원기간에 영향을 미칠줄 예상했지만 결과는 반대로 영향이 없어보이는 결과가 나왔다. 위 분석처럼 예상과 다른 변수들은 어떤 외부요인으로 저런 값들이 나오는지 추가 분석이 필요하다고 보여진다. 그외에 다른 설명변수들은 환자의 건강상태나 정신적인 상태가 입원여부에 어떤 영향을 끼치는지 나타내주고 있다. "
   ]
  },
  {
   "cell_type": "code",
   "execution_count": 7,
   "id": "094dfa41-cd65-43ba-b322-23e81e6ac0fb",
   "metadata": {
    "tags": []
   },
   "outputs": [
    {
     "data": {
      "text/plain": [
       "1     1078\n",
       "2      454\n",
       "3      157\n",
       "4       34\n",
       "5        6\n",
       "8        5\n",
       "0        3\n",
       "6        3\n",
       "11       3\n",
       "7        3\n",
       "46       1\n",
       "17       1\n",
       "9        1\n",
       "18       1\n",
       "16       1\n",
       "44       1\n",
       "12       1\n",
       "Name: 입원기간, dtype: int64"
      ]
     },
     "execution_count": 7,
     "metadata": {},
     "output_type": "execute_result"
    }
   ],
   "source": [
    "df_ROS['입원기간'].value_counts()"
   ]
  },
  {
   "cell_type": "code",
   "execution_count": 8,
   "id": "e361aba0-786a-47bf-9868-95a630ce2da1",
   "metadata": {
    "tags": []
   },
   "outputs": [
    {
     "data": {
      "text/plain": [
       "0    1521\n",
       "1     232\n",
       "Name: 고혈압여부, dtype: int64"
      ]
     },
     "execution_count": 8,
     "metadata": {},
     "output_type": "execute_result"
    }
   ],
   "source": [
    "df_ROS['고혈압여부'].value_counts()"
   ]
  },
  {
   "cell_type": "code",
   "execution_count": 9,
   "id": "fc5d0602-16ae-4f07-b93e-cd72c6166f5f",
   "metadata": {
    "tags": []
   },
   "outputs": [
    {
     "data": {
      "text/plain": [
       "0    1378\n",
       "1     215\n",
       "2     152\n",
       "3       8\n",
       "Name: 과거수술횟수, dtype: int64"
      ]
     },
     "execution_count": 9,
     "metadata": {},
     "output_type": "execute_result"
    }
   ],
   "source": [
    "df_ROS['과거수술횟수'].value_counts()"
   ]
  },
  {
   "cell_type": "code",
   "execution_count": 10,
   "id": "89965ebf-bf93-4a04-b974-2e6d0f348b08",
   "metadata": {
    "tags": []
   },
   "outputs": [
    {
     "data": {
      "text/plain": [
       "0    1645\n",
       "1     108\n",
       "Name: 당뇨여부, dtype: int64"
      ]
     },
     "execution_count": 10,
     "metadata": {},
     "output_type": "execute_result"
    }
   ],
   "source": [
    "df_ROS['당뇨여부'].value_counts()"
   ]
  },
  {
   "cell_type": "code",
   "execution_count": 11,
   "id": "71c8d875-1857-410e-84f2-8563d0044819",
   "metadata": {
    "tags": []
   },
   "outputs": [
    {
     "data": {
      "text/plain": [
       "0    1710\n",
       "1      42\n",
       "2       1\n",
       "Name: 우울증여부, dtype: int64"
      ]
     },
     "execution_count": 11,
     "metadata": {},
     "output_type": "execute_result"
    }
   ],
   "source": [
    "df_ROS['우울증여부'].value_counts()"
   ]
  },
  {
   "cell_type": "code",
   "execution_count": 12,
   "id": "c44cda4a-4589-47b4-b337-170afa4d2357",
   "metadata": {
    "tags": []
   },
   "outputs": [
    {
     "data": {
      "text/plain": [
       "14.70    30\n",
       "13.10    29\n",
       "14.90    28\n",
       "13.00    27\n",
       "15.40    27\n",
       "         ..\n",
       "15.82     1\n",
       "15.08     1\n",
       "12.43     1\n",
       "12.08     1\n",
       "8.60      1\n",
       "Name: 헤모글로빈수치, Length: 506, dtype: int64"
      ]
     },
     "execution_count": 12,
     "metadata": {},
     "output_type": "execute_result"
    }
   ],
   "source": [
    "df_ROS['헤모글로빈수치'].value_counts()"
   ]
  },
  {
   "cell_type": "markdown",
   "id": "ecaa533d-52b9-440e-9ec7-edcd5fe40c75",
   "metadata": {
    "tags": []
   },
   "source": [
    "#### 체중과 신장을 이용해 BMI 컬럼만들기"
   ]
  },
  {
   "cell_type": "code",
   "execution_count": 13,
   "id": "49060b36-69ac-4020-85bc-86937fe29147",
   "metadata": {
    "tags": []
   },
   "outputs": [
    {
     "name": "stdout",
     "output_type": "stream",
     "text": [
      "<class 'pandas.core.frame.DataFrame'>\n",
      "RangeIndex: 1753 entries, 0 to 1752\n",
      "Data columns (total 2 columns):\n",
      " #   Column  Non-Null Count  Dtype  \n",
      "---  ------  --------------  -----  \n",
      " 0   체중      1753 non-null   float64\n",
      " 1   신장      1753 non-null   int64  \n",
      "dtypes: float64(1), int64(1)\n",
      "memory usage: 27.5 KB\n"
     ]
    }
   ],
   "source": [
    "df_ROS[['체중', '신장']].info()"
   ]
  },
  {
   "cell_type": "code",
   "execution_count": 14,
   "id": "125dafaa-af8b-4057-a5c0-2106bd6af73b",
   "metadata": {
    "tags": []
   },
   "outputs": [
    {
     "name": "stderr",
     "output_type": "stream",
     "text": [
      "C:\\Users\\01-02\\AppData\\Local\\Temp\\ipykernel_11020\\2347698486.py:1: SettingWithCopyWarning: \n",
      "A value is trying to be set on a copy of a slice from a DataFrame.\n",
      "Try using .loc[row_indexer,col_indexer] = value instead\n",
      "\n",
      "See the caveats in the documentation: https://pandas.pydata.org/pandas-docs/stable/user_guide/indexing.html#returning-a-view-versus-a-copy\n",
      "  df_ROS['체중_str'] = df_ROS['체중'].astype(str)\n",
      "C:\\Users\\01-02\\AppData\\Local\\Temp\\ipykernel_11020\\2347698486.py:2: SettingWithCopyWarning: \n",
      "A value is trying to be set on a copy of a slice from a DataFrame.\n",
      "Try using .loc[row_indexer,col_indexer] = value instead\n",
      "\n",
      "See the caveats in the documentation: https://pandas.pydata.org/pandas-docs/stable/user_guide/indexing.html#returning-a-view-versus-a-copy\n",
      "  df_ROS['신장_str'] = df_ROS['신장'].astype(str)\n"
     ]
    }
   ],
   "source": [
    "df_ROS['체중_str'] = df_ROS['체중'].astype(str)\n",
    "df_ROS['신장_str'] = df_ROS['신장'].astype(str)"
   ]
  },
  {
   "cell_type": "code",
   "execution_count": 15,
   "id": "fe24a1fb-2612-4606-a6fa-d6d0db7e665c",
   "metadata": {},
   "outputs": [
    {
     "data": {
      "text/html": [
       "<div>\n",
       "<style scoped>\n",
       "    .dataframe tbody tr th:only-of-type {\n",
       "        vertical-align: middle;\n",
       "    }\n",
       "\n",
       "    .dataframe tbody tr th {\n",
       "        vertical-align: top;\n",
       "    }\n",
       "\n",
       "    .dataframe thead th {\n",
       "        text-align: right;\n",
       "    }\n",
       "</style>\n",
       "<table border=\"1\" class=\"dataframe\">\n",
       "  <thead>\n",
       "    <tr style=\"text-align: right;\">\n",
       "      <th></th>\n",
       "      <th>체중_str</th>\n",
       "      <th>신장_str</th>\n",
       "    </tr>\n",
       "  </thead>\n",
       "  <tbody>\n",
       "    <tr>\n",
       "      <th>0</th>\n",
       "      <td>60.3</td>\n",
       "      <td>163</td>\n",
       "    </tr>\n",
       "    <tr>\n",
       "      <th>1</th>\n",
       "      <td>71.7</td>\n",
       "      <td>171</td>\n",
       "    </tr>\n",
       "    <tr>\n",
       "      <th>2</th>\n",
       "      <td>77.1</td>\n",
       "      <td>178</td>\n",
       "    </tr>\n",
       "    <tr>\n",
       "      <th>3</th>\n",
       "      <td>74.2</td>\n",
       "      <td>174</td>\n",
       "    </tr>\n",
       "    <tr>\n",
       "      <th>4</th>\n",
       "      <td>80.7</td>\n",
       "      <td>183</td>\n",
       "    </tr>\n",
       "    <tr>\n",
       "      <th>...</th>\n",
       "      <td>...</td>\n",
       "      <td>...</td>\n",
       "    </tr>\n",
       "    <tr>\n",
       "      <th>1748</th>\n",
       "      <td>52.0</td>\n",
       "      <td>163</td>\n",
       "    </tr>\n",
       "    <tr>\n",
       "      <th>1749</th>\n",
       "      <td>64.0</td>\n",
       "      <td>185</td>\n",
       "    </tr>\n",
       "    <tr>\n",
       "      <th>1750</th>\n",
       "      <td>60.0</td>\n",
       "      <td>160</td>\n",
       "    </tr>\n",
       "    <tr>\n",
       "      <th>1751</th>\n",
       "      <td>70.0</td>\n",
       "      <td>173</td>\n",
       "    </tr>\n",
       "    <tr>\n",
       "      <th>1752</th>\n",
       "      <td>70.0</td>\n",
       "      <td>167</td>\n",
       "    </tr>\n",
       "  </tbody>\n",
       "</table>\n",
       "<p>1753 rows × 2 columns</p>\n",
       "</div>"
      ],
      "text/plain": [
       "     체중_str 신장_str\n",
       "0      60.3    163\n",
       "1      71.7    171\n",
       "2      77.1    178\n",
       "3      74.2    174\n",
       "4      80.7    183\n",
       "...     ...    ...\n",
       "1748   52.0    163\n",
       "1749   64.0    185\n",
       "1750   60.0    160\n",
       "1751   70.0    173\n",
       "1752   70.0    167\n",
       "\n",
       "[1753 rows x 2 columns]"
      ]
     },
     "execution_count": 15,
     "metadata": {},
     "output_type": "execute_result"
    }
   ],
   "source": [
    "df_ROS[['체중_str', '신장_str']]"
   ]
  },
  {
   "cell_type": "code",
   "execution_count": 16,
   "id": "11a3f44a-afc2-4f3d-a330-f750b521a2dd",
   "metadata": {
    "tags": []
   },
   "outputs": [
    {
     "name": "stderr",
     "output_type": "stream",
     "text": [
      "C:\\Users\\01-02\\AppData\\Local\\Temp\\ipykernel_11020\\2272525233.py:1: SettingWithCopyWarning: \n",
      "A value is trying to be set on a copy of a slice from a DataFrame.\n",
      "Try using .loc[row_indexer,col_indexer] = value instead\n",
      "\n",
      "See the caveats in the documentation: https://pandas.pydata.org/pandas-docs/stable/user_guide/indexing.html#returning-a-view-versus-a-copy\n",
      "  df_ROS['체중_str_num'] = pd.to_numeric(df_ROS['체중_str'])\n"
     ]
    },
    {
     "data": {
      "text/plain": [
       "0       60.3\n",
       "1       71.7\n",
       "2       77.1\n",
       "3       74.2\n",
       "4       80.7\n",
       "        ... \n",
       "1748    52.0\n",
       "1749    64.0\n",
       "1750    60.0\n",
       "1751    70.0\n",
       "1752    70.0\n",
       "Name: 체중_str_num, Length: 1753, dtype: float64"
      ]
     },
     "execution_count": 16,
     "metadata": {},
     "output_type": "execute_result"
    }
   ],
   "source": [
    "df_ROS['체중_str_num'] = pd.to_numeric(df_ROS['체중_str'])\n",
    "df_ROS['체중_str_num']"
   ]
  },
  {
   "cell_type": "code",
   "execution_count": 17,
   "id": "1d2a7d20-2f3e-44e1-a205-905c478ffc20",
   "metadata": {
    "tags": []
   },
   "outputs": [
    {
     "name": "stderr",
     "output_type": "stream",
     "text": [
      "C:\\Users\\01-02\\AppData\\Local\\Temp\\ipykernel_11020\\628115756.py:1: SettingWithCopyWarning: \n",
      "A value is trying to be set on a copy of a slice from a DataFrame.\n",
      "Try using .loc[row_indexer,col_indexer] = value instead\n",
      "\n",
      "See the caveats in the documentation: https://pandas.pydata.org/pandas-docs/stable/user_guide/indexing.html#returning-a-view-versus-a-copy\n",
      "  df_ROS['신장_str_num'] = pd.to_numeric(df_ROS['신장_str'])\n"
     ]
    },
    {
     "data": {
      "text/plain": [
       "0       163\n",
       "1       171\n",
       "2       178\n",
       "3       174\n",
       "4       183\n",
       "       ... \n",
       "1748    163\n",
       "1749    185\n",
       "1750    160\n",
       "1751    173\n",
       "1752    167\n",
       "Name: 신장_str_num, Length: 1753, dtype: int64"
      ]
     },
     "execution_count": 17,
     "metadata": {},
     "output_type": "execute_result"
    }
   ],
   "source": [
    "df_ROS['신장_str_num'] = pd.to_numeric(df_ROS['신장_str'])\n",
    "df_ROS['신장_str_num'] "
   ]
  },
  {
   "cell_type": "code",
   "execution_count": 18,
   "id": "ca58b6f5-665a-4e32-8935-e60d8a49ca7a",
   "metadata": {
    "tags": []
   },
   "outputs": [
    {
     "name": "stderr",
     "output_type": "stream",
     "text": [
      "C:\\Users\\01-02\\AppData\\Local\\Temp\\ipykernel_11020\\4168967935.py:1: SettingWithCopyWarning: \n",
      "A value is trying to be set on a copy of a slice from a DataFrame.\n",
      "Try using .loc[row_indexer,col_indexer] = value instead\n",
      "\n",
      "See the caveats in the documentation: https://pandas.pydata.org/pandas-docs/stable/user_guide/indexing.html#returning-a-view-versus-a-copy\n",
      "  df_ROS['신장_str_num_M'] = df_ROS['신장_str_num'] * 0.01\n"
     ]
    },
    {
     "data": {
      "text/plain": [
       "0       1.63\n",
       "1       1.71\n",
       "2       1.78\n",
       "3       1.74\n",
       "4       1.83\n",
       "        ... \n",
       "1748    1.63\n",
       "1749    1.85\n",
       "1750    1.60\n",
       "1751    1.73\n",
       "1752    1.67\n",
       "Name: 신장_str_num_M, Length: 1753, dtype: float64"
      ]
     },
     "execution_count": 18,
     "metadata": {},
     "output_type": "execute_result"
    }
   ],
   "source": [
    "df_ROS['신장_str_num_M'] = df_ROS['신장_str_num'] * 0.01\n",
    "df_ROS['신장_str_num_M']"
   ]
  },
  {
   "cell_type": "code",
   "execution_count": 19,
   "id": "ed16b6d1-a0dd-4097-b8d7-dd40696ad433",
   "metadata": {
    "tags": []
   },
   "outputs": [
    {
     "name": "stderr",
     "output_type": "stream",
     "text": [
      "C:\\Users\\01-02\\AppData\\Local\\Temp\\ipykernel_11020\\607245305.py:1: SettingWithCopyWarning: \n",
      "A value is trying to be set on a copy of a slice from a DataFrame.\n",
      "Try using .loc[row_indexer,col_indexer] = value instead\n",
      "\n",
      "See the caveats in the documentation: https://pandas.pydata.org/pandas-docs/stable/user_guide/indexing.html#returning-a-view-versus-a-copy\n",
      "  df_ROS['BMI'] = df_ROS['체중_str_num']/(df_ROS['신장_str_num_M'] * df_ROS['신장_str_num_M'])\n"
     ]
    },
    {
     "data": {
      "text/plain": [
       "0       22.695623\n",
       "1       24.520365\n",
       "2       24.334049\n",
       "3       24.507861\n",
       "4       24.097465\n",
       "          ...    \n",
       "1748    19.571681\n",
       "1749    18.699781\n",
       "1750    23.437500\n",
       "1751    23.388687\n",
       "1752    25.099502\n",
       "Name: BMI, Length: 1753, dtype: float64"
      ]
     },
     "execution_count": 19,
     "metadata": {},
     "output_type": "execute_result"
    }
   ],
   "source": [
    "df_ROS['BMI'] = df_ROS['체중_str_num']/(df_ROS['신장_str_num_M'] * df_ROS['신장_str_num_M'])\n",
    "df_ROS['BMI']"
   ]
  },
  {
   "cell_type": "code",
   "execution_count": 20,
   "id": "9011b5f4-cd7f-4907-82fb-228ada12fbfa",
   "metadata": {
    "tags": []
   },
   "outputs": [
    {
     "name": "stderr",
     "output_type": "stream",
     "text": [
      "C:\\Users\\01-02\\AppData\\Local\\Temp\\ipykernel_11020\\3356379145.py:1: SettingWithCopyWarning: \n",
      "A value is trying to be set on a copy of a slice from a DataFrame.\n",
      "Try using .loc[row_indexer,col_indexer] = value instead\n",
      "\n",
      "See the caveats in the documentation: https://pandas.pydata.org/pandas-docs/stable/user_guide/indexing.html#returning-a-view-versus-a-copy\n",
      "  df_ROS[['체중', '신장']] = df_ROS[['체중', '신장']].copy()\n"
     ]
    },
    {
     "data": {
      "text/html": [
       "<div>\n",
       "<style scoped>\n",
       "    .dataframe tbody tr th:only-of-type {\n",
       "        vertical-align: middle;\n",
       "    }\n",
       "\n",
       "    .dataframe tbody tr th {\n",
       "        vertical-align: top;\n",
       "    }\n",
       "\n",
       "    .dataframe thead th {\n",
       "        text-align: right;\n",
       "    }\n",
       "</style>\n",
       "<table border=\"1\" class=\"dataframe\">\n",
       "  <thead>\n",
       "    <tr style=\"text-align: right;\">\n",
       "      <th></th>\n",
       "      <th>체중</th>\n",
       "      <th>신장</th>\n",
       "    </tr>\n",
       "  </thead>\n",
       "  <tbody>\n",
       "    <tr>\n",
       "      <th>0</th>\n",
       "      <td>60.3</td>\n",
       "      <td>163</td>\n",
       "    </tr>\n",
       "    <tr>\n",
       "      <th>1</th>\n",
       "      <td>71.7</td>\n",
       "      <td>171</td>\n",
       "    </tr>\n",
       "    <tr>\n",
       "      <th>2</th>\n",
       "      <td>77.1</td>\n",
       "      <td>178</td>\n",
       "    </tr>\n",
       "    <tr>\n",
       "      <th>3</th>\n",
       "      <td>74.2</td>\n",
       "      <td>174</td>\n",
       "    </tr>\n",
       "    <tr>\n",
       "      <th>4</th>\n",
       "      <td>80.7</td>\n",
       "      <td>183</td>\n",
       "    </tr>\n",
       "    <tr>\n",
       "      <th>...</th>\n",
       "      <td>...</td>\n",
       "      <td>...</td>\n",
       "    </tr>\n",
       "    <tr>\n",
       "      <th>1748</th>\n",
       "      <td>52.0</td>\n",
       "      <td>163</td>\n",
       "    </tr>\n",
       "    <tr>\n",
       "      <th>1749</th>\n",
       "      <td>64.0</td>\n",
       "      <td>185</td>\n",
       "    </tr>\n",
       "    <tr>\n",
       "      <th>1750</th>\n",
       "      <td>60.0</td>\n",
       "      <td>160</td>\n",
       "    </tr>\n",
       "    <tr>\n",
       "      <th>1751</th>\n",
       "      <td>70.0</td>\n",
       "      <td>173</td>\n",
       "    </tr>\n",
       "    <tr>\n",
       "      <th>1752</th>\n",
       "      <td>70.0</td>\n",
       "      <td>167</td>\n",
       "    </tr>\n",
       "  </tbody>\n",
       "</table>\n",
       "<p>1753 rows × 2 columns</p>\n",
       "</div>"
      ],
      "text/plain": [
       "        체중   신장\n",
       "0     60.3  163\n",
       "1     71.7  171\n",
       "2     77.1  178\n",
       "3     74.2  174\n",
       "4     80.7  183\n",
       "...    ...  ...\n",
       "1748  52.0  163\n",
       "1749  64.0  185\n",
       "1750  60.0  160\n",
       "1751  70.0  173\n",
       "1752  70.0  167\n",
       "\n",
       "[1753 rows x 2 columns]"
      ]
     },
     "execution_count": 20,
     "metadata": {},
     "output_type": "execute_result"
    }
   ],
   "source": [
    "df_ROS[['체중', '신장']] = df_ROS[['체중', '신장']].copy()\n",
    "df_ROS[['체중', '신장']]"
   ]
  },
  {
   "cell_type": "code",
   "execution_count": 21,
   "id": "42ee5e3e-ab0d-47fb-b257-3d98c690b7fb",
   "metadata": {
    "tags": []
   },
   "outputs": [
    {
     "data": {
      "text/html": [
       "<div>\n",
       "<style scoped>\n",
       "    .dataframe tbody tr th:only-of-type {\n",
       "        vertical-align: middle;\n",
       "    }\n",
       "\n",
       "    .dataframe tbody tr th {\n",
       "        vertical-align: top;\n",
       "    }\n",
       "\n",
       "    .dataframe thead th {\n",
       "        text-align: right;\n",
       "    }\n",
       "</style>\n",
       "<table border=\"1\" class=\"dataframe\">\n",
       "  <thead>\n",
       "    <tr style=\"text-align: right;\">\n",
       "      <th></th>\n",
       "      <th>입원기간</th>\n",
       "      <th>고혈압여부</th>\n",
       "      <th>과거수술횟수</th>\n",
       "      <th>당뇨여부</th>\n",
       "      <th>우울증여부</th>\n",
       "      <th>BMI</th>\n",
       "      <th>성별</th>\n",
       "      <th>연령</th>\n",
       "      <th>헤모글로빈수치</th>\n",
       "      <th>Large Lymphocyte</th>\n",
       "    </tr>\n",
       "  </thead>\n",
       "  <tbody>\n",
       "    <tr>\n",
       "      <th>0</th>\n",
       "      <td>2</td>\n",
       "      <td>0</td>\n",
       "      <td>0</td>\n",
       "      <td>0</td>\n",
       "      <td>0</td>\n",
       "      <td>22.695623</td>\n",
       "      <td>2</td>\n",
       "      <td>66</td>\n",
       "      <td>13.66</td>\n",
       "      <td>22.8</td>\n",
       "    </tr>\n",
       "    <tr>\n",
       "      <th>1</th>\n",
       "      <td>1</td>\n",
       "      <td>0</td>\n",
       "      <td>0</td>\n",
       "      <td>0</td>\n",
       "      <td>0</td>\n",
       "      <td>24.520365</td>\n",
       "      <td>1</td>\n",
       "      <td>47</td>\n",
       "      <td>13.73</td>\n",
       "      <td>44.9</td>\n",
       "    </tr>\n",
       "    <tr>\n",
       "      <th>2</th>\n",
       "      <td>1</td>\n",
       "      <td>0</td>\n",
       "      <td>1</td>\n",
       "      <td>0</td>\n",
       "      <td>0</td>\n",
       "      <td>24.334049</td>\n",
       "      <td>1</td>\n",
       "      <td>39</td>\n",
       "      <td>15.34</td>\n",
       "      <td>53.0</td>\n",
       "    </tr>\n",
       "    <tr>\n",
       "      <th>3</th>\n",
       "      <td>1</td>\n",
       "      <td>1</td>\n",
       "      <td>0</td>\n",
       "      <td>0</td>\n",
       "      <td>0</td>\n",
       "      <td>24.507861</td>\n",
       "      <td>1</td>\n",
       "      <td>40</td>\n",
       "      <td>15.38</td>\n",
       "      <td>54.7</td>\n",
       "    </tr>\n",
       "    <tr>\n",
       "      <th>4</th>\n",
       "      <td>2</td>\n",
       "      <td>1</td>\n",
       "      <td>0</td>\n",
       "      <td>0</td>\n",
       "      <td>0</td>\n",
       "      <td>24.097465</td>\n",
       "      <td>1</td>\n",
       "      <td>42</td>\n",
       "      <td>13.08</td>\n",
       "      <td>53.8</td>\n",
       "    </tr>\n",
       "    <tr>\n",
       "      <th>...</th>\n",
       "      <td>...</td>\n",
       "      <td>...</td>\n",
       "      <td>...</td>\n",
       "      <td>...</td>\n",
       "      <td>...</td>\n",
       "      <td>...</td>\n",
       "      <td>...</td>\n",
       "      <td>...</td>\n",
       "      <td>...</td>\n",
       "      <td>...</td>\n",
       "    </tr>\n",
       "    <tr>\n",
       "      <th>1748</th>\n",
       "      <td>12</td>\n",
       "      <td>0</td>\n",
       "      <td>0</td>\n",
       "      <td>0</td>\n",
       "      <td>0</td>\n",
       "      <td>19.571681</td>\n",
       "      <td>2</td>\n",
       "      <td>29</td>\n",
       "      <td>13.70</td>\n",
       "      <td>32.4</td>\n",
       "    </tr>\n",
       "    <tr>\n",
       "      <th>1749</th>\n",
       "      <td>2</td>\n",
       "      <td>0</td>\n",
       "      <td>0</td>\n",
       "      <td>0</td>\n",
       "      <td>0</td>\n",
       "      <td>18.699781</td>\n",
       "      <td>1</td>\n",
       "      <td>21</td>\n",
       "      <td>15.70</td>\n",
       "      <td>42.4</td>\n",
       "    </tr>\n",
       "    <tr>\n",
       "      <th>1750</th>\n",
       "      <td>3</td>\n",
       "      <td>0</td>\n",
       "      <td>0</td>\n",
       "      <td>0</td>\n",
       "      <td>0</td>\n",
       "      <td>23.437500</td>\n",
       "      <td>1</td>\n",
       "      <td>43</td>\n",
       "      <td>15.60</td>\n",
       "      <td>30.8</td>\n",
       "    </tr>\n",
       "    <tr>\n",
       "      <th>1751</th>\n",
       "      <td>3</td>\n",
       "      <td>0</td>\n",
       "      <td>0</td>\n",
       "      <td>0</td>\n",
       "      <td>0</td>\n",
       "      <td>23.388687</td>\n",
       "      <td>1</td>\n",
       "      <td>20</td>\n",
       "      <td>13.00</td>\n",
       "      <td>5.4</td>\n",
       "    </tr>\n",
       "    <tr>\n",
       "      <th>1752</th>\n",
       "      <td>3</td>\n",
       "      <td>0</td>\n",
       "      <td>0</td>\n",
       "      <td>0</td>\n",
       "      <td>0</td>\n",
       "      <td>25.099502</td>\n",
       "      <td>1</td>\n",
       "      <td>61</td>\n",
       "      <td>14.40</td>\n",
       "      <td>36.7</td>\n",
       "    </tr>\n",
       "  </tbody>\n",
       "</table>\n",
       "<p>1753 rows × 10 columns</p>\n",
       "</div>"
      ],
      "text/plain": [
       "      입원기간  고혈압여부  과거수술횟수  당뇨여부  우울증여부        BMI  성별  연령  헤모글로빈수치  \\\n",
       "0        2      0       0     0      0  22.695623   2  66    13.66   \n",
       "1        1      0       0     0      0  24.520365   1  47    13.73   \n",
       "2        1      0       1     0      0  24.334049   1  39    15.34   \n",
       "3        1      1       0     0      0  24.507861   1  40    15.38   \n",
       "4        2      1       0     0      0  24.097465   1  42    13.08   \n",
       "...    ...    ...     ...   ...    ...        ...  ..  ..      ...   \n",
       "1748    12      0       0     0      0  19.571681   2  29    13.70   \n",
       "1749     2      0       0     0      0  18.699781   1  21    15.70   \n",
       "1750     3      0       0     0      0  23.437500   1  43    15.60   \n",
       "1751     3      0       0     0      0  23.388687   1  20    13.00   \n",
       "1752     3      0       0     0      0  25.099502   1  61    14.40   \n",
       "\n",
       "      Large Lymphocyte  \n",
       "0                 22.8  \n",
       "1                 44.9  \n",
       "2                 53.0  \n",
       "3                 54.7  \n",
       "4                 53.8  \n",
       "...                ...  \n",
       "1748              32.4  \n",
       "1749              42.4  \n",
       "1750              30.8  \n",
       "1751               5.4  \n",
       "1752              36.7  \n",
       "\n",
       "[1753 rows x 10 columns]"
      ]
     },
     "execution_count": 21,
     "metadata": {},
     "output_type": "execute_result"
    }
   ],
   "source": [
    "df_ROS = df_ROS[['입원기간', '고혈압여부', '과거수술횟수', '당뇨여부', '우울증여부',\n",
    "       'BMI', '성별', '연령', '헤모글로빈수치', 'Large Lymphocyte']]\n",
    "df_ROS"
   ]
  },
  {
   "cell_type": "markdown",
   "id": "c9814986-6520-460f-95a9-6679f09e2b3d",
   "metadata": {
    "tags": []
   },
   "source": [
    "#### 비만도 컬럼 만들기\n"
   ]
  },
  {
   "cell_type": "code",
   "execution_count": 22,
   "id": "ec60d5cf-72af-4a96-8ed4-2a6c9fa9605f",
   "metadata": {
    "tags": []
   },
   "outputs": [],
   "source": [
    "# 출처 Chat GPT\n",
    "def classify_bmi_range(bmi): \n",
    "    if bmi < 18.5:\n",
    "        return '저체중'\n",
    "    elif 18.5 <= bmi < 23:\n",
    "        return '정상'\n",
    "    elif 23 <= bmi < 25:\n",
    "        return '과체중'\n",
    "    else:\n",
    "        return '비만'"
   ]
  },
  {
   "cell_type": "code",
   "execution_count": 23,
   "id": "0b1f6a61-dea9-45eb-922f-2bdd992fbae3",
   "metadata": {
    "tags": []
   },
   "outputs": [
    {
     "name": "stderr",
     "output_type": "stream",
     "text": [
      "C:\\Users\\01-02\\AppData\\Local\\Temp\\ipykernel_11020\\139096626.py:1: SettingWithCopyWarning: \n",
      "A value is trying to be set on a copy of a slice from a DataFrame.\n",
      "Try using .loc[row_indexer,col_indexer] = value instead\n",
      "\n",
      "See the caveats in the documentation: https://pandas.pydata.org/pandas-docs/stable/user_guide/indexing.html#returning-a-view-versus-a-copy\n",
      "  df_ROS['비만도'] = df_ROS['BMI'].apply(classify_bmi_range)\n"
     ]
    }
   ],
   "source": [
    "df_ROS['비만도'] = df_ROS['BMI'].apply(classify_bmi_range)"
   ]
  },
  {
   "cell_type": "code",
   "execution_count": 24,
   "id": "e4edd2a6-45f1-47fa-a4bd-b7d2844425d7",
   "metadata": {
    "tags": []
   },
   "outputs": [
    {
     "data": {
      "text/html": [
       "<div>\n",
       "<style scoped>\n",
       "    .dataframe tbody tr th:only-of-type {\n",
       "        vertical-align: middle;\n",
       "    }\n",
       "\n",
       "    .dataframe tbody tr th {\n",
       "        vertical-align: top;\n",
       "    }\n",
       "\n",
       "    .dataframe thead th {\n",
       "        text-align: right;\n",
       "    }\n",
       "</style>\n",
       "<table border=\"1\" class=\"dataframe\">\n",
       "  <thead>\n",
       "    <tr style=\"text-align: right;\">\n",
       "      <th></th>\n",
       "      <th>입원기간</th>\n",
       "      <th>고혈압여부</th>\n",
       "      <th>과거수술횟수</th>\n",
       "      <th>당뇨여부</th>\n",
       "      <th>우울증여부</th>\n",
       "      <th>BMI</th>\n",
       "      <th>성별</th>\n",
       "      <th>연령</th>\n",
       "      <th>헤모글로빈수치</th>\n",
       "      <th>Large Lymphocyte</th>\n",
       "      <th>비만도</th>\n",
       "    </tr>\n",
       "  </thead>\n",
       "  <tbody>\n",
       "    <tr>\n",
       "      <th>0</th>\n",
       "      <td>2</td>\n",
       "      <td>0</td>\n",
       "      <td>0</td>\n",
       "      <td>0</td>\n",
       "      <td>0</td>\n",
       "      <td>22.695623</td>\n",
       "      <td>2</td>\n",
       "      <td>66</td>\n",
       "      <td>13.66</td>\n",
       "      <td>22.8</td>\n",
       "      <td>정상</td>\n",
       "    </tr>\n",
       "    <tr>\n",
       "      <th>1</th>\n",
       "      <td>1</td>\n",
       "      <td>0</td>\n",
       "      <td>0</td>\n",
       "      <td>0</td>\n",
       "      <td>0</td>\n",
       "      <td>24.520365</td>\n",
       "      <td>1</td>\n",
       "      <td>47</td>\n",
       "      <td>13.73</td>\n",
       "      <td>44.9</td>\n",
       "      <td>과체중</td>\n",
       "    </tr>\n",
       "    <tr>\n",
       "      <th>2</th>\n",
       "      <td>1</td>\n",
       "      <td>0</td>\n",
       "      <td>1</td>\n",
       "      <td>0</td>\n",
       "      <td>0</td>\n",
       "      <td>24.334049</td>\n",
       "      <td>1</td>\n",
       "      <td>39</td>\n",
       "      <td>15.34</td>\n",
       "      <td>53.0</td>\n",
       "      <td>과체중</td>\n",
       "    </tr>\n",
       "    <tr>\n",
       "      <th>3</th>\n",
       "      <td>1</td>\n",
       "      <td>1</td>\n",
       "      <td>0</td>\n",
       "      <td>0</td>\n",
       "      <td>0</td>\n",
       "      <td>24.507861</td>\n",
       "      <td>1</td>\n",
       "      <td>40</td>\n",
       "      <td>15.38</td>\n",
       "      <td>54.7</td>\n",
       "      <td>과체중</td>\n",
       "    </tr>\n",
       "    <tr>\n",
       "      <th>4</th>\n",
       "      <td>2</td>\n",
       "      <td>1</td>\n",
       "      <td>0</td>\n",
       "      <td>0</td>\n",
       "      <td>0</td>\n",
       "      <td>24.097465</td>\n",
       "      <td>1</td>\n",
       "      <td>42</td>\n",
       "      <td>13.08</td>\n",
       "      <td>53.8</td>\n",
       "      <td>과체중</td>\n",
       "    </tr>\n",
       "    <tr>\n",
       "      <th>...</th>\n",
       "      <td>...</td>\n",
       "      <td>...</td>\n",
       "      <td>...</td>\n",
       "      <td>...</td>\n",
       "      <td>...</td>\n",
       "      <td>...</td>\n",
       "      <td>...</td>\n",
       "      <td>...</td>\n",
       "      <td>...</td>\n",
       "      <td>...</td>\n",
       "      <td>...</td>\n",
       "    </tr>\n",
       "    <tr>\n",
       "      <th>1748</th>\n",
       "      <td>12</td>\n",
       "      <td>0</td>\n",
       "      <td>0</td>\n",
       "      <td>0</td>\n",
       "      <td>0</td>\n",
       "      <td>19.571681</td>\n",
       "      <td>2</td>\n",
       "      <td>29</td>\n",
       "      <td>13.70</td>\n",
       "      <td>32.4</td>\n",
       "      <td>정상</td>\n",
       "    </tr>\n",
       "    <tr>\n",
       "      <th>1749</th>\n",
       "      <td>2</td>\n",
       "      <td>0</td>\n",
       "      <td>0</td>\n",
       "      <td>0</td>\n",
       "      <td>0</td>\n",
       "      <td>18.699781</td>\n",
       "      <td>1</td>\n",
       "      <td>21</td>\n",
       "      <td>15.70</td>\n",
       "      <td>42.4</td>\n",
       "      <td>정상</td>\n",
       "    </tr>\n",
       "    <tr>\n",
       "      <th>1750</th>\n",
       "      <td>3</td>\n",
       "      <td>0</td>\n",
       "      <td>0</td>\n",
       "      <td>0</td>\n",
       "      <td>0</td>\n",
       "      <td>23.437500</td>\n",
       "      <td>1</td>\n",
       "      <td>43</td>\n",
       "      <td>15.60</td>\n",
       "      <td>30.8</td>\n",
       "      <td>과체중</td>\n",
       "    </tr>\n",
       "    <tr>\n",
       "      <th>1751</th>\n",
       "      <td>3</td>\n",
       "      <td>0</td>\n",
       "      <td>0</td>\n",
       "      <td>0</td>\n",
       "      <td>0</td>\n",
       "      <td>23.388687</td>\n",
       "      <td>1</td>\n",
       "      <td>20</td>\n",
       "      <td>13.00</td>\n",
       "      <td>5.4</td>\n",
       "      <td>과체중</td>\n",
       "    </tr>\n",
       "    <tr>\n",
       "      <th>1752</th>\n",
       "      <td>3</td>\n",
       "      <td>0</td>\n",
       "      <td>0</td>\n",
       "      <td>0</td>\n",
       "      <td>0</td>\n",
       "      <td>25.099502</td>\n",
       "      <td>1</td>\n",
       "      <td>61</td>\n",
       "      <td>14.40</td>\n",
       "      <td>36.7</td>\n",
       "      <td>비만</td>\n",
       "    </tr>\n",
       "  </tbody>\n",
       "</table>\n",
       "<p>1753 rows × 11 columns</p>\n",
       "</div>"
      ],
      "text/plain": [
       "      입원기간  고혈압여부  과거수술횟수  당뇨여부  우울증여부        BMI  성별  연령  헤모글로빈수치  \\\n",
       "0        2      0       0     0      0  22.695623   2  66    13.66   \n",
       "1        1      0       0     0      0  24.520365   1  47    13.73   \n",
       "2        1      0       1     0      0  24.334049   1  39    15.34   \n",
       "3        1      1       0     0      0  24.507861   1  40    15.38   \n",
       "4        2      1       0     0      0  24.097465   1  42    13.08   \n",
       "...    ...    ...     ...   ...    ...        ...  ..  ..      ...   \n",
       "1748    12      0       0     0      0  19.571681   2  29    13.70   \n",
       "1749     2      0       0     0      0  18.699781   1  21    15.70   \n",
       "1750     3      0       0     0      0  23.437500   1  43    15.60   \n",
       "1751     3      0       0     0      0  23.388687   1  20    13.00   \n",
       "1752     3      0       0     0      0  25.099502   1  61    14.40   \n",
       "\n",
       "      Large Lymphocyte  비만도  \n",
       "0                 22.8   정상  \n",
       "1                 44.9  과체중  \n",
       "2                 53.0  과체중  \n",
       "3                 54.7  과체중  \n",
       "4                 53.8  과체중  \n",
       "...                ...  ...  \n",
       "1748              32.4   정상  \n",
       "1749              42.4   정상  \n",
       "1750              30.8  과체중  \n",
       "1751               5.4  과체중  \n",
       "1752              36.7   비만  \n",
       "\n",
       "[1753 rows x 11 columns]"
      ]
     },
     "execution_count": 24,
     "metadata": {},
     "output_type": "execute_result"
    }
   ],
   "source": [
    "df_ROS"
   ]
  },
  {
   "cell_type": "code",
   "execution_count": 25,
   "id": "86803011-1f2b-4f41-b788-168e69d046e9",
   "metadata": {
    "tags": []
   },
   "outputs": [
    {
     "data": {
      "text/plain": [
       "<Axes: xlabel='비만도', ylabel='Count'>"
      ]
     },
     "execution_count": 25,
     "metadata": {},
     "output_type": "execute_result"
    },
    {
     "data": {
      "image/png": "[encoded data removed]",
      "text/plain": [
       "<Figure size 640x480 with 1 Axes>"
      ]
     },
     "metadata": {},
     "output_type": "display_data"
    }
   ],
   "source": [
    "sns.histplot(data=df_ROS, x='비만도', kde=True)"
   ]
  },
  {
   "cell_type": "code",
   "execution_count": 26,
   "id": "91458c7c-f29b-4aa1-9c25-5011f8f13173",
   "metadata": {
    "tags": []
   },
   "outputs": [
    {
     "data": {
      "text/plain": [
       "과체중    779\n",
       "정상     519\n",
       "비만     421\n",
       "저체중     34\n",
       "Name: 비만도, dtype: int64"
      ]
     },
     "execution_count": 26,
     "metadata": {},
     "output_type": "execute_result"
    }
   ],
   "source": [
    "df_ROS['비만도'].value_counts()"
   ]
  },
  {
   "cell_type": "markdown",
   "id": "5ff975a3-1811-4bc5-8574-f008f7d13976",
   "metadata": {},
   "source": [
    "#### 연속형/연속형에 대한 시각화"
   ]
  },
  {
   "cell_type": "code",
   "execution_count": 27,
   "id": "3093c12c-03e1-4d61-82ce-8d8901b789ab",
   "metadata": {
    "tags": []
   },
   "outputs": [
    {
     "name": "stdout",
     "output_type": "stream",
     "text": [
      "<class 'pandas.core.frame.DataFrame'>\n",
      "RangeIndex: 1753 entries, 0 to 1752\n",
      "Data columns (total 11 columns):\n",
      " #   Column            Non-Null Count  Dtype  \n",
      "---  ------            --------------  -----  \n",
      " 0   입원기간              1753 non-null   int64  \n",
      " 1   고혈압여부             1753 non-null   object \n",
      " 2   과거수술횟수            1753 non-null   object \n",
      " 3   당뇨여부              1753 non-null   object \n",
      " 4   우울증여부             1753 non-null   object \n",
      " 5   BMI               1753 non-null   float64\n",
      " 6   성별                1753 non-null   object \n",
      " 7   연령                1753 non-null   int64  \n",
      " 8   헤모글로빈수치           1753 non-null   float64\n",
      " 9   Large Lymphocyte  1753 non-null   float64\n",
      " 10  비만도               1753 non-null   object \n",
      "dtypes: float64(3), int64(2), object(6)\n",
      "memory usage: 150.8+ KB\n"
     ]
    },
    {
     "name": "stderr",
     "output_type": "stream",
     "text": [
      "C:\\Users\\01-02\\AppData\\Local\\Temp\\ipykernel_11020\\4187829451.py:1: SettingWithCopyWarning: \n",
      "A value is trying to be set on a copy of a slice from a DataFrame.\n",
      "Try using .loc[row_indexer,col_indexer] = value instead\n",
      "\n",
      "See the caveats in the documentation: https://pandas.pydata.org/pandas-docs/stable/user_guide/indexing.html#returning-a-view-versus-a-copy\n",
      "  df_ROS[['고혈압여부', '과거수술횟수', '당뇨여부', '우울증여부', '성별']] = df_ROS[['고혈압여부', '과거수술횟수', '당뇨여부', '우울증여부', '성별']].astype(object).copy()\n"
     ]
    }
   ],
   "source": [
    "df_ROS[['고혈압여부', '과거수술횟수', '당뇨여부', '우울증여부', '성별']] = df_ROS[['고혈압여부', '과거수술횟수', '당뇨여부', '우울증여부', '성별']].astype(object).copy()\n",
    "df_ROS.info()"
   ]
  },
  {
   "cell_type": "code",
   "execution_count": 28,
   "id": "fc73aa39-f150-4fed-a637-f02e608fcaf0",
   "metadata": {
    "tags": []
   },
   "outputs": [
    {
     "data": {
      "text/plain": [
       "['연령', '헤모글로빈수치', 'Large Lymphocyte']"
      ]
     },
     "execution_count": 28,
     "metadata": {},
     "output_type": "execute_result"
    }
   ],
   "source": [
    "df_ROS_int = df_ROS.describe().columns.to_list()[2:]\n",
    "df_ROS_int"
   ]
  },
  {
   "cell_type": "code",
   "execution_count": 34,
   "id": "add336a4-8390-4ad3-8c26-a37bbdb345d0",
   "metadata": {
    "tags": []
   },
   "outputs": [
    {
     "data": {
      "image/png": "[encoded data removed]",
      "text/plain": [
       "<Figure size 640x480 with 1 Axes>"
      ]
     },
     "metadata": {},
     "output_type": "display_data"
    },
    {
     "data": {
      "image/png": "[encoded data removed]",
      "text/plain": [
       "<Figure size 640x480 with 1 Axes>"
      ]
     },
     "metadata": {},
     "output_type": "display_data"
    },
    {
     "data": {
      "image/png": "[encoded data removed]",
      "text/plain": [
       "<Figure size 640x480 with 1 Axes>"
      ]
     },
     "metadata": {},
     "output_type": "display_data"
    }
   ],
   "source": [
    "for item in df_ROS_int :\n",
    "    sns.lineplot(data=df_ROS, x=item, y='입원기간')\n",
    "    plt.show()"
   ]
  },
  {
   "cell_type": "markdown",
   "id": "d1306d42-df8a-404f-9e15-3335b720607d",
   "metadata": {},
   "source": [
    "#### 연속형/범주형에 대한 시각화"
   ]
  },
  {
   "cell_type": "code",
   "execution_count": 30,
   "id": "3721db2b-6b03-44e9-a258-30ef214b963a",
   "metadata": {
    "tags": []
   },
   "outputs": [
    {
     "data": {
      "text/plain": [
       "['고혈압여부', '과거수술횟수', '당뇨여부', '우울증여부', '성별', '비만도']"
      ]
     },
     "execution_count": 30,
     "metadata": {},
     "output_type": "execute_result"
    }
   ],
   "source": [
    "df_ROS_obj = df_ROS.describe(include=object).columns.to_list()\n",
    "df_ROS_obj"
   ]
  },
  {
   "cell_type": "code",
   "execution_count": 31,
   "id": "7501f394-0e62-4ba7-af6b-c807d8273c4a",
   "metadata": {
    "tags": []
   },
   "outputs": [
    {
     "data": {
      "image/png": "[encoded data removed]",
      "text/plain": [
       "<Figure size 640x480 with 1 Axes>"
      ]
     },
     "metadata": {},
     "output_type": "display_data"
    },
    {
     "data": {
      "image/png": "[encoded data removed]",
      "text/plain": [
       "<Figure size 640x480 with 1 Axes>"
      ]
     },
     "metadata": {},
     "output_type": "display_data"
    },
    {
     "data": {
      "image/png": "[encoded data removed]",
      "text/plain": [
       "<Figure size 640x480 with 1 Axes>"
      ]
     },
     "metadata": {},
     "output_type": "display_data"
    },
    {
     "data": {
      "image/png": "[encoded data removed]",
      "text/plain": [
       "<Figure size 640x480 with 1 Axes>"
      ]
     },
     "metadata": {},
     "output_type": "display_data"
    },
    {
     "data": {
      "image/png": "[encoded data removed]",
      "text/plain": [
       "<Figure size 640x480 with 1 Axes>"
      ]
     },
     "metadata": {},
     "output_type": "display_data"
    },
    {
     "data": {
      "image/png": "[encoded data removed]",
      "text/plain": [
       "<Figure size 640x480 with 1 Axes>"
      ]
     },
     "metadata": {},
     "output_type": "display_data"
    }
   ],
   "source": [
    "for item in df_ROS_obj :\n",
    "    sns.barplot(data=df_ROS, x=item, y='입원기간')\n",
    "    plt.show()"
   ]
  },
  {
   "cell_type": "code",
   "execution_count": null,
   "id": "8403d009-4bfc-4374-8d5d-dd350ed67727",
   "metadata": {},
   "outputs": [],
   "source": []
  }
 ],
 "metadata": {
  "kernelspec": {
   "display_name": "Python 3 (ipykernel)",
   "language": "python",
   "name": "python3"
  },
  "language_info": {
   "codemirror_mode": {
    "name": "ipython",
    "version": 3
   },
   "file_extension": ".py",
   "mimetype": "text/x-python",
   "name": "python",
   "nbconvert_exporter": "python",
   "pygments_lexer": "ipython3",
   "version": "3.11.3"
  }
 },
 "nbformat": 4,
 "nbformat_minor": 5
}
